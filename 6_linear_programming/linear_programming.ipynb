{
 "cells": [
  {
   "cell_type": "code",
   "execution_count": 27,
   "metadata": {},
   "outputs": [],
   "source": [
    "from simplex import simplex\n",
    "from scipy.optimize import linprog\n",
    "import matplotlib.pyplot as plt\n",
    "import numpy as np"
   ]
  },
  {
   "cell_type": "markdown",
   "metadata": {},
   "source": [
    "Consider the following linear programming problem\n",
    "\n",
    "\\begin{equation*}\n",
    "\t\\begin{aligned}\n",
    "\t\t& \\underset{\\mathbf{x}}{\\text{min}}\n",
    "\t\t& f(\\mathbf{x}) & = -x_1+x_2 \\\\\n",
    "\t\t& \\text{subject to}\n",
    "\t\t& 2x_1+3x_2 & \\leq10\\\\\n",
    "        & & -5x_1-2x_2 & \\leq-2\\\\\n",
    "        & & -2x_1+7x_2 & \\leq8\\\\\n",
    "        & & x_1 & \\leq5\\\\\n",
    "        & & x_2 & \\geq-5\\\\\n",
    "\t\\end{aligned}\n",
    "\\end{equation*}"
   ]
  },
  {
   "cell_type": "markdown",
   "metadata": {},
   "source": [
    "We can solve this problem directly using ``scipy.optimize.linprog`` by defining the objective, constraint coefficients and upper and lower bounds for each variable.\n",
    "\n",
    "``scipy.optimize.linprog`` does not support $\\geq$ inequality constraints so we simply convert the last constraint to $\\leq$ constraint by multiplying both sides by -1\n",
    "\n",
    "\\begin{equation*}\n",
    "\t\\begin{aligned}\n",
    "\t\t& \\underset{\\mathbf{x}}{\\text{min}}\n",
    "\t\t& f(\\mathbf{x}) & = -x_1+x_2 \\\\\n",
    "\t\t& \\text{subject to}\n",
    "\t\t& 2x_1+3x_2 & \\leq10\\\\\n",
    "        & & -5x_1-2x_2 & \\leq-2\\\\\n",
    "        & & -2x_1+7x_2 & \\leq8\\\\\n",
    "        & & x_1 & \\leq5\\\\\n",
    "        & & -x_2 & \\leq5\\\\\n",
    "\t\\end{aligned}\n",
    "\\end{equation*}\n",
    "\n",
    "We plot the objective, constraints, and feasible region (shown in grey) below"
   ]
  },
  {
   "cell_type": "code",
   "execution_count": 33,
   "metadata": {},
   "outputs": [],
   "source": [
    "obj = [-1, 1]\n",
    "#      ─┬  ─┬\n",
    "#       │   └┤ Coefficient for x1\n",
    "#       └────┤ Coefficient for x2\n",
    "lhs_ineq = [[ 2,  3],  # constraint g1 LHS\n",
    "            [-5, -2],  # constraint g2 LHS\n",
    "            [-2,  7],  # constraint g3 LHS\n",
    "            [ 1,  0],  # constraint g4 LHS\n",
    "            [ 0, -1]]  # constraint g5 LHS\n",
    "rhs_ineq = [10,  # constraint g1 RHS\n",
    "            -2,  # constraint g2 RHS\n",
    "             8,  # constraint g3 RHS\n",
    "             5,  # constraint g4 RHS\n",
    "             5]  # constraint g5 RHS\n",
    "\n",
    "bnd = [(None, None),  # Bounds of x1 (None implies it is unbounded)\n",
    "#       ─┬      ─┬\n",
    "#        │       └┤ upper bound for x1 (None implies it is unbounded)\n",
    "#        └────┤ lower bound for x1 (None implies it is unbounded)\n",
    "        (None, None)]  # Bounds of x2"
   ]
  },
  {
   "cell_type": "markdown",
   "metadata": {},
   "source": [
    "We run the optimization to get the following results"
   ]
  },
  {
   "cell_type": "code",
   "execution_count": 37,
   "metadata": {},
   "outputs": [
    {
     "name": "stdout",
     "output_type": "stream",
     "text": [
      "x_opt = [ 5. -5.]\n"
     ]
    }
   ],
   "source": [
    "opt = linprog(c=obj, A_ub=lhs_ineq, b_ub=rhs_ineq,\n",
    "                A_eq=None, b_eq=None, bounds=bnd,\n",
    "                method=\"highs\")\n",
    "\n",
    "print(\"x_opt =\", opt.x)"
   ]
  },
  {
   "cell_type": "markdown",
   "metadata": {},
   "source": [
    "We will now solve the same problem using my user-defined algorithm ``simplex`` from [simplex.py](simplex.py).\n",
    "\n",
    "First, we will have to convert the problem into standard form:\n",
    "\n",
    "\\begin{equation*}\n",
    "\t\\begin{aligned}\n",
    "\t\t& \\underset{\\mathbf{x}}{\\text{min}}\n",
    "\t\t& f(\\mathbf{x}) & = -x_1+x_2 \\\\\n",
    "\t\t& \\text{subject to}\n",
    "\t\t& 2x_1+3x_2+s_1& = 10\\\\\n",
    "        & & -5x_1-2x_2+s_2 & =-2\\\\\n",
    "        & & -2x_1+7x_2+s_3 & =8\\\\\n",
    "        & & x_1+s_4 & =5\\\\\n",
    "        & & -x_2+s_5 & =5\\\\\n",
    "        & & \\mathbf{s} & \\geq \\mathbf{0}\\\\\n",
    "\t\\end{aligned}\n",
    "\\end{equation*}\n",
    "\n",
    "where $\\mathbf{s} = \\begin{bmatrix} s_1 & s_2 & s_3 & s_4 & s_5 \\end{bmatrix}^\\mathrm{T}$. We also make the substitution $\\mathbf{x} = \\mathbf{u} - \\mathbf{v}$ to avoid the restriction $\\mathbf{x} \\geq \\mathbf{0}$ imposed by the standard form.\n",
    "\n",
    "\\begin{equation*}\n",
    "\t\\begin{aligned}\n",
    "\t\t& \\underset{\\mathbf{x}}{\\text{min}}\n",
    "\t\t& f(\\mathbf{x}) = -u_1+u_2+v_1-v_2 \\\\\n",
    "\t\t& \\text{subject to}\n",
    "\t\t& 2u_1+3u_2-2v_1-3v_2+s_1& = 10\\\\\n",
    "        & & -5u_1-2u_2+5v_1+2v_2+s_2 & =-2\\\\\n",
    "        & & -2u_1+7u_2+2v_1-7v_2+s_3 & =8\\\\\n",
    "        & & u_1-v_1+s_4 & =5\\\\\n",
    "        & & -u_2+v_2+s_5 & =5\\\\\n",
    "        & & \\mathbf{s} & \\geq \\mathbf{0}\\\\\n",
    "\t\t& & \\mathbf{u} & \\geq \\mathbf{0}\\\\\n",
    "\t\t& & \\mathbf{v} & \\geq \\mathbf{0}\\\\\n",
    "\t\\end{aligned}\n",
    "\\end{equation*}\n",
    "\n",
    "We can easily write the coefficient matrices below for the standard form of the linear programming problem\n",
    "\n",
    "\\begin{equation*}\n",
    "\t\\begin{aligned}\n",
    "\t\t& \\underset{\\mathbf{x}}{\\text{min}}\n",
    "\t\t& f(\\mathbf{x}) = \\mathbf{c}^\\mathrm{T}\\mathbf{z} \\\\\n",
    "\t\t& \\text{subject to}\n",
    "\t\t& A\\mathbf{z} = \\mathbf{c}\n",
    "\t\\end{aligned}\n",
    "\\end{equation*}\n",
    "\n",
    "where $\\mathbf{z} = \\begin{bmatrix} \\mathbf{x} & \\mathbf{u} & \\mathbf{v} \\end{bmatrix}^\\mathrm{T}$ and \n",
    "\n",
    "$$\n",
    "A = \\begin{bmatrix} \n",
    "\t2 & 3 & -2 & -3 & 1 & 0 & 0 & 0 & 0\\\\\n",
    "    -5 & -2 & 5 & 2 & 0 & 1 & 0 & 0 & 0\\\\\n",
    "    -2 & 7 & 2 & -7 & 0 & 0 & 1 & 0 & 0\\\\\n",
    "    1 & 0 & -1 & 0 & 0 & 0 & 0 & 1 & 0\\\\\n",
    "    0 & -1 & 0 & 1 & 0 & 0 & 0 & 0 & 1\n",
    "\t\\end{bmatrix}\n",
    "b = \\begin{bmatrix} 10 \\\\ -2 \\\\ 8 \\\\ 5 \\\\ 5 \\end{bmatrix}\\\\\n",
    "~\\\\\n",
    "c = \\begin{bmatrix} -1 & 1 & 1 & -1 & 0 & 0 & 0 & 0 & 0 \\end{bmatrix}^\\mathrm{T}\n",
    "$$"
   ]
  },
  {
   "cell_type": "code",
   "execution_count": 42,
   "metadata": {},
   "outputs": [
    {
     "name": "stderr",
     "output_type": "stream",
     "text": [
      "/Users/nyuad/Desktop/documents/MECH_559_material/MECH559_notebooks/6_linear_programming/simplex.py:16: RuntimeWarning: divide by zero encountered in divide\n",
      "  A_row = b / A[:,q]\n"
     ]
    },
    {
     "name": "stdout",
     "output_type": "stream",
     "text": [
      "==================\n",
      "Simplex iterations\n",
      "iteration = 1\n",
      "A = [[ 0.   2.2  0.  -2.2  1.   0.4  0.   0.   0. ]\n",
      " [ 1.   0.4 -1.  -0.4 -0.  -0.2 -0.  -0.  -0. ]\n",
      " [ 0.   7.8  0.  -7.8  0.  -0.4  1.   0.   0. ]\n",
      " [ 0.  -0.4  0.   0.4  0.   0.2  0.   1.   0. ]\n",
      " [ 0.  -1.   0.   1.   0.   0.   0.   0.   1. ]]\n",
      "c = [ 0.   1.4  0.  -1.4  0.  -0.2  0.   0.   0. ]\n",
      "b = [9.2 0.4 8.8 4.6 5. ]\n",
      "f_opt = [[0.]]\n",
      "z_opt = [ 0.  0.  0.  0. 10.  0.  8.  5.  5.]\n",
      "x_opt = [0. 0.]\n",
      "==================\n",
      "iteration = 2\n",
      "A = [[ 0.   0.   0.   0.   1.   0.4  0.   0.   2.2]\n",
      " [ 1.   0.  -1.   0.   0.  -0.2  0.   0.   0.4]\n",
      " [ 0.   0.   0.   0.   0.  -0.4  1.   0.   7.8]\n",
      " [ 0.   0.   0.   0.   0.   0.2  0.   1.  -0.4]\n",
      " [ 0.  -1.   0.   1.   0.   0.   0.   0.   1. ]]\n",
      "c = [ 0.   0.   0.   0.   0.  -0.2  0.   0.   1.4]\n",
      "b = [20.2  2.4 47.8  2.6  5. ]\n",
      "f_opt = [[7.]]\n",
      "z_opt = [0.4 0.  0.  0.  9.2 0.  8.8 4.6 5. ]\n",
      "x_opt = [0.4 0. ]\n",
      "==================\n",
      "iteration = 3\n",
      "A = [[ 0.  0.  0.  0.  1.  0.  0. -2.  3.]\n",
      " [ 1.  0. -1.  0.  0.  0.  0.  1.  0.]\n",
      " [ 0.  0.  0.  0.  0.  0.  1.  2.  7.]\n",
      " [ 0.  0.  0.  0.  0.  1.  0.  5. -2.]\n",
      " [ 0. -1.  0.  1.  0.  0.  0.  0.  1.]]\n",
      "c = [0. 0. 0. 0. 0. 0. 0. 1. 1.]\n",
      "b = [15.  5. 53. 13.  5.]\n",
      "f_opt = [[2.6]]\n",
      "z_opt = [ 2.4  0.   0.   5.  20.2  0.  47.8  2.6  0. ]\n",
      "x_opt = [ 2.4 -5. ]\n",
      "==================\n",
      "solution terminated\n",
      "f_opt = [[0.]]\n",
      "z_opt = [ 5.  0.  0.  5. 15. 13. 53.  0.  0.]\n",
      "x_opt = [ 5. -5.]\n",
      "==================\n"
     ]
    }
   ],
   "source": [
    "A = np.array([\n",
    "    [2,3,-2,-3,1,0,0,0,0],\n",
    "    [-5,-2,5,2,0,1,0,0,0],\n",
    "    [-2,7,2,-7,0,0,1,0,0],\n",
    "    [1,0,-1,0,0,0,0,1,0],\n",
    "    [0,-1,0,1,0,0,0,0,1]], dtype=\"float64\")\n",
    "b = np.array([10,-2,8,5,5], dtype=\"float64\")\n",
    "c = np.array([-1,1,1,-1,0,0,0,0,0], dtype=\"float64\")\n",
    "\n",
    "cf = c.copy()\n",
    "k = 0\n",
    "stop = False\n",
    "\n",
    "k = 0\n",
    "cf = c\n",
    "print(\"==================\")\n",
    "print(\"Simplex iterations\")\n",
    "x_opts = np.array([[0.0,0.0]])\n",
    "while not stop:\n",
    "    z_opt,stop = simplex(A,b,c)\n",
    "\n",
    "    if not stop:\n",
    "        k+=1\n",
    "        print(\"iteration = %i\" %k)\n",
    "        print(\"A =\", A)\n",
    "        print(\"c =\",c)\n",
    "        print(\"b =\",b)\n",
    "\n",
    "    f_opt = cf[None,:] @ z_opt[:,None]\n",
    "    x_opt = z_opt[0:2] - z_opt[2:4]\n",
    "    x_opts = np.vstack((x_opts,x_opt))\n",
    "    print(\"f_opt =\",f_opt)\n",
    "    print(\"z_opt =\",z_opt)\n",
    "    print(\"x_opt =\",x_opt)\n",
    "\n",
    "    print(\"==================\")\n",
    "    # input(\"hit ENTER to continue\")"
   ]
  },
  {
   "cell_type": "markdown",
   "metadata": {},
   "source": [
    "The vector $\\mathbf{z}^*$ tells us some useful information. We examine its components below\n",
    "$$\n",
    "\\mathbf{z}^* = [\\underset{\\mathbf{u}}{\\underbrace{\\begin{matrix} 5 & 0 & \\end{matrix}}}\n",
    "\\underset{\\mathbf{v}}{\\underbrace{\\begin{matrix} 0 & 5 & \\end{matrix}}}\n",
    "\\underset{\\mathbf{s}}{\\underbrace{\\begin{matrix} 15 & 13 & 53 & 0 & 0 \\end{matrix}}}]^\\mathrm{T}\n",
    "$$\n",
    "\n",
    "We can see that what our optimizer $\\mathbf{x}^* = \\mathbf{u} - \\mathbf{v} = \\begin{bmatrix}5 & -5 \\end{bmatrix}$.\n",
    "\n",
    "The vector of slack variables $\\mathbf{s} = \\begin{bmatrix} 15 & 13 & 53 & 0 & 0 \\end{bmatrix}$ tells us that only the 4th and 5th constraints are active. The first three constraints are inactive since their corresponding slack variables are greater than zero."
   ]
  },
  {
   "cell_type": "markdown",
   "metadata": {},
   "source": [
    "We plot the objective, constraints, and feasible region (shown in grey) below To demonstrate constraint activity. We also show the optimization path of the simplex algorithm."
   ]
  },
  {
   "cell_type": "code",
   "execution_count": 51,
   "metadata": {},
   "outputs": [
    {
     "data": {
      "image/png": "[encoded data removed]",
      "text/plain": [
       "<Figure size 640x480 with 1 Axes>"
      ]
     },
     "metadata": {},
     "output_type": "display_data"
    }
   ],
   "source": [
    "# plot the feasible region\n",
    "d = np.linspace(-6,6,300)\n",
    "X1,X2 = np.meshgrid(d,d)\n",
    "F = -1*X1+1*X2\n",
    "G1=2*X1+3*X2<=10\n",
    "G2=-5*X1-2*X2<=-2\n",
    "G3=-2*X1+7*X2<=8\n",
    "G4=X1<=5\n",
    "G5=X2>=-5\n",
    "plt.imshow( (G1 & G2 & G3 & G4 & G5).astype(int) , \n",
    "                extent=(X1.min(),X1.max(),X2.min(),X2.max()),origin=\"lower\", cmap=\"Greys\", alpha = 0.3)\n",
    "\n",
    "# plot the lines defining the constraints\n",
    "x = np.linspace(-6, 6, 2000)\n",
    "# 2*x1+3*x2<=10 \n",
    "g1=(10-2*x)/3\n",
    "# -5*x1-2*x2<=-2\n",
    "g2=(2-5*x)/2\n",
    "# -2*x1+7*x2<=8\n",
    "g3=(8+2*x)/7\n",
    "# x1<=5\n",
    "g4=np.linspace(-6,6,100) # vertical line\n",
    "# x2>=-5\n",
    "g5=-5*np.ones_like((x))\n",
    "\n",
    "# Make plot\n",
    "plt.contourf(X1,X2,F,cmap='jet',alpha=0.5,zorder=-1)\n",
    "plt.plot(x, g1, label=r'$2x_1+3x_2\\leq10$')\n",
    "plt.plot(x, g2, label=r'$-5x_1-2x_2\\leq-2$')\n",
    "plt.plot(x, g3, label=r'$-2x1+7x_2\\leq8$')\n",
    "plt.plot(5*np.ones_like(g4), g4, label=r'$x_1\\leq5$')\n",
    "plt.plot(x, g5, label=r'$x_2\\geq-5$')\n",
    "plt.plot(x_opts[:,0], x_opts[:,1],marker=\"o\",linestyle=\"--\",color=\"m\",linewidth=2.0,label=r'simplex iter')\n",
    "plt.xlim(-6,6)\n",
    "plt.ylim(-6,6)\n",
    "plt.legend(bbox_to_anchor=(1.05, 1), loc=2, borderaxespad=0.)\n",
    "plt.xlabel(r'$x_1$')\n",
    "plt.ylabel(r'$x_2$');"
   ]
  },
  {
   "cell_type": "markdown",
   "metadata": {},
   "source": [
    "We can change the objective of the previous problem to so how the solution changes. We will make the objective decrease towards the top right of the variable space. i.e.,\n",
    "\n",
    "$f(\\mathbf{x}) = - x_1 - x_2 \\implies \\mathbf{c}^\\mathrm{T} = \\begin{bmatrix} -1 & -1 & 1 & 1 & 0 & 0 & 0 & 0 & 0\\end{bmatrix}$"
   ]
  },
  {
   "cell_type": "code",
   "execution_count": 61,
   "metadata": {},
   "outputs": [
    {
     "name": "stdout",
     "output_type": "stream",
     "text": [
      "solution terminated\n",
      "f_opt = [[0.]]\n",
      "z_opt = [ 2.3  1.8  0.   0.   0.  13.1  0.   2.7  6.8]\n",
      "x_opt = [2.3 1.8]\n"
     ]
    },
    {
     "data": {
      "image/png": "[encoded data removed]",
      "text/plain": [
       "<Figure size 640x480 with 1 Axes>"
      ]
     },
     "metadata": {},
     "output_type": "display_data"
    }
   ],
   "source": [
    "A = np.array([\n",
    "    [2,3,-2,-3,1,0,0,0,0],\n",
    "    [-5,-2,5,2,0,1,0,0,0],\n",
    "    [-2,7,2,-7,0,0,1,0,0],\n",
    "    [1,0,-1,0,0,0,0,1,0],\n",
    "    [0,-1,0,1,0,0,0,0,1]], dtype=\"float64\")\n",
    "b = np.array([10,-2,8,5,5], dtype=\"float64\")\n",
    "c = np.array([-1,-3,1,3,0,0,0,0,0], dtype=\"float64\")\n",
    "\n",
    "cf = c.copy()\n",
    "k = 0\n",
    "stop = False\n",
    "\n",
    "k = 0\n",
    "cf = c\n",
    "x_opts = np.array([[0.0,0.0]])\n",
    "while not stop:\n",
    "    z_opt,stop = simplex(A,b,c)\n",
    "\n",
    "    if not stop:\n",
    "        k+=1\n",
    "\n",
    "    f_opt = cf[None,:] @ z_opt[:,None]\n",
    "    x_opt = z_opt[0:2] - z_opt[2:4]\n",
    "    x_opts = np.vstack((x_opts,x_opt))\n",
    "\n",
    "print(\"f_opt =\",f_opt)\n",
    "print(\"z_opt =\",z_opt)\n",
    "print(\"x_opt =\",x_opt)\n",
    "\n",
    "# plot the feasible region\n",
    "d = np.linspace(-6,6,300)\n",
    "X1,X2 = np.meshgrid(d,d)\n",
    "F = -1*X1-3*X2\n",
    "G1=2*X1+3*X2<=10\n",
    "G2=-5*X1-2*X2<=-2\n",
    "G3=-2*X1+7*X2<=8\n",
    "G4=X1<=5\n",
    "G5=X2>=-5\n",
    "plt.imshow( (G1 & G2 & G3 & G4 & G5).astype(int) , \n",
    "                extent=(X1.min(),X1.max(),X2.min(),X2.max()),origin=\"lower\", cmap=\"Greys\", alpha = 0.3)\n",
    "\n",
    "# plot the lines defining the constraints\n",
    "x = np.linspace(-6, 6, 2000)\n",
    "# 2*x1+3*x2<=10 \n",
    "g1=(10-2*x)/3\n",
    "# -5*x1-2*x2<=-2\n",
    "g2=(2-5*x)/2\n",
    "# -2*x1+7*x2<=8\n",
    "g3=(8+2*x)/7\n",
    "# x1<=5\n",
    "g4=np.linspace(-6,6,100) # vertical line\n",
    "# x2>=-5\n",
    "g5=-5*np.ones_like((x))\n",
    "\n",
    "# Make plot\n",
    "plt.contourf(X1,X2,F,cmap='jet',alpha=0.5,zorder=-1)\n",
    "plt.plot(x, g1, label=r'$2x_1+3x_2\\leq10$')\n",
    "plt.plot(x, g2, label=r'$-5x_1-2x_2\\leq-2$')\n",
    "plt.plot(x, g3, label=r'$-2x1+7x_2\\leq8$')\n",
    "plt.plot(5*np.ones_like(g4), g4, label=r'$x_1\\leq5$')\n",
    "plt.plot(x, g5, label=r'$x_2\\geq-5$')\n",
    "plt.plot(x_opts[:,0], x_opts[:,1],marker=\"o\",linestyle=\"--\",color=\"m\",linewidth=2.0,label=r'simplex iter')\n",
    "plt.xlim(-6,6)\n",
    "plt.ylim(-6,6)\n",
    "plt.legend(bbox_to_anchor=(1.05, 1), loc=2, borderaxespad=0.)\n",
    "plt.xlabel(r'$x_1$')\n",
    "plt.ylabel(r'$x_2$');"
   ]
  }
 ],
 "metadata": {
  "kernelspec": {
   "display_name": "Python 3.8.5 ('.env': venv)",
   "language": "python",
   "name": "python3"
  },
  "language_info": {
   "codemirror_mode": {
    "name": "ipython",
    "version": 3
   },
   "file_extension": ".py",
   "mimetype": "text/x-python",
   "name": "python",
   "nbconvert_exporter": "python",
   "pygments_lexer": "ipython3",
   "version": "3.8.5"
  },
  "orig_nbformat": 4,
  "vscode": {
   "interpreter": {
    "hash": "126819b33044ba4fb9d56cfb0ee57d85bfadf3175bcd687fbee595cc9ddf7773"
   }
  }
 },
 "nbformat": 4,
 "nbformat_minor": 2
}
