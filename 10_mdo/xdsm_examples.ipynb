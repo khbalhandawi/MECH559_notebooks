{
 "cells": [
  {
   "cell_type": "markdown",
   "metadata": {},
   "source": [
    "In this notebook we generate XDSM diagrams for some the examples we looked at in the notebook [distributed_mdo.ipynb](./distributed_mdo.ipynb). We use the [`pyxdsm`](https://mdolab-pyxdsm.readthedocs-hosted.com/) library to generate LaTeX diagrams that you can embed in your reports."
   ]
  },
  {
   "cell_type": "code",
   "execution_count": 1,
   "metadata": {},
   "outputs": [],
   "source": [
    "from pyxdsm.XDSM import XDSM, OPT, SOLVER, FUNC, LEFT"
   ]
  },
  {
   "cell_type": "markdown",
   "metadata": {},
   "source": [
    "# Multi disciplinary analyses (MDAs)\n",
    "\n",
    "## Aerostructural problem\n",
    "\n",
    "The XDSM for aerostructural example looks like this:\n",
    "\n",
    "| <p style=\"text-align:center;\"><img src=\"./aerostructural.png\" alt=\"aero\" width=\"550p\" align=\"center\"/></p> |\n",
    "|:--:|\n",
    "| Fig.1 Aerostructural multidisciplinary analysis (MDA).|"
   ]
  },
  {
   "cell_type": "code",
   "execution_count": 2,
   "metadata": {},
   "outputs": [
    {
     "name": "stdout",
     "output_type": "stream",
     "text": [
      "This is pdfTeX, Version 3.141592653-2.6-1.40.24 (TeX Live 2022) (preloaded format=pdflatex)\n",
      " restricted \\write18 enabled.\n",
      "entering extended mode\n"
     ]
    }
   ],
   "source": [
    "# Change `use_sfmath` to False to use computer modern\n",
    "x = XDSM(use_sfmath=True)\n",
    "\n",
    "x.add_system(\"MDA\", SOLVER, [r\"\\text{MDA: Aerostructural}\",r\"0,3\\rightarrow 1\"])\n",
    "x.add_system(\"D1\", FUNC, r\"1: \\text{Structural}\")\n",
    "x.add_system(\"D2\", FUNC, r\"2: \\text{Aerodynamics}\")\n",
    "\n",
    "x.connect(\"MDA\", \"D1\", \"1:\" + r\"\\hat{\\Gamma}\")\n",
    "x.connect(\"D1\", \"D2\", \"2:\" + r\"\\hat{\\mathbf{d}}\")\n",
    "\n",
    "x.connect(\"D1\", \"MDA\", \"3:\" + r\"\\hat{\\mathbf{d}}\")\n",
    "x.connect(\"D2\", \"MDA\", \"3:\" + r\"\\hat{\\Gamma}\")\n",
    "\n",
    "x.add_process([\"MDA\",\"D1\",\"D2\",\"MDA\"],arrow=False)\n",
    "\n",
    "x.add_output(\"D1\", r\"\\hat{\\mathbf{d}}\", side=LEFT)\n",
    "x.add_output(\"D2\", r\"\\hat{\\Gamma}\", side=LEFT)\n",
    "x.add_input(\"MDA\",r\"\\hat{\\Gamma}^{(0)},\\hat{\\mathbf{d}}^{(0)}\")\n",
    "x.write(\"xdsm/aerostructural\",quiet=True,cleanup=True)"
   ]
  },
  {
   "cell_type": "markdown",
   "metadata": {},
   "source": [
    "## Block-Jacobi MDA\n",
    "\n",
    "The XDSM for the numerical example is\n",
    "\n",
    "| <p style=\"text-align:center;\"><img src=\"./jacobi.png\" alt=\"jacobi\" width=\"550p\" align=\"center\"/></p> |\n",
    "|:--:|\n",
    "| Fig.2 Block Jacobi MDA.|"
   ]
  },
  {
   "cell_type": "code",
   "execution_count": 3,
   "metadata": {},
   "outputs": [
    {
     "name": "stdout",
     "output_type": "stream",
     "text": [
      "This is pdfTeX, Version 3.141592653-2.6-1.40.24 (TeX Live 2022) (preloaded format=pdflatex)\n",
      " restricted \\write18 enabled.\n",
      "entering extended mode\n"
     ]
    }
   ],
   "source": [
    "# Change `use_sfmath` to False to use computer modern\n",
    "x = XDSM(use_sfmath=True)\n",
    "\n",
    "x.add_system(\"MDA\", SOLVER, [r\"Jacobi\",r\"0,3\\rightarrow 1\"])\n",
    "x.add_system(\"D1\", FUNC, [r\"1: \\text{Solver~1}\", r\"\\hat{a} - \\mathcal{U}_1(\\hat{b}) = 0\"])\n",
    "x.add_system(\"D2\", FUNC, [r\"1: \\text{Solver~2}\", r\"\\hat{b} - \\mathcal{U}_2(\\hat{a}) = 0\"])\n",
    "\n",
    "x.connect(\"MDA\", \"D1\", \"1:\" + r\"\\hat{b}\")\n",
    "x.connect(\"MDA\", \"D2\", \"1:\" + r\"\\hat{a}\")\n",
    "\n",
    "x.connect(\"D1\", \"MDA\", \"2:\" + r\"\\hat{a}\")\n",
    "x.connect(\"D2\", \"MDA\", \"2:\" + r\"\\hat{b}\")\n",
    "\n",
    "x.add_process([\"MDA\",\"D1\",\"MDA\"],arrow=False)\n",
    "x.add_process([\"MDA\",\"D2\",\"MDA\"],arrow=False)\n",
    "\n",
    "x.add_output(\"D1\", r\"\\hat{a}\", side=LEFT)\n",
    "x.add_output(\"D2\", r\"\\hat{b}\", side=LEFT)\n",
    "x.add_input(\"MDA\",r\"\\hat{a}^{(0)},\\hat{b}^{(0)}\")\n",
    "x.write(\"xdsm/jacobi\",quiet=True,cleanup=True)"
   ]
  },
  {
   "cell_type": "markdown",
   "metadata": {},
   "source": [
    "## Nonlinear block Gauss–Seidel MDA\n",
    "\n",
    "The XDSM for the numerical example is\n",
    "\n",
    "| <p style=\"text-align:center;\"><img src=\"./gauss.png\" alt=\"gauss\" width=\"550p\" align=\"center\"/></p> |\n",
    "|:--:|\n",
    "| Fig.3 Gauss–Seidel MDA.|"
   ]
  },
  {
   "cell_type": "code",
   "execution_count": 4,
   "metadata": {},
   "outputs": [
    {
     "name": "stdout",
     "output_type": "stream",
     "text": [
      "This is pdfTeX, Version 3.141592653-2.6-1.40.24 (TeX Live 2022) (preloaded format=pdflatex)\n",
      " restricted \\write18 enabled.\n",
      "entering extended mode\n"
     ]
    }
   ],
   "source": [
    "# Change `use_sfmath` to False to use computer modern\n",
    "x = XDSM(use_sfmath=True)\n",
    "\n",
    "x.add_system(\"MDA\", SOLVER, [r\"\\text{Gauss-Seidel}\",r\"0,2\\rightarrow 1\"])\n",
    "x.add_system(\"D1\", FUNC, [r\"1: \\text{Solver~1}\", r\"\\hat{a} - \\mathcal{U}_1(\\hat{b}) = 0\"])\n",
    "x.add_system(\"D2\", FUNC, [r\"2: \\text{Solver~2}\", r\"\\hat{b} - \\mathcal{U}_2(\\hat{a}) = 0\"])\n",
    "\n",
    "x.connect(\"MDA\", \"D1\", \"1:\" + r\"\\hat{b}\")\n",
    "x.connect(\"D1\", \"D2\", \"2:\" + r\"\\hat{a}\")\n",
    "\n",
    "x.connect(\"D1\", \"MDA\", \"3:\" + r\"\\hat{a}\")\n",
    "x.connect(\"D2\", \"MDA\", \"3:\" + r\"\\hat{b}\")\n",
    "\n",
    "x.add_process([\"MDA\",\"D1\",\"D2\",\"MDA\"],arrow=False)\n",
    "\n",
    "x.add_output(\"D1\", r\"\\hat{a}\", side=LEFT)\n",
    "x.add_output(\"D2\", r\"\\hat{b}\", side=LEFT)\n",
    "x.add_input(\"MDA\",r\"\\hat{a}^{(0)},\\hat{b}^{(0)}\")\n",
    "x.write(\"xdsm/gauss\",quiet=True,cleanup=True)"
   ]
  },
  {
   "cell_type": "markdown",
   "metadata": {},
   "source": [
    "## The reduced-space hierarchical Newton solver\n",
    "\n",
    "The XDSM for the numerical example is\n",
    "\n",
    "| <p style=\"text-align:center;\"><img src=\"./newton.png\" alt=\"newton\" width=\"550p\" align=\"center\"/></p> |\n",
    "|:--:|\n",
    "| Fig.4 Reduced-space hierarchical Newton MDA.|"
   ]
  },
  {
   "cell_type": "code",
   "execution_count": 5,
   "metadata": {},
   "outputs": [
    {
     "name": "stdout",
     "output_type": "stream",
     "text": [
      "This is pdfTeX, Version 3.141592653-2.6-1.40.24 (TeX Live 2022) (preloaded format=pdflatex)\n",
      " restricted \\write18 enabled.\n",
      "entering extended mode\n"
     ]
    }
   ],
   "source": [
    "# Change `use_sfmath` to False to use computer modern\n",
    "x = XDSM(use_sfmath=True)\n",
    "\n",
    "x.add_system(\"MDA\", SOLVER, [r\"\\text{Newton}\",r\"0,2\\rightarrow 1\"])\n",
    "x.add_system(\"D1\", FUNC, [r\"1: \\text{Solver~1}\", r\"\\hat{a} - \\mathcal{U}_1(\\hat{b}) = 0\"])\n",
    "x.add_system(\"D2\", FUNC, [r\"1: \\text{Solver~2}\", r\"\\hat{b} - \\mathcal{U}_2(\\hat{a}) = 0\"])\n",
    "\n",
    "x.connect(\"MDA\", \"D1\", \"1:\" + r\"\\hat{b}\")\n",
    "x.connect(\"MDA\", \"D2\", \"1:\" + r\"\\hat{a}\")\n",
    "\n",
    "x.connect(\"D1\", \"MDA\", \"2:\" + r\"\\hat{a},\\dfrac{\\partial\\mathcal{U}_1}{\\partial \\hat{b}}\")\n",
    "x.connect(\"D2\", \"MDA\", \"2:\" + r\"\\hat{b},\\dfrac{\\partial\\mathcal{U}_2}{\\partial \\hat{a}}\")\n",
    "\n",
    "x.add_process([\"MDA\",\"D1\",\"MDA\"],arrow=False)\n",
    "x.add_process([\"MDA\",\"D2\",\"MDA\"],arrow=False)\n",
    "\n",
    "x.add_output(\"D1\", r\"\\hat{a}\", side=LEFT)\n",
    "x.add_output(\"D2\", r\"\\hat{b}\", side=LEFT)\n",
    "x.add_input(\"MDA\",r\"\\hat{a}^{(0)},\\hat{b}^{(0)}\")\n",
    "x.write(\"xdsm/newton\",quiet=True,cleanup=True)"
   ]
  },
  {
   "cell_type": "markdown",
   "metadata": {},
   "source": [
    "# Multi disciplinary optimization (MDO)\n",
    "\n",
    "## Multi disciplinary feasible (MDF) architecture\n",
    "\n",
    "The XDSM for an MDF using a Newton solver as the MDA for the numerical example is given below\n",
    "\n",
    "| <p style=\"text-align:center;\"><img src=\"./mdf.png\" alt=\"mdf\" width=\"950p\" align=\"center\"/></p> |\n",
    "|:--:|\n",
    "| Fig.5 MDF using a reduced-space hierarchical Newton MDA.|"
   ]
  },
  {
   "cell_type": "code",
   "execution_count": 6,
   "metadata": {},
   "outputs": [
    {
     "name": "stdout",
     "output_type": "stream",
     "text": [
      "This is pdfTeX, Version 3.141592653-2.6-1.40.24 (TeX Live 2022) (preloaded format=pdflatex)\n",
      " restricted \\write18 enabled.\n",
      "entering extended mode\n"
     ]
    }
   ],
   "source": [
    "# Change `use_sfmath` to False to use computer modern\n",
    "x = XDSM(use_sfmath=True)\n",
    "\n",
    "x.add_system(\"opt\", OPT, [r\"\\text{Optimization}\",r\"0,5\\rightarrow 1\"])\n",
    "x.add_system(\"MDA\", SOLVER, [r\"\\text{Newton}\",r\"0,3\\rightarrow 1\"])\n",
    "x.add_system(\"D1\", FUNC, [r\"2: \\text{Solver~1}\", r\"\\hat{a} - \\mathcal{U}_1(\\mathbf{x};\\hat{b}) = 0\"])\n",
    "x.add_system(\"D2\", FUNC, [r\"2: \\text{Solver~2}\", r\"\\hat{b} - \\mathcal{U}_2(\\mathbf{x};\\hat{a}) = 0\"])\n",
    "x.add_system(\"F\", FUNC, [r\"4: \\text{Functions}\", r\"f(\\mathbf{x};\\hat{a},\\hat{b}), g(\\mathbf{x};\\hat{a},\\hat{b})\"])\n",
    "\n",
    "x.connect(\"opt\", \"D1\", \"2:\" + r\"\\mathbf{x}\")\n",
    "x.connect(\"opt\", \"D2\", \"2:\" + r\"\\mathbf{x}\")\n",
    "x.connect(\"MDA\", \"D1\", \"2:\" + r\"\\hat{b}\")\n",
    "x.connect(\"MDA\", \"D2\", \"2:\" + r\"\\hat{a}\")   \n",
    "\n",
    "x.connect(\"opt\", \"F\", \"4:\" + r\"\\mathbf{x}\")\n",
    "x.connect(\"D1\", \"F\", \"4:\" + r\"\\hat{a}\")\n",
    "x.connect(\"D2\", \"F\", \"4:\" + r\"\\hat{b}\")\n",
    "\n",
    "x.connect(\"D1\", \"MDA\", \"3:\" + r\"\\hat{a},\\dfrac{\\partial\\mathcal{U}_1}{\\partial \\hat{b}}\")\n",
    "x.connect(\"D2\", \"MDA\", \"3:\" + r\"\\hat{b},\\dfrac{\\partial\\mathcal{U}_2}{\\partial \\hat{a}}\")\n",
    "x.connect(\"F\", \"opt\", \"5:\" + r\"f(\\mathbf{x};\\hat{a},\\hat{b}), g(\\mathbf{x};\\hat{a},\\hat{b})\")\n",
    "\n",
    "x.add_process([\"MDA\",\"D1\",\"MDA\"],arrow=False)\n",
    "x.add_process([\"MDA\",\"D2\",\"MDA\"],arrow=False)\n",
    "x.add_process([\"opt\",\"MDA\",\"F\",\"opt\"],arrow=False)\n",
    "\n",
    "x.add_output(\"D1\", r\"\\hat{a}^*\", side=LEFT)\n",
    "x.add_output(\"D2\", r\"\\hat{b}^*\", side=LEFT)\n",
    "x.add_output(\"opt\", r\"\\mathbf{x}^*\", side=LEFT)\n",
    "\n",
    "x.add_input(\"opt\",r\"\\mathbf{x}^{(0)}\")\n",
    "x.add_input(\"MDA\",r\"\\hat{a}^{(0)},\\hat{b}^{(0)}\")\n",
    "\n",
    "x.write(\"xdsm/mdf\",quiet=True,cleanup=True)"
   ]
  },
  {
   "cell_type": "markdown",
   "metadata": {},
   "source": [
    "We can represent the previous MDF more compactly by stacking the components that can be executed in parallel.\n",
    "\n",
    "| <p style=\"text-align:center;\"><img src=\"./mdf_compact.png\" alt=\"mdf_c\" width=\"850p\" align=\"center\"/></p> |\n",
    "|:--:|\n",
    "| Fig.6 MDF using a reduced-space hierarchical Newton MDA for generic example.|"
   ]
  },
  {
   "cell_type": "code",
   "execution_count": 15,
   "metadata": {},
   "outputs": [
    {
     "name": "stdout",
     "output_type": "stream",
     "text": [
      "This is pdfTeX, Version 3.141592653-2.6-1.40.24 (TeX Live 2022) (preloaded format=pdflatex)\n",
      " restricted \\write18 enabled.\n",
      "entering extended mode\n"
     ]
    }
   ],
   "source": [
    "# Change `use_sfmath` to False to use computer modern\n",
    "x = XDSM(use_sfmath=True)\n",
    "\n",
    "x.add_system(\"opt\", OPT, [r\"\\text{Optimization}\",r\"0,5\\rightarrow 1\"])\n",
    "x.add_system(\"MDA\", SOLVER, [r\"\\text{Newton}\",r\"0,3\\rightarrow 1\"])\n",
    "x.add_system(\"D\", FUNC, [r\"2: \\text{Solver~}i\", r\"\\hat{u}_i - \\mathcal{U}_i(\\mathbf{x};\\hat{u}_{j\\neq i}) = 0\"], stack=True)\n",
    "x.add_system(\"F\", FUNC, [r\"4: \\text{Functions}\", r\"f(\\mathbf{x};\\hat{\\mathbf{u}}), \\mathbf{g}(\\mathbf{x};\\hat{\\mathbf{u}})\"])\n",
    "\n",
    "x.connect(\"opt\", \"D\", \"2:\" + r\"\\mathbf{x}\")\n",
    "x.connect(\"MDA\", \"D\", \"2:\" + r\"\\hat{u}_{j\\neq i}\", stack=True)\n",
    "\n",
    "x.connect(\"opt\", \"F\", \"4:\" + r\"\\mathbf{x}\")\n",
    "x.connect(\"D\", \"F\", \"4:\" + r\"\\hat{u}_i\", stack=True)\n",
    "\n",
    "x.connect(\"D\", \"MDA\", \"3:\" + r\"\\hat{u}_i,\\dfrac{\\partial\\mathcal{U}_i}{\\partial \\hat{u}_{j\\neq i}}\", stack=True)\n",
    "x.connect(\"F\", \"opt\", \"5:\" + r\"f(\\mathbf{x};\\hat{\\mathbf{u}}), \\mathbf{g}(\\mathbf{x};\\hat{\\mathbf{u}})\")\n",
    "\n",
    "x.add_process([\"MDA\",\"D\",\"MDA\"],arrow=False)\n",
    "x.add_process([\"opt\",\"MDA\",\"F\",\"opt\"],arrow=False)\n",
    "\n",
    "x.add_output(\"D\", r\"\\hat{u}_i^*\", side=LEFT, stack=True)\n",
    "x.add_output(\"opt\", r\"\\mathbf{x}^*\", side=LEFT)\n",
    "\n",
    "x.add_input(\"opt\",r\"\\mathbf{x}^{(0)}\")\n",
    "x.add_input(\"MDA\",r\"\\hat{u}_i^{(0)}\", stack=True)\n",
    "\n",
    "x.write(\"xdsm/mdf_newton_compact\",quiet=True,cleanup=True)"
   ]
  },
  {
   "cell_type": "markdown",
   "metadata": {},
   "source": [
    "We can represent the previous MDF more compactly by stacking the components that can be executed in parallel.\n",
    "\n",
    "| <p style=\"text-align:center;\"><img src=\"./mdf_jacobi_compact.png\" alt=\"mdf_jc\" width=\"850p\" align=\"center\"/></p> |\n",
    "|:--:|\n",
    "| Fig.6 MDF using a block-Jacobi MDA for generic example.|"
   ]
  },
  {
   "cell_type": "code",
   "execution_count": 13,
   "metadata": {},
   "outputs": [
    {
     "name": "stdout",
     "output_type": "stream",
     "text": [
      "This is pdfTeX, Version 3.141592653-2.6-1.40.24 (TeX Live 2022) (preloaded format=pdflatex)\n",
      " restricted \\write18 enabled.\n",
      "entering extended mode\n"
     ]
    }
   ],
   "source": [
    "# Change `use_sfmath` to False to use computer modern\n",
    "x = XDSM(use_sfmath=True)\n",
    "\n",
    "x.add_system(\"opt\", OPT, [r\"\\text{Optimization}\",r\"0,5\\rightarrow 1\"])\n",
    "x.add_system(\"MDA\", SOLVER, [r\"\\text{Jacobi}\",r\"0,3\\rightarrow 1\"])\n",
    "x.add_system(\"D\", FUNC, [r\"2: \\text{Solver~}i\", r\"\\hat{u}_i - \\mathcal{U}_i(\\mathbf{x};\\hat{u}_{j\\neq i}) = 0\"], stack=True)\n",
    "x.add_system(\"F\", FUNC, [r\"4: \\text{Functions}\", r\"f(\\mathbf{x};\\hat{\\mathbf{u}}), \\mathbf{g}(\\mathbf{x};\\hat{\\mathbf{u}})\"])\n",
    "\n",
    "x.connect(\"opt\", \"D\", \"2:\" + r\"\\mathbf{x}\")\n",
    "x.connect(\"MDA\", \"D\", \"2:\" + r\"\\hat{u}_{j\\neq i}\", stack=True)\n",
    "\n",
    "x.connect(\"opt\", \"F\", \"4:\" + r\"\\mathbf{x}\")\n",
    "x.connect(\"D\", \"F\", \"4:\" + r\"\\hat{u}_i\", stack=True)\n",
    "\n",
    "x.connect(\"D\", \"MDA\", \"3:\" + r\"\\hat{u}_i\", stack=True)\n",
    "x.connect(\"F\", \"opt\", \"5:\" + r\"f(\\mathbf{x};\\hat{\\mathbf{u}}), \\mathbf{g}(\\mathbf{x};\\hat{\\mathbf{u}})\")\n",
    "\n",
    "x.add_process([\"MDA\",\"D\",\"MDA\"],arrow=False)\n",
    "x.add_process([\"opt\",\"MDA\",\"F\",\"opt\"],arrow=False)\n",
    "\n",
    "x.add_output(\"D\", r\"\\hat{u}_i^*\", side=LEFT, stack=True)\n",
    "x.add_output(\"opt\", r\"\\mathbf{x}^*\", side=LEFT)\n",
    "\n",
    "x.add_input(\"opt\",r\"\\mathbf{x}^{(0)}\")\n",
    "x.add_input(\"MDA\",r\"\\hat{u}_i^{(0)}\", stack=True)\n",
    "\n",
    "x.write(\"xdsm/mdf_jacobi_compact\",quiet=True,cleanup=True)"
   ]
  },
  {
   "cell_type": "markdown",
   "metadata": {},
   "source": [
    "## Individual disciplinary feasible (IDF) architecture\n",
    "\n",
    "The XDSM for an IDF for the numerical example is given below:\n",
    "\n",
    "| <p style=\"text-align:center;\"><img src=\"./idf.png\" alt=\"idf\" width=\"950p\" align=\"center\"/></p> |\n",
    "|:--:|\n",
    "| Fig.7 IDF architecture of the numerical example.|"
   ]
  },
  {
   "cell_type": "code",
   "execution_count": 8,
   "metadata": {},
   "outputs": [
    {
     "name": "stdout",
     "output_type": "stream",
     "text": [
      "This is pdfTeX, Version 3.141592653-2.6-1.40.24 (TeX Live 2022) (preloaded format=pdflatex)\n",
      " restricted \\write18 enabled.\n",
      "entering extended mode\n"
     ]
    }
   ],
   "source": [
    "# Change `use_sfmath` to False to use computer modern\n",
    "x = XDSM(use_sfmath=True)\n",
    "\n",
    "x.add_system(\"opt\", OPT, [r\"\\text{Optimization}\",r\"0,3\\rightarrow 1\"])\n",
    "x.add_system(\"F\", FUNC, [r\"2: \\text{Functions}\", r\"f(\\mathbf{x};\\hat{a},\\hat{b}), g(\\mathbf{x};\\hat{a},\\hat{b})\"])\n",
    "x.add_system(\"D1\", FUNC, [r\"1: \\text{Solver~1}\", r\"\\hat{a} - \\mathcal{U}_1(\\mathbf{x};\\hat{b}^t) = 0\"])\n",
    "x.add_system(\"D2\", FUNC, [r\"1: \\text{Solver~2}\", r\"\\hat{b} - \\mathcal{U}_2(\\mathbf{x};\\hat{a}^t) = 0\"])\n",
    "\n",
    "x.connect(\"opt\", \"F\", \"2:\" + r\"\\mathbf{x},\\hat{\\mathbf{u}}^t\")\n",
    "x.connect(\"opt\", \"D1\", \"1:\" + r\"\\mathbf{x},\\hat{b}^t\")\n",
    "x.connect(\"opt\", \"D2\", \"1:\" + r\"\\mathbf{x},\\hat{a}^t\")       \n",
    "\n",
    "x.connect(\"D1\", \"F\", \"2:\" + r\"\\hat{a}\")\n",
    "x.connect(\"D2\", \"F\", \"2:\" + r\"\\hat{b}\")\n",
    "\n",
    "x.connect(\"F\", \"opt\", \"3:\" + r\"f, g, g^c\")\n",
    "\n",
    "x.add_process([\"opt\",\"D1\",\"F\",\"opt\"],arrow=False)\n",
    "x.add_process([\"opt\",\"D2\",\"F\",\"opt\"],arrow=False)\n",
    "\n",
    "x.add_output(\"D1\", r\"\\hat{a}^*\", side=LEFT)\n",
    "x.add_output(\"D2\", r\"\\hat{b}^*\", side=LEFT)\n",
    "x.add_output(\"opt\", r\"\\mathbf{x}^*\", side=LEFT)\n",
    "\n",
    "x.add_input(\"opt\",r\"\\mathbf{x}^{(0)},\\hat{\\mathbf{u}}^{t,(0)}\")\n",
    "\n",
    "x.write(\"xdsm/idf\",quiet=True,cleanup=True)"
   ]
  },
  {
   "cell_type": "markdown",
   "metadata": {},
   "source": [
    "We can represent the previous IDF more compactly by stacking the components that can be executed in parallel.\n",
    "\n",
    "| <p style=\"text-align:center;\"><img src=\"./idf_compact.png\" alt=\"idf_c\" width=\"850p\" align=\"center\"/></p> |\n",
    "|:--:|\n",
    "| Fig.8 IDF architecture of a generic example.|"
   ]
  },
  {
   "cell_type": "code",
   "execution_count": 9,
   "metadata": {},
   "outputs": [
    {
     "name": "stdout",
     "output_type": "stream",
     "text": [
      "This is pdfTeX, Version 3.141592653-2.6-1.40.24 (TeX Live 2022) (preloaded format=pdflatex)\n",
      " restricted \\write18 enabled.\n",
      "entering extended mode\n"
     ]
    }
   ],
   "source": [
    "# Change `use_sfmath` to False to use computer modern\n",
    "x = XDSM(use_sfmath=True)\n",
    "\n",
    "x.add_system(\"opt\", OPT, [r\"\\text{Optimization}\",r\"0,3\\rightarrow 1\"])\n",
    "x.add_system(\"F\", FUNC, [r\"2: \\text{Functions}\", r\"f(\\mathbf{x};\\hat{\\mathbf{u}}), \\mathbf{g}(\\mathbf{x};\\hat{\\mathbf{u}})\"])\n",
    "x.add_system(\"D\", FUNC, [r\"1: \\text{Solver~}i\", r\"\\hat{u}_i - \\mathcal{U}_i(\\mathbf{x};\\hat{u}_{j\\neq i}^t) = 0\"], stack=True)\n",
    "\n",
    "x.connect(\"opt\", \"F\", \"2:\" + r\"\\mathbf{x},\\hat{\\mathbf{u}}^t\")\n",
    "x.connect(\"opt\", \"D\", \"1:\" + r\"\\mathbf{x}_i,\\hat{u}_i^t\", stack=True)\n",
    "\n",
    "x.connect(\"D\", \"F\", \"2:\" + r\"\\hat{u}_i\", stack=True)\n",
    "\n",
    "x.connect(\"F\", \"opt\", \"3:\" + r\"f, \\mathbf{g}, \\mathbf{g}^c\")\n",
    "\n",
    "x.add_process([\"opt\",\"D\",\"F\",\"opt\"],arrow=False)\n",
    "\n",
    "x.add_output(\"D\", r\"\\hat{u}_i^*\", side=LEFT, stack=True)\n",
    "x.add_output(\"opt\", r\"\\mathbf{x}^*\", side=LEFT)\n",
    "\n",
    "x.add_input(\"opt\",r\"\\mathbf{x}^{(0)},\\hat{\\mathbf{u}}^{t,(0)}\")\n",
    "\n",
    "x.write(\"xdsm/idf_compact\",quiet=True,cleanup=True)"
   ]
  },
  {
   "cell_type": "markdown",
   "metadata": {},
   "source": [
    "# Distributed MDO\n",
    "\n",
    "## Analytical target cascading\n",
    "\n",
    "The XDSM for ATC of the numerical example is given below:\n",
    "\n",
    "| <p style=\"text-align:center;\"><img src=\"./atc.png\" alt=\"atc\" width=\"950p\" align=\"center\"/></p> |\n",
    "|:--:|\n",
    "| Fig.9 ATC architecture of the numerical example.|"
   ]
  },
  {
   "cell_type": "code",
   "execution_count": 10,
   "metadata": {},
   "outputs": [
    {
     "name": "stdout",
     "output_type": "stream",
     "text": [
      "This is pdfTeX, Version 3.141592653-2.6-1.40.24 (TeX Live 2022) (preloaded format=pdflatex)\n",
      " restricted \\write18 enabled.\n",
      "entering extended mode\n"
     ]
    }
   ],
   "source": [
    "# Change `use_sfmath` to False to use computer modern\n",
    "x = XDSM(use_sfmath=True)\n",
    "\n",
    "x.add_system(\"opt0\", OPT, [r\"\\text{System}\",r\"\\text{optimization}\",r\"0,7\\rightarrow 5\"])\n",
    "x.add_system(\"w\", FUNC, [r\"6: \\text{Update~weights}~\\mathbf{v},\\mathbf{w}\"])\n",
    "x.add_system(\"F0\", FUNC, [r\"5: \\text{System~functions}\", r\"f_0(u;v,\\hat{a}^t,\\hat{b}^t)\", r\"\\Phi_1(u_1^t - u, \\hat{a}^t - \\hat{a}))\", r\"\\Phi_2(u_2^t - u, \\hat{b}^t - \\hat{b})\"])\n",
    "x.add_system(\"opt1\", OPT, [r\"\\text{Optimization~1}\",r\"1,4\\rightarrow 2\"])\n",
    "x.add_system(\"F1\", FUNC, [r\"3: \\text{Discipline~1 functions}\", r\"\\Phi_1(\\hat{a}^t - \\hat{a},u_1^t - u)\"])\n",
    "x.add_system(\"D1\", FUNC, [r\"2: \\text{Solver~1}\", r\"\\hat{a} - \\mathcal{U}_1(u_1^t,v,\\hat{b}^t) = 0\"])\n",
    "x.add_system(\"opt2\", OPT, [r\"\\text{Optimization~2}\",r\"1,4\\rightarrow 2\"])\n",
    "x.add_system(\"F2\", FUNC, [r\"3: \\text{Discipline~2 functions}\", r\"\\Phi_2(\\hat{b}^t - \\hat{b},u_2^t - u)\" ,r\"g({u}_2^t,w,\\hat{b})\"])\n",
    "x.add_system(\"D2\", FUNC, [r\"2: \\text{Solver~2}\", r\"\\hat{b} - \\mathcal{U}_2(u_2^t,w,\\hat{a}^t) = 0\"])\n",
    "\n",
    "\n",
    "x.connect(\"w\", \"F0\", \"5:\" + r\"\\mathbf{v},\\mathbf{w}\")\n",
    "x.connect(\"w\", \"F1\", \"3:\" + r\"v_1,w_1\")\n",
    "x.connect(\"w\", \"F2\", \"3:\" + r\"v_2,w_2\")\n",
    "\n",
    "x.connect(\"opt0\", \"F0\", \"5:\" + r\"\\mathbf{x}_0,\\hat{\\mathbf{u}}_1^t,\\hat{\\mathbf{u}}_2^t\")\n",
    "x.connect(\"opt0\", \"F1\", \"3:\" + r\"\\mathbf{x}_0,\\hat{\\mathbf{u}}_1^t\")\n",
    "x.connect(\"opt0\", \"D1\", \"2:\" + r\"\\mathbf{x}_0,\\hat{\\mathbf{u}}_2^t\")\n",
    "x.connect(\"opt0\", \"F2\", \"3:\" + r\"\\mathbf{x}_0,\\hat{\\mathbf{u}}_2^t\")\n",
    "x.connect(\"opt0\", \"D2\", \"2:\" + r\"\\mathbf{x}_0,\\hat{\\mathbf{u}}_1^t\")\n",
    "\n",
    "x.connect(\"F0\", \"opt0\", \"7:\" + r\"f_0,\\mathbf{g}_0,\\Phi_1,\\Phi_2\")\n",
    "x.connect(\"F0\", \"w\", \"6:\" + r\"\\Phi_1,\\Phi_2\")\n",
    "\n",
    "x.connect(\"opt1\", \"F0\", \"5:\" + r\"\\mathbf{x}_{0,1}^t,\\mathbf{x}_{1}\")\n",
    "x.connect(\"opt2\", \"F0\", \"5:\" + r\"\\mathbf{x}_{0,2}^t,\\mathbf{x}_{2}\")\n",
    "x.connect(\"opt1\", \"F1\", \"3:\" + r\"\\mathbf{x}_{0,1}^t,\\mathbf{x}_{1}\")\n",
    "x.connect(\"opt2\", \"F2\", \"3:\" + r\"\\mathbf{x}_{0,2}^t,\\mathbf{x}_{2}\")\n",
    "x.connect(\"opt1\", \"D1\", \"2:\" + r\"\\mathbf{x}_{0,1}^t,\\mathbf{x}_{1}\")\n",
    "x.connect(\"opt2\", \"D2\", \"2:\" + r\"\\mathbf{x}_{0,2}^t,\\mathbf{x}_{2}\")\n",
    "\n",
    "x.connect(\"F1\", \"opt1\", \"4:\" + r\"f_1,\\mathbf{g}_1,\\Phi_1\")\n",
    "x.connect(\"F2\", \"opt2\", \"4:\" + r\"f_2,\\mathbf{g}_2,\\Phi_2\")\n",
    "\n",
    "x.connect(\"D1\", \"F1\", \"3:\" + r\"\\hat{\\mathbf{u}}_1\")\n",
    "x.connect(\"D1\", \"F0\", \"5:\" + r\"\\hat{\\mathbf{u}}_1\")\n",
    "x.connect(\"D2\", \"F2\", \"3:\" + r\"\\hat{\\mathbf{u}}_2\")\n",
    "x.connect(\"D2\", \"F0\", \"5:\" + r\"\\hat{\\mathbf{u}}_2\")\n",
    "\n",
    "x.add_process([\"opt1\",\"D1\",\"F1\",\"opt1\"],arrow=False)\n",
    "x.add_process([\"opt2\",\"D2\",\"F2\",\"opt2\"],arrow=False)\n",
    "x.add_process([\"opt0\",\"opt1\",\"F0\",\"opt0\"],arrow=False)\n",
    "x.add_process([\"opt0\",\"opt2\",\"F0\",\"opt0\"],arrow=False)\n",
    "\n",
    "x.add_output(\"D1\", r\"\\hat{\\mathbf{u}}_1^*\", side=LEFT)\n",
    "x.add_output(\"D2\", r\"\\hat{\\mathbf{u}}_2^*\", side=LEFT)\n",
    "x.add_output(\"opt1\", r\"\\mathbf{x}_1^*\", side=LEFT)\n",
    "x.add_output(\"opt2\", r\"\\mathbf{x}_2^*\", side=LEFT)\n",
    "x.add_output(\"opt0\", r\"\\mathbf{x}_0^*\", side=LEFT)\n",
    "\n",
    "x.add_input(\"w\",r\"\\mathbf{v}^{(0)}\")\n",
    "x.add_input(\"opt0\",r\"\\mathbf{x}_0^{(0)},\\hat{\\mathbf{u}}_1^{(0)},\\hat{\\mathbf{u}}_2^{(0)}\")\n",
    "x.add_input(\"opt1\",r\"\\mathbf{x}_{0,1}^{t,(0)},\\mathbf{x}_{1}^{(0)}\")\n",
    "x.add_input(\"opt2\",r\"\\mathbf{x}_{0,2}^{t,(0)},\\mathbf{x}_{2}^{(0)}\")\n",
    "\n",
    "x.write(\"xdsm/atc\",quiet=True,cleanup=True)"
   ]
  },
  {
   "cell_type": "markdown",
   "metadata": {},
   "source": [
    "We can represent the previous ATC XDSM more compactly by stacking the components that can be executed in parallel.\n",
    "\n",
    "| <p style=\"text-align:center;\"><img src=\"./atc_compact.png\" alt=\"atc_c\" width=\"850p\" align=\"center\"/></p> |\n",
    "|:--:|\n",
    "| Fig.10 ATC architecture of a generic example.|"
   ]
  },
  {
   "cell_type": "code",
   "execution_count": 11,
   "metadata": {},
   "outputs": [
    {
     "name": "stdout",
     "output_type": "stream",
     "text": [
      "This is pdfTeX, Version 3.141592653-2.6-1.40.24 (TeX Live 2022) (preloaded format=pdflatex)\n",
      " restricted \\write18 enabled.\n",
      "entering extended mode\n"
     ]
    }
   ],
   "source": [
    "# Change `use_sfmath` to False to use computer modern\n",
    "x = XDSM(use_sfmath=True)\n",
    "\n",
    "x.add_system(\"opt0\", OPT, [r\"\\text{System}\",r\"\\text{optimization}\",r\"0,7\\rightarrow 5\"])\n",
    "x.add_system(\"w\", FUNC, [r\"6: \\text{Update~weights}~\\mathbf{v},\\mathbf{w}\"])\n",
    "x.add_system(\"F0\", FUNC, [r\"5: \\text{System~functions}\", r\"f_0, \\mathbf{g}_0, \\Phi_{1,\\cdots,m}\"])\n",
    "x.add_system(\"opti\", OPT, [r\"\\text{Optimization~}i\",r\"1,4\\rightarrow 2\"],stack=True)\n",
    "x.add_system(\"Fi\", FUNC, [r\"3: \\text{Discipline~}i~\\text{functions}\", r\"f_i, \\mathbf{g}_i, \\Phi_i\"],stack=True)\n",
    "x.add_system(\"Di\", FUNC, [r\"2: \\text{Solver~}i\", r\"\\hat{\\mathbf{u}}_i - \\mathcal{U}_i = 0\"],stack=True)\n",
    "\n",
    "\n",
    "x.connect(\"w\", \"F0\", \"5:\" + r\"\\mathbf{v}\")\n",
    "x.connect(\"w\", \"Fi\", \"3:\" + r\"v_i,w_i\",stack=True)\n",
    "\n",
    "x.connect(\"opt0\", \"F0\", \"5:\" + r\"\\mathbf{x}_0,\\hat{\\mathbf{u}}_{i,\\cdots,m}^t\")\n",
    "x.connect(\"opt0\", \"Fi\", \"3:\" + r\"\\mathbf{x}_0,\\hat{\\mathbf{u}}_i^t\",stack=True)\n",
    "x.connect(\"opt0\", \"Di\", \"2:\" + r\"\\mathbf{x}_0,\\hat{\\mathbf{u}}_{j\\neq i}^t\",stack=True)\n",
    "\n",
    "x.connect(\"F0\", \"opt0\", \"7:\" + r\"f_0,\\mathbf{g}_0,\\Phi_{1,\\cdots,m}\")\n",
    "x.connect(\"F0\", \"w\", \"6:\" + r\"\\Phi_{1,\\cdots,m}\")\n",
    "\n",
    "x.connect(\"opti\", \"F0\", \"5:\" + r\"\\mathbf{x}_{0,i}^t,\\mathbf{x}_{i}\",stack=True)\n",
    "x.connect(\"opti\", \"Fi\", \"3:\" + r\"\\mathbf{x}_{0,i}^t,\\mathbf{x}_{i}\",stack=True)\n",
    "x.connect(\"opti\", \"Di\", \"2:\" + r\"\\mathbf{x}_{0,i}^t,\\mathbf{x}_{i}\",stack=True)\n",
    "\n",
    "x.connect(\"Fi\", \"opti\", \"4:\" + r\"f_1,\\mathbf{g}_i,\\Phi_i\",stack=True)\n",
    "\n",
    "x.connect(\"Di\", \"Fi\", \"3:\" + r\"\\hat{\\mathbf{u}}_i\",stack=True)\n",
    "x.connect(\"Di\", \"F0\", \"5:\" + r\"\\hat{\\mathbf{u}}_i\",stack=True)\n",
    "\n",
    "x.add_process([\"opti\",\"Di\",\"Fi\",\"opti\"],arrow=False)\n",
    "x.add_process([\"opt0\",\"opti\",\"F0\",\"opt0\"],arrow=False)\n",
    "\n",
    "x.add_output(\"Di\", r\"\\hat{\\mathbf{u}}_i^*\", side=LEFT,stack=True)\n",
    "x.add_output(\"opti\", r\"\\mathbf{x}_i^*\", side=LEFT,stack=True)\n",
    "x.add_output(\"opt0\", r\"\\mathbf{x}_0^*\", side=LEFT)\n",
    "\n",
    "x.add_input(\"w\",r\"\\mathbf{v}^{(0)}\")\n",
    "x.add_input(\"opt0\",r\"\\mathbf{x}_0^{(0)},\\hat{\\mathbf{u}}_1^{(0)},\\hat{\\mathbf{u}}_2^{(0)}\")\n",
    "x.add_input(\"opti\",r\"\\mathbf{x}_{0,i}^{t,(0)},\\mathbf{x}_{i}^{(0)}\",stack=True)\n",
    "\n",
    "x.write(\"xdsm/atc_compact\",quiet=True,cleanup=True)"
   ]
  }
 ],
 "metadata": {
  "kernelspec": {
   "display_name": "Python 3.8.10 ('.env': venv)",
   "language": "python",
   "name": "python3"
  },
  "language_info": {
   "codemirror_mode": {
    "name": "ipython",
    "version": 3
   },
   "file_extension": ".py",
   "mimetype": "text/x-python",
   "name": "python",
   "nbconvert_exporter": "python",
   "pygments_lexer": "ipython3",
   "version": "3.8.10"
  },
  "orig_nbformat": 4,
  "vscode": {
   "interpreter": {
    "hash": "c3a72d30fdfce8f84596080eee0b75a32995be584a4c37deda85d4f8d22352cb"
   }
  }
 },
 "nbformat": 4,
 "nbformat_minor": 2
}
