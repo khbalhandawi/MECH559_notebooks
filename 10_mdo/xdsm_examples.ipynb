{
 "cells": [
  {
   "cell_type": "markdown",
   "metadata": {},
   "source": [
    "In this notebook we generate XDSM diagrams for some the examples we looked at in the notebook [distributed_mdo.ipynb](./distributed_mdo.ipynb). We use the [`pyxdsm`](https://mdolab-pyxdsm.readthedocs-hosted.com/) library to generate LaTeX diagrams that you can embed in your reports."
   ]
  },
  {
   "cell_type": "code",
   "execution_count": 75,
   "metadata": {},
   "outputs": [],
   "source": [
    "from pyxdsm.XDSM import XDSM, OPT, SOLVER, FUNC, LEFT"
   ]
  },
  {
   "cell_type": "markdown",
   "metadata": {},
   "source": [
    "# Multi disciplinary analyses (MDAs)\n",
    "\n",
    "## Aerostructural problem\n",
    "\n",
    "The XDSM for aerostructural example looks like this:\n",
    "\n",
    "| <p style=\"text-align:center;\"><img src=\"./aerostructural.png\" alt=\"aero\" width=\"550p\" align=\"center\"/></p> |\n",
    "|:--:|\n",
    "| Fig.1 Aerostructural multidisciplinary analysis (MDA).|"
   ]
  },
  {
   "cell_type": "code",
   "execution_count": 76,
   "metadata": {},
   "outputs": [
    {
     "name": "stdout",
     "output_type": "stream",
     "text": [
      "This is pdfTeX, Version 3.141592653-2.6-1.40.24 (TeX Live 2022) (preloaded format=pdflatex)\n",
      " restricted \\write18 enabled.\n",
      "entering extended mode\n"
     ]
    }
   ],
   "source": [
    "# Change `use_sfmath` to False to use computer modern\n",
    "x = XDSM(use_sfmath=True)\n",
    "\n",
    "x.add_system(\"MDA\", SOLVER, [r\"\\text{MDA: Aerostructural}\",r\"0,3\\rightarrow 1\"])\n",
    "x.add_system(\"D1\", FUNC, r\"1: \\text{Structural}\")\n",
    "x.add_system(\"D2\", FUNC, r\"2: \\text{Aerodynamics}\")\n",
    "\n",
    "x.connect(\"MDA\", \"D1\", \"1:\" + r\"\\hat{\\Gamma}\")\n",
    "x.connect(\"D1\", \"D2\", \"2:\" + r\"\\hat{\\mathbf{d}}\")\n",
    "\n",
    "x.connect(\"D1\", \"MDA\", \"3:\" + r\"\\hat{\\mathbf{d}}\")\n",
    "x.connect(\"D2\", \"MDA\", \"3:\" + r\"\\hat{\\Gamma}\")\n",
    "\n",
    "x.add_process([\"MDA\",\"D1\",\"D2\",\"MDA\"],arrow=False)\n",
    "\n",
    "x.add_output(\"D1\", r\"\\hat{\\mathbf{d}}\", side=LEFT)\n",
    "x.add_output(\"D2\", r\"\\hat{\\Gamma}\", side=LEFT)\n",
    "x.add_input(\"MDA\",r\"\\hat{\\Gamma}^{(0)},\\hat{\\mathbf{d}}^{(0)}\")\n",
    "x.write(\"xdsm/aerostructural\",quiet=True,cleanup=True)"
   ]
  },
  {
   "cell_type": "markdown",
   "metadata": {},
   "source": [
    "## Block-Jacobi MDA\n",
    "\n",
    "The XDSM for the numerical example is\n",
    "\n",
    "| <p style=\"text-align:center;\"><img src=\"./jacobi.png\" alt=\"jacobi\" width=\"550p\" align=\"center\"/></p> |\n",
    "|:--:|\n",
    "| Fig.2 Block Jacobi MDA.|"
   ]
  },
  {
   "cell_type": "code",
   "execution_count": 77,
   "metadata": {},
   "outputs": [
    {
     "name": "stdout",
     "output_type": "stream",
     "text": [
      "This is pdfTeX, Version 3.141592653-2.6-1.40.24 (TeX Live 2022) (preloaded format=pdflatex)\n",
      " restricted \\write18 enabled.\n",
      "entering extended mode\n"
     ]
    }
   ],
   "source": [
    "# Change `use_sfmath` to False to use computer modern\n",
    "x = XDSM(use_sfmath=True)\n",
    "\n",
    "x.add_system(\"MDA\", SOLVER, [r\"Jacobi\",r\"0,3\\rightarrow 1\"])\n",
    "x.add_system(\"D1\", FUNC, [r\"1: \\text{Solver~1}\", r\"\\hat{a} - \\mathcal{U}_1(\\hat{b}) = 0\"])\n",
    "x.add_system(\"D2\", FUNC, [r\"1: \\text{Solver~2}\", r\"\\hat{b} - \\mathcal{U}_2(\\hat{a}) = 0\"])\n",
    "\n",
    "x.connect(\"MDA\", \"D1\", \"1:\" + r\"\\hat{b}\")\n",
    "x.connect(\"MDA\", \"D2\", \"1:\" + r\"\\hat{a}\")\n",
    "\n",
    "x.connect(\"D1\", \"MDA\", \"2:\" + r\"\\hat{a}\")\n",
    "x.connect(\"D2\", \"MDA\", \"2:\" + r\"\\hat{b}\")\n",
    "\n",
    "x.add_process([\"MDA\",\"D1\",\"MDA\"],arrow=False)\n",
    "x.add_process([\"MDA\",\"D2\",\"MDA\"],arrow=False)\n",
    "\n",
    "x.add_output(\"D1\", r\"\\hat{a}\", side=LEFT)\n",
    "x.add_output(\"D2\", r\"\\hat{b}\", side=LEFT)\n",
    "x.add_input(\"MDA\",r\"\\hat{a}^{(0)},\\hat{b}^{(0)}\")\n",
    "x.write(\"xdsm/jacobi\",quiet=True,cleanup=True)"
   ]
  },
  {
   "cell_type": "markdown",
   "metadata": {},
   "source": [
    "## Nonlinear block Gauss–Seidel MDA\n",
    "\n",
    "The XDSM for the numerical example is\n",
    "\n",
    "| <p style=\"text-align:center;\"><img src=\"./gauss.png\" alt=\"gauss\" width=\"550p\" align=\"center\"/></p> |\n",
    "|:--:|\n",
    "| Fig.3 Gauss–Seidel MDA.|"
   ]
  },
  {
   "cell_type": "code",
   "execution_count": 78,
   "metadata": {},
   "outputs": [
    {
     "name": "stdout",
     "output_type": "stream",
     "text": [
      "This is pdfTeX, Version 3.141592653-2.6-1.40.24 (TeX Live 2022) (preloaded format=pdflatex)\n",
      " restricted \\write18 enabled.\n",
      "entering extended mode\n"
     ]
    }
   ],
   "source": [
    "# Change `use_sfmath` to False to use computer modern\n",
    "x = XDSM(use_sfmath=True)\n",
    "\n",
    "x.add_system(\"MDA\", SOLVER, [r\"\\text{Gauss-Seidel}\",r\"0,2\\rightarrow 1\"])\n",
    "x.add_system(\"D1\", FUNC, [r\"1: \\text{Solver~1}\", r\"\\hat{a} - \\mathcal{U}_1(\\hat{b}) = 0\"])\n",
    "x.add_system(\"D2\", FUNC, [r\"2: \\text{Solver~2}\", r\"\\hat{b} - \\mathcal{U}_2(\\hat{a}) = 0\"])\n",
    "\n",
    "x.connect(\"MDA\", \"D1\", \"1:\" + r\"\\hat{b}\")\n",
    "x.connect(\"D1\", \"D2\", \"2:\" + r\"\\hat{a}\")\n",
    "\n",
    "x.connect(\"D1\", \"MDA\", \"3:\" + r\"\\hat{a}\")\n",
    "x.connect(\"D2\", \"MDA\", \"3:\" + r\"\\hat{b}\")\n",
    "\n",
    "x.add_process([\"MDA\",\"D1\",\"D2\",\"MDA\"],arrow=False)\n",
    "\n",
    "x.add_output(\"D1\", r\"\\hat{a}\", side=LEFT)\n",
    "x.add_output(\"D2\", r\"\\hat{b}\", side=LEFT)\n",
    "x.add_input(\"MDA\",r\"\\hat{a}^{(0)},\\hat{b}^{(0)}\")\n",
    "x.write(\"xdsm/gauss\",quiet=True,cleanup=True)"
   ]
  },
  {
   "cell_type": "markdown",
   "metadata": {},
   "source": [
    "## The reduced-space hierarchical Newton solver\n",
    "\n",
    "The XDSM for the numerical example is\n",
    "\n",
    "| <p style=\"text-align:center;\"><img src=\"./newton.png\" alt=\"newton\" width=\"550p\" align=\"center\"/></p> |\n",
    "|:--:|\n",
    "| Fig.4 Reduced-space hierarchical Newton MDA.|"
   ]
  },
  {
   "cell_type": "code",
   "execution_count": 79,
   "metadata": {},
   "outputs": [
    {
     "name": "stdout",
     "output_type": "stream",
     "text": [
      "This is pdfTeX, Version 3.141592653-2.6-1.40.24 (TeX Live 2022) (preloaded format=pdflatex)\n",
      " restricted \\write18 enabled.\n",
      "entering extended mode\n"
     ]
    }
   ],
   "source": [
    "# Change `use_sfmath` to False to use computer modern\n",
    "x = XDSM(use_sfmath=True)\n",
    "\n",
    "x.add_system(\"MDA\", SOLVER, [r\"\\text{Newton}\",r\"0,2\\rightarrow 1\"])\n",
    "x.add_system(\"D1\", FUNC, [r\"1: \\text{Solver~1}\", r\"\\hat{a} - \\mathcal{U}_1(\\hat{b}) = 0\"])\n",
    "x.add_system(\"D2\", FUNC, [r\"1: \\text{Solver~2}\", r\"\\hat{b} - \\mathcal{U}_2(\\hat{a}) = 0\"])\n",
    "\n",
    "x.connect(\"MDA\", \"D1\", \"1:\" + r\"\\hat{b}\")\n",
    "x.connect(\"MDA\", \"D2\", \"1:\" + r\"\\hat{a}\")\n",
    "\n",
    "x.connect(\"D1\", \"MDA\", \"2:\" + r\"\\hat{a},\\dfrac{\\partial\\mathcal{U}_1}{\\partial \\hat{a}}\")\n",
    "x.connect(\"D2\", \"MDA\", \"2:\" + r\"\\hat{b},\\dfrac{\\partial\\mathcal{U}_2}{\\partial \\hat{b}}\")\n",
    "\n",
    "x.add_process([\"MDA\",\"D1\",\"MDA\"],arrow=False)\n",
    "x.add_process([\"MDA\",\"D2\",\"MDA\"],arrow=False)\n",
    "\n",
    "x.add_output(\"D1\", r\"\\hat{a}\", side=LEFT)\n",
    "x.add_output(\"D2\", r\"\\hat{b}\", side=LEFT)\n",
    "x.add_input(\"MDA\",r\"\\hat{a}^{(0)},\\hat{b}^{(0)}\")\n",
    "x.write(\"xdsm/newton\",quiet=True,cleanup=True)"
   ]
  },
  {
   "cell_type": "markdown",
   "metadata": {},
   "source": [
    "# Multi disciplinary optimization (MDO)\n",
    "\n",
    "## Multi disciplinary feasible (MDF) architecture\n",
    "\n",
    "The XDSM for an MDF using a Newton solver as the MDA for the numerical example is given below\n",
    "\n",
    "| <p style=\"text-align:center;\"><img src=\"./mdf.png\" alt=\"mdf\" width=\"950p\" align=\"center\"/></p> |\n",
    "|:--:|\n",
    "| Fig.5 MDF using a reduced-space hierarchical Newton MDA.|"
   ]
  },
  {
   "cell_type": "code",
   "execution_count": 80,
   "metadata": {},
   "outputs": [
    {
     "name": "stdout",
     "output_type": "stream",
     "text": [
      "This is pdfTeX, Version 3.141592653-2.6-1.40.24 (TeX Live 2022) (preloaded format=pdflatex)\n",
      " restricted \\write18 enabled.\n",
      "entering extended mode\n"
     ]
    }
   ],
   "source": [
    "# Change `use_sfmath` to False to use computer modern\n",
    "x = XDSM(use_sfmath=True)\n",
    "\n",
    "x.add_system(\"opt\", OPT, [r\"\\text{Optimization}\",r\"0,5\\rightarrow 1\"])\n",
    "x.add_system(\"MDA\", SOLVER, [r\"\\text{Newton}\",r\"0,3\\rightarrow 1\"])\n",
    "x.add_system(\"D1\", FUNC, [r\"2: \\text{Solver~1}\", r\"\\hat{a} - \\mathcal{U}_1(\\mathbf{x};\\hat{b}) = 0\"])\n",
    "x.add_system(\"D2\", FUNC, [r\"2: \\text{Solver~2}\", r\"\\hat{b} - \\mathcal{U}_2(\\mathbf{x};\\hat{a}) = 0\"])\n",
    "x.add_system(\"F\", FUNC, [r\"4: \\text{Functions}\", r\"f(\\mathbf{x};\\hat{a},\\hat{b}), g(\\mathbf{x};\\hat{a},\\hat{b})\"])\n",
    "\n",
    "x.connect(\"opt\", \"D1\", \"2:\" + r\"\\mathbf{x}\")\n",
    "x.connect(\"opt\", \"D2\", \"2:\" + r\"\\mathbf{x}\")\n",
    "x.connect(\"MDA\", \"D1\", \"2:\" + r\"\\hat{b}\")\n",
    "x.connect(\"MDA\", \"D2\", \"2:\" + r\"\\hat{a}\")   \n",
    "\n",
    "x.connect(\"opt\", \"F\", \"4:\" + r\"\\mathbf{x}\")\n",
    "x.connect(\"D1\", \"F\", \"4:\" + r\"\\hat{a}\")\n",
    "x.connect(\"D2\", \"F\", \"4:\" + r\"\\hat{b}\")\n",
    "\n",
    "x.connect(\"D1\", \"MDA\", \"3:\" + r\"\\hat{a},\\dfrac{\\partial\\mathcal{U}_1}{\\partial \\hat{a}}\")\n",
    "x.connect(\"D2\", \"MDA\", \"3:\" + r\"\\hat{b},\\dfrac{\\partial\\mathcal{U}_2}{\\partial \\hat{b}}\")\n",
    "x.connect(\"F\", \"opt\", \"5:\" + r\"f(\\mathbf{x};\\hat{a},\\hat{b}), g(\\mathbf{x};\\hat{a},\\hat{b})\")\n",
    "\n",
    "x.add_process([\"MDA\",\"D1\",\"MDA\"],arrow=False)\n",
    "x.add_process([\"MDA\",\"D2\",\"MDA\"],arrow=False)\n",
    "x.add_process([\"opt\",\"MDA\",\"F\",\"opt\"],arrow=False)\n",
    "\n",
    "x.add_output(\"D1\", r\"\\hat{a}^*\", side=LEFT)\n",
    "x.add_output(\"D2\", r\"\\hat{b}^*\", side=LEFT)\n",
    "x.add_output(\"opt\", r\"\\mathbf{x}^*\", side=LEFT)\n",
    "\n",
    "x.add_input(\"opt\",r\"\\mathbf{x}^{(0)}\")\n",
    "x.add_input(\"MDA\",r\"\\hat{a}^{(0)},\\hat{b}^{(0)}\")\n",
    "\n",
    "x.write(\"xdsm/mdf\",quiet=True,cleanup=True)"
   ]
  },
  {
   "cell_type": "markdown",
   "metadata": {},
   "source": [
    "We can represent the previous MDF more compactly by stacking the components that can be executed in parallel.\n",
    "\n",
    "| <p style=\"text-align:center;\"><img src=\"./mdf_compact.png\" alt=\"mdf_c\" width=\"850p\" align=\"center\"/></p> |\n",
    "|:--:|\n",
    "| Fig.6 MDF using a reduced-space hierarchical Newton MDA for generic example.|"
   ]
  },
  {
   "cell_type": "code",
   "execution_count": 81,
   "metadata": {},
   "outputs": [
    {
     "name": "stdout",
     "output_type": "stream",
     "text": [
      "This is pdfTeX, Version 3.141592653-2.6-1.40.24 (TeX Live 2022) (preloaded format=pdflatex)\n",
      " restricted \\write18 enabled.\n",
      "entering extended mode\n"
     ]
    }
   ],
   "source": [
    "# Change `use_sfmath` to False to use computer modern\n",
    "x = XDSM(use_sfmath=True)\n",
    "\n",
    "x.add_system(\"opt\", OPT, [r\"\\text{Optimization}\",r\"0,5\\rightarrow 1\"])\n",
    "x.add_system(\"MDA\", SOLVER, [r\"\\text{Newton}\",r\"0,3\\rightarrow 1\"])\n",
    "x.add_system(\"D\", FUNC, [r\"2: \\text{Solver~}i\", r\"\\hat{u}_i - \\mathcal{U}_i(\\mathbf{x};\\hat{u}_{j\\neq i}) = 0\"], stack=True)\n",
    "x.add_system(\"F\", FUNC, [r\"4: \\text{Functions}\", r\"f(\\mathbf{x};\\hat{\\mathbf{u}}), g(\\mathbf{x};\\hat{\\mathbf{u}})\"])\n",
    "\n",
    "x.connect(\"opt\", \"D\", \"2:\" + r\"\\mathbf{x}\")\n",
    "x.connect(\"MDA\", \"D\", \"2:\" + r\"\\hat{u}_{j\\neq i}\", stack=True)\n",
    "\n",
    "x.connect(\"opt\", \"F\", \"4:\" + r\"\\mathbf{x}\")\n",
    "x.connect(\"D\", \"F\", \"4:\" + r\"\\hat{u}_i\", stack=True)\n",
    "\n",
    "x.connect(\"D\", \"MDA\", \"3:\" + r\"\\hat{u}_i,\\dfrac{\\partial\\mathcal{U}_i}{\\partial \\hat{u}_{j\\neq i}}\", stack=True)\n",
    "x.connect(\"F\", \"opt\", \"5:\" + r\"f(\\mathbf{x};\\hat{\\mathbf{u}}), g(\\mathbf{x};\\hat{\\mathbf{u}})\")\n",
    "\n",
    "x.add_process([\"MDA\",\"D\",\"MDA\"],arrow=False)\n",
    "x.add_process([\"opt\",\"MDA\",\"F\",\"opt\"],arrow=False)\n",
    "\n",
    "x.add_output(\"D\", r\"\\hat{u}_i^*\", side=LEFT, stack=True)\n",
    "x.add_output(\"opt\", r\"\\mathbf{x}^*\", side=LEFT)\n",
    "\n",
    "x.add_input(\"opt\",r\"\\mathbf{x}^{(0)}\")\n",
    "x.add_input(\"MDA\",r\"\\hat{u}_i^{(0)}\", stack=True)\n",
    "\n",
    "x.write(\"xdsm/mdf_compact\",quiet=True,cleanup=True)"
   ]
  },
  {
   "cell_type": "markdown",
   "metadata": {},
   "source": [
    "## Individual disciplinary feasible (IDF) architecture\n",
    "\n",
    "The XDSM for an IDF for the numerical example is given below:\n",
    "\n",
    "| <p style=\"text-align:center;\"><img src=\"./idf.png\" alt=\"idf\" width=\"950p\" align=\"center\"/></p> |\n",
    "|:--:|\n",
    "| Fig.7 IDF architecture of the numerical example.|"
   ]
  },
  {
   "cell_type": "code",
   "execution_count": 85,
   "metadata": {},
   "outputs": [
    {
     "name": "stdout",
     "output_type": "stream",
     "text": [
      "This is pdfTeX, Version 3.141592653-2.6-1.40.24 (TeX Live 2022) (preloaded format=pdflatex)\n",
      " restricted \\write18 enabled.\n",
      "entering extended mode\n"
     ]
    }
   ],
   "source": [
    "# Change `use_sfmath` to False to use computer modern\n",
    "x = XDSM(use_sfmath=True)\n",
    "\n",
    "x.add_system(\"opt\", OPT, [r\"\\text{Optimization}\",r\"0,3\\rightarrow 1\"])\n",
    "x.add_system(\"F\", FUNC, [r\"2: \\text{Functions}\", r\"f(\\mathbf{x};\\hat{a},\\hat{b}), g(\\mathbf{x};\\hat{a},\\hat{b})\"])\n",
    "x.add_system(\"D1\", FUNC, [r\"1: \\text{Solver~1}\", r\"\\hat{a} - \\mathcal{U}_1(\\mathbf{x};\\hat{b}^t) = 0\"])\n",
    "x.add_system(\"D2\", FUNC, [r\"1: \\text{Solver~2}\", r\"\\hat{b} - \\mathcal{U}_2(\\mathbf{x};\\hat{a}^t) = 0\"])\n",
    "\n",
    "x.connect(\"opt\", \"F\", \"2:\" + r\"\\mathbf{x},\\hat{\\mathbf{u}}^t\")\n",
    "x.connect(\"opt\", \"D1\", \"1:\" + r\"\\mathbf{x},\\hat{b}^t\")\n",
    "x.connect(\"opt\", \"D2\", \"1:\" + r\"\\mathbf{x},\\hat{a}^t\")       \n",
    "\n",
    "x.connect(\"D1\", \"F\", \"2:\" + r\"\\hat{a}\")\n",
    "x.connect(\"D2\", \"F\", \"2:\" + r\"\\hat{b}\")\n",
    "\n",
    "x.connect(\"F\", \"opt\", \"3:\" + r\"f, \\mathbf{g}, g_c\")\n",
    "\n",
    "x.add_process([\"opt\",\"D1\",\"F\",\"opt\"],arrow=False)\n",
    "x.add_process([\"opt\",\"D2\",\"F\",\"opt\"],arrow=False)\n",
    "\n",
    "x.add_output(\"D1\", r\"\\hat{a}^*\", side=LEFT)\n",
    "x.add_output(\"D2\", r\"\\hat{b}^*\", side=LEFT)\n",
    "x.add_output(\"opt\", r\"\\mathbf{x}^*\", side=LEFT)\n",
    "\n",
    "x.add_input(\"opt\",r\"\\mathbf{x}^{(0)},\\hat{\\mathbf{u}}^{t,(0)}\")\n",
    "\n",
    "x.write(\"xdsm/idf\",quiet=True,cleanup=True)"
   ]
  },
  {
   "cell_type": "markdown",
   "metadata": {},
   "source": [
    "We can represent the previous IDF more compactly by stacking the components that can be executed in parallel.\n",
    "\n",
    "| <p style=\"text-align:center;\"><img src=\"./idf_compact.png\" alt=\"idf_c\" width=\"850p\" align=\"center\"/></p> |\n",
    "|:--:|\n",
    "| Fig.8 IDF architecture of a generic example.|"
   ]
  },
  {
   "cell_type": "code",
   "execution_count": 84,
   "metadata": {},
   "outputs": [
    {
     "name": "stdout",
     "output_type": "stream",
     "text": [
      "This is pdfTeX, Version 3.141592653-2.6-1.40.24 (TeX Live 2022) (preloaded format=pdflatex)\n",
      " restricted \\write18 enabled.\n",
      "entering extended mode\n"
     ]
    }
   ],
   "source": [
    "# Change `use_sfmath` to False to use computer modern\n",
    "x = XDSM(use_sfmath=True)\n",
    "\n",
    "x.add_system(\"opt\", OPT, [r\"\\text{Optimization}\",r\"0,3\\rightarrow 1\"])\n",
    "x.add_system(\"F\", FUNC, [r\"2: \\text{Functions}\", r\"f(\\mathbf{x};\\hat{a},\\hat{b}), g(\\mathbf{x};\\hat{a},\\hat{b})\"])\n",
    "x.add_system(\"D\", FUNC, [r\"1: \\text{Solver~}i\", r\"\\hat{u}_i - \\mathcal{U}_i(\\mathbf{x};\\hat{u}_{j\\neq i}^t) = 0\"], stack=True)\n",
    "\n",
    "x.connect(\"opt\", \"F\", \"2:\" + r\"\\mathbf{x},\\hat{\\mathbf{u}}^t\")\n",
    "x.connect(\"opt\", \"D\", \"1:\" + r\"\\mathbf{x}_i,\\hat{u}_i^t\", stack=True)\n",
    "\n",
    "x.connect(\"D\", \"F\", \"2:\" + r\"\\hat{u}_i\", stack=True)\n",
    "\n",
    "x.connect(\"F\", \"opt\", \"3:\" + r\"f, \\mathbf{g}, g_c\")\n",
    "\n",
    "x.add_process([\"opt\",\"D\",\"F\",\"opt\"],arrow=False)\n",
    "\n",
    "x.add_output(\"D\", r\"\\hat{u}_i^*\", side=LEFT, stack=True)\n",
    "x.add_output(\"opt\", r\"\\mathbf{x}^*\", side=LEFT)\n",
    "\n",
    "x.add_input(\"opt\",r\"\\mathbf{x}^{(0)},\\hat{\\mathbf{u}}^{t,(0)}\")\n",
    "\n",
    "x.write(\"xdsm/idf_compact\",quiet=True,cleanup=True)"
   ]
  }
 ],
 "metadata": {
  "kernelspec": {
   "display_name": "Python 3.8.10 ('.env': venv)",
   "language": "python",
   "name": "python3"
  },
  "language_info": {
   "codemirror_mode": {
    "name": "ipython",
    "version": 3
   },
   "file_extension": ".py",
   "mimetype": "text/x-python",
   "name": "python",
   "nbconvert_exporter": "python",
   "pygments_lexer": "ipython3",
   "version": "3.8.10"
  },
  "orig_nbformat": 4,
  "vscode": {
   "interpreter": {
    "hash": "c3a72d30fdfce8f84596080eee0b75a32995be584a4c37deda85d4f8d22352cb"
   }
  }
 },
 "nbformat": 4,
 "nbformat_minor": 2
}
