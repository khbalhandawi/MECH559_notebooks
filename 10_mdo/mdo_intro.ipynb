{
 "cells": [
  {
   "cell_type": "code",
   "execution_count": 1,
   "metadata": {},
   "outputs": [],
   "source": [
    "import numpy as np"
   ]
  },
  {
   "cell_type": "markdown",
   "metadata": {},
   "source": [
    "# Intro to multidisciplinary analysis (MDA)\n",
    "\n",
    "The motivation for multidisciplinary design optimization (MDO) comes from the large number of multidisciplinary analyses (MDAs) that are common in engineering. The most famous MDA in engineering is the aero-structural analysis problem. We will illustrate using the example of a wing subject to aero-structural loads. The aerodynamic forces deflect the wing which changes its shape, which in turn changes the aerodynamic behaviour of the wing.\n",
    "\n",
    "We will look at a simplified example of a wing modeled as a cantilever beam, made of Euler-Bernoulli beam sections, subject to aerodynamic forces.\n",
    "\n",
    "## Illustrative example: Structure-fluids interaction problem\n",
    "\n",
    "<center>\n",
    "\n",
    "| <p style=\"text-align:center;\"><img src=\"./images/wing_structure_fluid.png\" alt=\"wing\" title=\"A cantilever wing\" width=\"550p\" align=\"center\"/></p> |\n",
    "|:--:|\n",
    "| Fig.0 Aerostructural wing model showing the aerodynamic state variables (circulations $\\Gamma$) on the left and structural state variables (displacements $\\mathbf{d}_z$ and rotations $\\mathbf{d}_\\theta$) on the right.|\n",
    "|*From Martins and Ning*|\n",
    "</center>\n",
    "\n",
    "### Structural Analysis\n",
    "\n",
    "Structural analysis can be performed using finite element software to solve for the structural displacements $\\mathbf{d}$ given some boundary conditions such as forces $\\mathbf{q}$. These forces may come from an aerodynamic analysis and are related to the computational fluid dynamics state variables $\\hat{\\Gamma}$. In this example, $\\hat{\\Gamma}$ is the circulation vortex strength on a wing. The hat denotes that these values are estimates of the state variables when the analysis has converged and are called *coupling variables*.\n",
    "\n",
    "\\begin{equation}\n",
    "K\\mathbf{d} - \\mathbf{q}(\\hat{\\Gamma}) = \\mathbf{0}\n",
    "\\tag{1}\n",
    "\\end{equation}\n",
    "\n",
    "Solving the above equation is done by specialized finite element software and returns a solution ${\\mathbf{d}}$ that estimates the displacements. In other words, the FEA program can be thought of as a function $\\mathcal{U}_1(\\hat{\\Gamma})$ that returns the displacements ${\\mathbf{d}}$ given some aerodynamic forces $\\mathbf{q}(\\hat{\\Gamma})$. \n",
    "\n",
    "The residual for this discipline becomes $r_1(\\hat{\\mathbf{d}};\\hat{\\mathbf{q}}) = \\hat{\\mathbf{d}} - \\mathcal{U}_1(\\hat{\\Gamma}) = \\hat{\\mathbf{d}} - {\\mathbf{d}} = \\mathbf{0}$ and solving it returns an estimate of displacements that will cause the analysis to converge $\\hat{\\mathbf{d}}$. These estimates will be passed back to the aerodynamic analysis.\n",
    "\n",
    "### Aerodynamic Analysis\n",
    "\n",
    "The aerodynamic analysis involves solving the following system of equations using computational fluid dynamics (CFD).\n",
    "\n",
    "\\begin{equation}\n",
    "A(\\hat{\\mathbf{d}})\\Gamma - \\mathbf{v}(\\hat{\\mathbf{d}}) = \\mathbf{0}\n",
    "\\tag{2}\n",
    "\\end{equation}\n",
    "\n",
    "where $\\Gamma$ is the state vector we want to solve for representing the circulation vortex strength. $\\mathbf{v}$ is a vector of boundary conditions (similar to the vector of applied loads $\\mathbf{q}$ in the structural analysis). $A$ is the matrix of aerodynamic influence coefficients (similar to the global stiffness matrix $K$ from the structural analysis). However, unlike $K$, $A$ depends on the shape of the wing which in turn depends on the displacements estimated by the structural analysis $\\hat{\\mathbf{d}}$.\n",
    "\n",
    "The residual for this discipline becomes $r_2(\\hat{\\Gamma};\\hat{\\mathbf{d}}) = \\hat{\\Gamma} - \\mathcal{U}_2(\\hat{\\mathbf{d}}) = \\hat{\\Gamma} - {\\Gamma} = \\mathbf{0}$, where $\\mathcal{U}_2(\\hat{\\mathbf{d}})$ involves solving Equation (2) for the circulation vortex strength $\\Gamma$.\n",
    "\n",
    "The estimated coupling variable $\\hat{\\Gamma}$ is passed back to the aerodynamic analysis. The previous analysis can be described by the diagram below.\n",
    "\n",
    "<center>\n",
    "\n",
    "| <p style=\"text-align:center;\"><img src=\"./images/MDA_diagram_aero.png\" alt=\"mda_diag\" width=\"750p\" align=\"center\"/></p> |\n",
    "|:--:|\n",
    "| Fig.1 Aerostructural multidisciplinary analysis (MDA) diagram.|\n",
    "</center>\n",
    "\n",
    "\n",
    "\n",
    "The XDSM for the aforementioned aero-structural analysis problem is shown below:\n",
    "\n",
    "The XDSM for aerostructural example looks like this:\n",
    "\n",
    "<center>\n",
    "\n",
    "| <p style=\"text-align:center;\"><img src=\"./xdsm/aerostructural.png\" alt=\"aero\" width=\"750p\" align=\"center\"/></p> |\n",
    "|:--:|\n",
    "| Fig.2 XDSM for Aerostructural multidisciplinary analysis (MDA).|\n",
    "</center>"
   ]
  },
  {
   "cell_type": "markdown",
   "metadata": {},
   "source": [
    "## Numerical MDA example\n",
    "\n",
    "Consider the following coupled optimization problem\n",
    "\n",
    "\\begin{equation*}\n",
    "\t\\begin{aligned}\n",
    "\t\t& \\underset{\\mathbf{x} = \\left[u,v,w\\right]^\\mathrm{T}}{\\text{minimize}}\n",
    "\t\t& & f(u,v;a,b) = u+v+a+b\\\\\n",
    "\t\t& \\text{subject to}\n",
    "\t\t& & g(w;b) = w + b -10 \\leq 0\\\\\n",
    "        & & & 0 \\leq u,v,w \\leq 10\\\\\n",
    "\t\t& \\text{while solving}\n",
    "\t\t& & r_1(a;b) = a - \\left(\\log(u) + \\log(v) + \\log(b)\\right) = 0\\\\\n",
    "        & & & r_2(b;a) = b - \\left(u^{-1} + w^{-1} + a^{-1}\\right) = 0\\\\\n",
    "\t\t& \\text{for a given $u$, $v$, and $w$}\n",
    "\t\\end{aligned}\n",
    "    \\tag{3}\n",
    "\\end{equation*}\n",
    "\n",
    "Solving for the state variables $a$ and $b$ involves solving the set of equations below. Equation (4) is an example of an MDA (just like the aerostructural problem earlier):\n",
    "\n",
    "\\begin{equation*}\n",
    "\t\\begin{aligned}\n",
    "\t\t& r_1(a;b) = a - \\left(\\log(u) + \\log(v) + \\log(b)\\right) = 0\\\\\n",
    "\t\t& r_2(b;a) = b - \\left(u^{-1} + w^{-1} + a^{-1}\\right) = 0\\\\\n",
    "\t\\end{aligned}\n",
    "    \\tag{4}\n",
    "\\end{equation*}\n",
    "\n",
    "which cannot be solved explicitly. To prove this, Let us try to find an explicit expression for $a$ in terms of $b$."
   ]
  },
  {
   "cell_type": "code",
   "execution_count": 2,
   "metadata": {},
   "outputs": [],
   "source": [
    "import sympy as sym\n",
    "from sympy import pprint, latex, root\n",
    "from IPython.display import display, Latex\n",
    "\n",
    "a = sym.Symbol(\"a\")\n",
    "b = sym.Symbol(\"b\")\n",
    "u = sym.Symbol(\"u\")\n",
    "v = sym.Symbol(\"v\")\n",
    "w = sym.Symbol(\"w\")\n",
    "\n",
    "r1 = a - sym.log(u) - sym.log(v) - sym.log(b)\n",
    "r2 = b - 1/u - 1/w  - 1/a\n",
    "\n",
    "eq1 = a - sym.log(u) - sym.log(v) - sym.log(1/u + 1/w  + 1/a)\n",
    "# sym.solve(eq1,a) # trying to solve for a explicitly will result in an error!"
   ]
  },
  {
   "cell_type": "markdown",
   "metadata": {},
   "source": [
    "Instead, we focus on solving for $a$ and $b$ such that the residuals $r_1=0$ and $r_2=0$ iteratively using a Multidisciplinary Analysis (MDA) for a fixed value of $u$, $v$, and $w$. First let us slightly change the notation of the governing equations:\n",
    "\n",
    "\\begin{align*}\n",
    "\t& r_1(\\hat{a};\\hat{b}) = \\hat{a} - \\mathcal{U}_1(\\hat{b}) = 0\\\\\n",
    "\t& r_2(\\hat{b};\\hat{a}) = \\hat{b} - \\mathcal{U}_2(\\hat{a}) = 0\\\\\n",
    "\\end{align*}\n",
    "\n",
    "$\\mathcal{U}_1(\\hat{b})$ and $\\mathcal{U}_2(\\hat{a})$ are considered the discipline solvers and could represent the FEA and CFD programs in the aerostructural problem."
   ]
  },
  {
   "cell_type": "markdown",
   "metadata": {},
   "source": [
    "## The Nonlinear block Gauss–Seidel and block Jacobi MDA algorithms\n",
    "\n",
    "The MDA approach we will use is called the *block Gauss–Seidel algorithm* and has an XDSM similar to that of the aerostructural problem. \n",
    "1) Starting with an initial guess for $\\hat{a}$ and $\\hat{b}$, $\\hat{a}^{(0)}$ and $\\hat{b}^{(0)}$, respectively, \n",
    "2) we solve discipline 1 for $\\hat{a}$.\n",
    "3) We feed $\\hat{a}$ into discipline 2,\n",
    "4) and then solve for $\\hat{b}$ and then go back to step 2.\n",
    "\n",
    "We repeat the above process until $\\hat{a}_\\mathrm{new} - \\hat{a}_\\mathrm{old} \\leq \\varepsilon$, where $\\varepsilon$ is some tolerance. We can also solve for $\\hat{a}$ and $\\hat{b}$ simultaneously rather than serially resulting in the block Jacobi MDA.\n",
    "\n",
    "The XDSM for the above MDAs is shown below:\n",
    "\n",
    "<center>\n",
    "\n",
    "| <p style=\"text-align:center;\"><img src=\"./xdsm/gauss.png\" alt=\"gauss\" width=\"750p\" align=\"center\"/></p> |\n",
    "|:--:|\n",
    "| <p style=\"text-align:center;\"><img src=\"./xdsm/jacobi.png\" alt=\"jacobi\" width=\"750p\" align=\"center\"/></p> |\n",
    "| Fig.3 block Gauss–Seidel and Block Jacobi MDAs.|\n",
    "</center>\n",
    "\n",
    "This algorithm is implemented below in Python."
   ]
  },
  {
   "cell_type": "code",
   "execution_count": 3,
   "metadata": {},
   "outputs": [
    {
     "name": "stdout",
     "output_type": "stream",
     "text": [
      "[      0 1000002]\n",
      "[13  2]\n",
      "[      0 1000002]\n",
      "[13  2]\n",
      "[      0 1000002]\n",
      "[13  2]\n",
      "[      0 1000002]\n",
      "[13  2]\n",
      "[      0 1000002]\n",
      "[13  2]\n",
      "[      0 1000002]\n"
     ]
    }
   ],
   "source": [
    "# these are your coupled disciplines\n",
    "U1 = lambda uj: np.log(u) + np.log(v) + np.log(uj[0]+1e-6)\n",
    "U2 = lambda uj: 1/u + 1/w + 1/(uj[0]+1e-6)\n",
    "\n",
    "u = 1\n",
    "v = 1\n",
    "w = 1\n",
    "a0=1\n",
    "b0=1\n",
    "uk = np.array([a0,b0])\n",
    "k = 0\n",
    "e = 1e-6\n",
    "disciplines = [U1,U2]\n",
    "\n",
    "while True:\n",
    "    uk_old = uk.copy()\n",
    "    for i,discipline in enumerate(disciplines):\n",
    "        mask = [True,]*len(disciplines)\n",
    "        mask[i] = False # select all state variables except the current one (u_i)\n",
    "        uk[i] = discipline(uk[mask])\n",
    "    if np.linalg.norm(uk - uk_old) <= e or k > 10:\n",
    "        break\n",
    "    k+=1\n",
    "    print(uk)"
   ]
  },
  {
   "cell_type": "markdown",
   "metadata": {},
   "source": [
    "We can see that the previous algorithm did not converge. It started to oscillate.\n",
    "We can use an alternative algorithm that is based on the Newton-Raphson scheme to handle the coupling between the disciplines."
   ]
  },
  {
   "cell_type": "markdown",
   "metadata": {},
   "source": [
    "## The reduced-space hierarchical Newton solver\n",
    "\n",
    "This algorithm is unequivocally also called *Newton’s Method*. As with the Newton-Raphson algorithm, it requires derivative information to find the coupling variables $\\hat{a}$ and $\\hat{b}$ at which convergence occurs. The algorithm goes something like this:\n",
    "\n",
    "1) Starting with an initial guess for $\\hat{a}$ and $\\hat{b}$, $\\hat{a}^{(0)}$ and $\\hat{b}^{(0)}$, respectively, \n",
    "2) we solve discipline 1 for $\\hat{a}$. We also find the gradient of the discipline analysis $\\mathcal{U}(\\hat{b})$ with respect to $\\hat{b}$. In other words, $\\dfrac{\\partial\\mathcal{U}_1}{\\partial\\hat{b}}$ (all coupling variables except $\\hat{a}$)\n",
    "3) In parallel, we solve discipline 2 for $\\hat{b}$. We also find the gradient with respect to $\\hat{a}$, $\\dfrac{\\partial\\mathcal{U}_2}{\\partial\\hat{b}}$ (all coupling variables except $\\hat{b}$)\n",
    "4) We solve the following system of equations for $\\Delta\\hat{a}$ and $\\Delta\\hat{b}$:\n",
    "$$\n",
    "\\begin{bmatrix}\n",
    "    1       & \\left.\\dfrac{\\partial\\mathcal{U}_1}{\\partial\\hat{b}}\\right|_{\\hat{b}}  \\\\\n",
    "    \\left.\\dfrac{\\partial\\mathcal{U}_2}{\\partial\\hat{a}}\\right|_{\\hat{a}}        & 1  \\\\\n",
    "\\end{bmatrix}\n",
    "\\begin{bmatrix}\n",
    "    \\Delta\\hat{a}\\\\\n",
    "    \\Delta\\hat{b}\\\\\n",
    "\\end{bmatrix} = -\n",
    "\\begin{bmatrix}\n",
    "    \\hat{a} - \\mathcal{U}_1(\\hat{b})\\\\\n",
    "    \\hat{b} - \\mathcal{U}_2(\\hat{a})\\\\\n",
    "\\end{bmatrix}\n",
    "$$\n",
    "5) we update $\\hat{a}$ and $\\hat{b}$ according to $\\hat{a} \\gets \\hat{a} + \\Delta\\hat{a}$ and $\\hat{a} \\gets \\hat{a} + \\Delta\\hat{a}$, respectively and go back to step 2.\n",
    "\n",
    "The XDSM for the above MDA is shown below:\n",
    "\n",
    "<center>\n",
    "\n",
    "| <p style=\"text-align:center;\"><img src=\"./xdsm/newton.png\" alt=\"newton\" width=\"550p\" align=\"center\"/></p> |\n",
    "|:--:|\n",
    "| Fig.4 Reduced-space hierarchical Newton solver.|\n",
    "</center>\n",
    "\n",
    "This algorithm is implemented below in Python."
   ]
  },
  {
   "cell_type": "code",
   "execution_count": 4,
   "metadata": {},
   "outputs": [
    {
     "name": "stdout",
     "output_type": "stream",
     "text": [
      "[3.02009699 2.00969799]\n",
      "[0.96977098 2.55590709]\n",
      "[1.07893819 2.91509142]\n",
      "[1.07507004 2.93015913]\n",
      "[1.07506292 2.93017725]\n"
     ]
    }
   ],
   "source": [
    "# these are your coupled disciplines\n",
    "U1 = lambda uj: np.log(u) + np.log(v) + np.log(uj[0])\n",
    "U2 = lambda uj: 1/u + 1/w + 1/(uj[0]+1e-6)\n",
    "\n",
    "# These are the Jacobians of your disciplines\n",
    "dU1 = lambda uj: np.array([1/(uj[0]+1e-6)])\n",
    "dU2 = lambda uj: np.array([-1/(uj[0]+1e-6)**2])\n",
    "\n",
    "u = 1\n",
    "v = 1\n",
    "w = 1\n",
    "a0=100\n",
    "b0=100\n",
    "uk = np.array([a0,b0])\n",
    "k = 0\n",
    "e = 1e-6\n",
    "disciplines = [U1,U2]\n",
    "Jacobians = [dU1,dU2]\n",
    "\n",
    "while True:\n",
    "    U = np.zeros_like(uk)\n",
    "    drdU = np.ones((len(uk),len(uk)))\n",
    "    for i,(discipline,Jacobian) in enumerate(zip(disciplines,Jacobians)):\n",
    "        mask = [True,]*len(disciplines)\n",
    "        mask[i] = False # select all state variables but current one\n",
    "        U[i] = discipline(uk[mask]) # estimate coupling variables\n",
    "        drdU[i,mask] = -Jacobian(uk[mask]) # estimate gradient of coupling variables\n",
    "\n",
    "    r = uk - U # residuals\n",
    "    if np.linalg.norm(r) <= e or k > 100:\n",
    "        break\n",
    "    \n",
    "    # Newton-Raphson step\n",
    "    du = np.linalg.inv(drdU) @ -r\n",
    "    uk = uk + du\n",
    "    k+=1\n",
    "    print(uk)"
   ]
  },
  {
   "cell_type": "markdown",
   "metadata": {},
   "source": [
    "We found a solution for $a$ and $b$. You can plug those values into your calculator and check that they satisfy the Equations in (4) yourself! \n",
    "\n",
    "However, we had to provide the Jacobian of the analysis functions $\\dfrac{\\partial\\mathcal{U}}{\\partial\\hat{\\mathbf{u}}}$ with respect to the coupling variables $\\hat{\\mathbf{u}} = \\begin{bmatrix} \\hat{a} & \\hat{b} \\end{bmatrix}^\\mathrm{T}$ for the solver to converge. When $\\mathcal{U}_1$ and $\\mathcal{U}_2$ are blackboxes (as in the aerostructural problem at the beginning of this notebook), we seldom have access to residuals, let alone gradient information! In other words, we sort of cheated. "
   ]
  },
  {
   "cell_type": "markdown",
   "metadata": {},
   "source": [
    "# Multidisciplinary design optimization\n",
    "\n",
    "Since the MDA seems to converge when using the reduced Newton solver, we will use it to solve the optimization problem (1) at the beginning of this notebook. Solving the optimization problem using an MDA is known as Multidisciplinary feasible (MDF) approach.\n",
    "\n",
    "## Multidisciplinary feasible (MDF) optimization\n",
    "\n",
    "\\begin{equation*}\n",
    "\t\\begin{aligned}\n",
    "\t\t& \\underset{u,v,w}{\\text{minimize}}\n",
    "\t\t& & f(u,v,w) = u+v+\\hat{a}(u,v,w)+\\hat{b}(u,v,w)\\\\\n",
    "\t\t& \\text{subject to}\n",
    "\t\t& & g(u,v,w) = w + \\hat{b}(u,v,w) -10 \\leq 0\\\\\n",
    "        & & & 0 \\leq u,v,w \\leq 10\\\\\n",
    "\t\\end{aligned}\n",
    "    \\tag{5}\n",
    "\\end{equation*}\n",
    "\n",
    "\n",
    "The above optimization problem is called a Multi-disciplinary feasible (MDF) MDO problem since it relies on a monolithic MDA. Note that we have switched out $a$ and $b$ by their MDA counterparts $\\hat{a}$ and $\\hat{b}$ which need to be solved for during every optimization loop!\n",
    "\n",
    "We can use a blackbox optimization algorithm to solve the problem, where the blackbox in this case is the MDA we developed in the previous section. We define the blackbox below."
   ]
  },
  {
   "cell_type": "code",
   "execution_count": 5,
   "metadata": {},
   "outputs": [
    {
     "name": "stdout",
     "output_type": "stream",
     "text": [
      "[-1.31223634e+01  1.99999992e+06]\n"
     ]
    }
   ],
   "source": [
    "# these are your coupled disciplines\n",
    "U1 = lambda x,uj: np.log(x[0]+1e-6) + np.log(x[1]+1e-6) + np.log(uj[0]+1e-6)\n",
    "U2 = lambda x,uj: 1/(x[0]+1e-6) + 1/(x[2]+1e-6) + 1/(uj[0]+1e-6)\n",
    "\n",
    "# These are the Jacobians of your disciplines\n",
    "dU1 = lambda x,uj: np.array([1/(uj[0]+1e-6)])\n",
    "dU2 = lambda x,uj: np.array([-1/(uj[0]+1e-6)**2])\n",
    "\n",
    "def my_MDA(x,u0,disciplines,Jacobians,epsilon=1e-6,k_max=100):\n",
    "    uk = u0\n",
    "    k = 0\n",
    "    disciplines = [U1,U2]\n",
    "    Jacobians = [dU1,dU2]\n",
    "    while True:\n",
    "        U = np.zeros_like(uk)\n",
    "        drdU = np.ones((len(uk),len(uk)))\n",
    "        for i,(discipline,Jacobian) in enumerate(zip(disciplines,Jacobians)):\n",
    "            mask = [True,]*len(disciplines)\n",
    "            mask[i] = False # select all state variables but current one\n",
    "            U[i] = discipline(x,uk[mask]) # estimate coupling variables\n",
    "            drdU[i,mask] = -Jacobian(x,uk[mask]) # estimate gradient of coupling variables\n",
    "\n",
    "        r = uk - U # residuals\n",
    "        if np.linalg.norm(r) <= epsilon or k > k_max:\n",
    "            break\n",
    "        \n",
    "        # Newton-Raphson step\n",
    "        du = np.linalg.inv(drdU) @ -r\n",
    "        uk = uk + du\n",
    "        k+=1\n",
    "\n",
    "    return uk\n",
    "\n",
    "u = 0.0\n",
    "v = 0.0\n",
    "w = 0.0\n",
    "x = [u,v,w]\n",
    "state0=np.array([100,100])\n",
    "disciplines = [U1,U2]\n",
    "Jacobians = [dU1,dU2]\n",
    "\n",
    "u_hat = my_MDA(x,state0,disciplines,Jacobians)\n",
    "print(u_hat)"
   ]
  },
  {
   "cell_type": "markdown",
   "metadata": {},
   "source": [
    "A blackbox that returns the objective and constraint value can now be defined as follows:"
   ]
  },
  {
   "cell_type": "code",
   "execution_count": 6,
   "metadata": {},
   "outputs": [],
   "source": [
    "def my_bb(x,args):\n",
    "\n",
    "    state0 = args[0]\n",
    "    disciplines = args[1]\n",
    "    Jacobians = args[2]\n",
    "\n",
    "    u_hat = my_MDA(x,state0,disciplines,Jacobians)\n",
    "    f = x[0] + x[1] + u_hat[0] + u_hat[1]\n",
    "    g = x[2] + u_hat[1] - 10.0\n",
    "\n",
    "    return [f,[g,-u_hat[0],-u_hat[1]]]"
   ]
  },
  {
   "cell_type": "markdown",
   "metadata": {},
   "source": [
    "The blackbox above is what we can feed to [`OMADS`](https://ahmed-bayoumy.github.io/OMADS/)."
   ]
  },
  {
   "cell_type": "code",
   "execution_count": 7,
   "metadata": {},
   "outputs": [
    {
     "name": "stdout",
     "output_type": "stream",
     "text": [
      "xmin  :  [1.1874999999927240424, 0.74511669576168060303, 7.6562655009329319]\n",
      "fmin  :  5.005735228721652552\n",
      "hmin  :  9.996378214847634363e-19\n",
      "nbb_evals  :  469\n",
      "niterations  :  78\n",
      "nb_success  :  27\n",
      "psize  :  9.094947017729282379e-13\n",
      "psuccess  :  7.2759576141834259033e-12\n",
      "pmax  :  2.0\n",
      "===========================\n"
     ]
    },
    {
     "data": {
      "text/latex": [
       "$f(\\mathbf{x}^*) = 5.0057$"
      ],
      "text/plain": [
       "<IPython.core.display.Latex object>"
      ]
     },
     "metadata": {},
     "output_type": "display_data"
    },
    {
     "data": {
      "text/latex": [
       "$\\mathbf{x}^*$ = $[1.1875~~0.7451~~7.6563]^\\mathrm{T}$"
      ],
      "text/plain": [
       "<IPython.core.display.Latex object>"
      ]
     },
     "metadata": {},
     "output_type": "display_data"
    },
    {
     "data": {
      "text/latex": [
       "$g(\\mathbf{x}^*)$ = $0.0000$"
      ],
      "text/plain": [
       "<IPython.core.display.Latex object>"
      ]
     },
     "metadata": {},
     "output_type": "display_data"
    },
    {
     "data": {
      "text/latex": [
       "$\\hat{\\mathbf{u}}(\\mathbf{x}^*)$ = $[0.7294~~2.3437]^\\mathrm{T}$"
      ],
      "text/plain": [
       "<IPython.core.display.Latex object>"
      ]
     },
     "metadata": {},
     "output_type": "display_data"
    }
   ],
   "source": [
    "import OMADS\n",
    "\n",
    "# Optimization setup\n",
    "u0 = 1.0; v0 = 1.0; w0 = 1.0\n",
    "x0 = [u0,v0,w0]\n",
    "\n",
    "f,g = my_bb(x0,args=[state0,disciplines,Jacobians]) # its a good idea to test the blackbox function first at the initial guess\n",
    "\n",
    "lb = [0.0, 0.0, 0.0]\n",
    "ub = [10., 10., 10.]\n",
    "\n",
    "eval = {\"blackbox\": my_bb,\n",
    "        \"constants\": [state0,disciplines,Jacobians]} # you can pass blackbox specific options using the ``constants`` key\n",
    "param = {\"baseline\": x0,\n",
    "        \"lb\": lb,\n",
    "        \"ub\": ub,\n",
    "        \"var_names\": [\"u\", \"v\", \"w\"],\n",
    "        \"scaling\": 10.0,\n",
    "        \"post_dir\": \"./post\"} # these are OMADS specific options. You can modify them as necessary\n",
    "options = {\"seed\": 0, \"budget\": 100000, \"tol\": 1e-12, \"display\": False}\n",
    "\n",
    "data = {\"evaluator\": eval, \"param\": param, \"options\":options}\n",
    "\n",
    "out = {}\n",
    "# out is a dictionary that will hold output data of the final solution. The out dictionary has three keys: \"xmin\", \"fmin\" and \"hmin\"\n",
    "\n",
    "out = OMADS.main(data)\n",
    "fopt,gopt = my_bb(out[\"xmin\"],args=[state0,disciplines,Jacobians]) # evaluate blackbox at optimizer\n",
    "uopt = my_MDA(out[\"xmin\"],state0,disciplines,Jacobians) # evaluate MDA at optimizer\n",
    "\n",
    "import json\n",
    "for key,value in out.items():\n",
    "    print(key,\" : \",value)\n",
    "print(\"===========================\")\n",
    "f_tex = r\"$f(\\mathbf{x}^*) = %.4f$\" %(out[\"fmin\"])\n",
    "display(Latex(f_tex)) # minimum\n",
    "x_tex = r\"$\\mathbf{x}^*$ = $[%.4f~~%.4f~~%.4f]^\\mathrm{T}$\" %(out[\"xmin\"][0],out[\"xmin\"][1],out[\"xmin\"][2])\n",
    "display(Latex(x_tex)) # optimizer\n",
    "g_tex = r\"$g(\\mathbf{x}^*)$ = $%.4f$\" %(gopt[0])\n",
    "display(Latex(g_tex)) # constraints\n",
    "u_tex = r\"$\\hat{\\mathbf{u}}(\\mathbf{x}^*)$ = $[%.4f~~%.4f]^\\mathrm{T}$\" %(uopt[0],uopt[1])\n",
    "display(Latex(u_tex)) # constraints\n",
    "# print(f_tex)\n",
    "# print(x_tex)\n",
    "# print(g_tex)\n",
    "# print(u_tex)"
   ]
  },
  {
   "cell_type": "markdown",
   "metadata": {},
   "source": [
    "We can see that we obtained a solution to the optimization problem in Equation (5). This entire process above is known as MDF. You should resort to MDF if you manage to find an MDA that converges robustly. i.e., for every possible value of the optimization variables $\\mathbf{x}\\in\\mathcal{F}$, where $\\mathcal{F}$ is your feasible design space that satisfies all your constraints. \n",
    "\n",
    "The XDSM diagram and its corresponding block diagram for the MDF optimization we just performed is given below:\n",
    "\n",
    "<center>\n",
    "\n",
    "| <p style=\"text-align:center;\"><img src=\"./xdsm/mdf.png\" alt=\"mdf\" width=\"950p\" align=\"center\"/></p> |\n",
    "|:--:|\n",
    "| <p style=\"text-align:center;\"><img src=\"./images/MDF_diagram_numerical.png\" alt=\"mdf\" width=\"950p\" align=\"center\"/></p> |\n",
    "| Fig.5 MDF using a reduced-space hierarchical Newton MDA.|\n",
    "</center>\n",
    "\n",
    "or more compactly and generally, as follows:\n",
    "\n",
    "<center>\n",
    "\n",
    "| <p style=\"text-align:center;\"><img src=\"./xdsm/mdf_newton_compact.png\" alt=\"mdf_c\" width=\"850p\" align=\"center\"/></p> |\n",
    "|:--:|\n",
    "| <p style=\"text-align:center;\"><img src=\"./images/MDF_diagram_newton.png\" alt=\"mdf_diag\" width=\"850p\" align=\"center\"/></p> |\n",
    "| Fig.6 MDF using a reduced-space hierarchical Newton MDA (generic problem).|\n",
    "</center>\n",
    "\n",
    "However, as mention earlier we cheated by using the coupled gradients $\\dfrac{\\partial\\mathcal{U}}{\\partial\\hat{\\mathbf{u}}}$. We will now try to solve the above problem without having to resort to an MDA altogether."
   ]
  },
  {
   "cell_type": "markdown",
   "metadata": {},
   "source": [
    "## Individual disciplinary feasible (IDF) optimization\n",
    "\n",
    "We can do away with MDA by letting the optimization algorithm handle to the convergence of the disciplines (i.e., coordinate their solutions). This is done by creating new variables $\\mathbf{u}^t$ known as *target variables*. They are essentially a copy of the actual coupling variables. We then introduce consistency constraints $\\mathbf{h}_c = \\mathbf{u}^t - \\mathbf{u} = \\mathbf{0}$ to the original optimization problem. The original optimization problem in Equation (3) becomes:\n",
    "\n",
    "\\begin{equation*}\n",
    "\t\\begin{aligned}\n",
    "\t\t& \\underset{u,v,w,\\hat{a}^t,\\hat{b}^t}{\\text{minimize}}\n",
    "\t\t& & f(\\mathbf{x};\\hat{a},\\hat{b}) = u+v+\\hat{a}+\\hat{b}\\\\\n",
    "\t\t& \\text{subject to}\n",
    "\t\t& & g(\\mathbf{x};\\hat{b}) = w + \\hat{b} -10 \\leq 0\\\\\n",
    "\t\t& & & h_1^c(\\hat{a}^t;\\hat{a}) = \\hat{a}^t - \\hat{a} = 0\\\\\n",
    "\t\t& & & h_2^c(\\hat{b}^t;\\hat{b}) = \\hat{b}^t - \\hat{b} = 0\\\\\n",
    "        & & & 0 \\leq u,v,w \\leq 10\\\\\n",
    "\t\t& \\text{while solving}\n",
    "\t\t& & r_1(\\hat{a};\\mathbf{x},\\hat{b}^t) = \\hat{a} - \\left(\\log(u) + \\log(v) + \\log(\\hat{b}^t)\\right) = 0\\\\\n",
    "        & & & r_2(\\hat{b};\\mathbf{x},\\hat{a}^t) = \\hat{b} - \\left(\\dfrac{1}{u} + \\dfrac{1}{w} + \\dfrac{1}{\\hat{a}^t}\\right) = 0\\\\\n",
    "\t\t& \\text{for a given $u$, $v$, $w$, $\\hat{a}^t$ and $\\hat{b}^t$}\n",
    "\t\\end{aligned}\n",
    "    \\tag{6}\n",
    "\\end{equation*}\n",
    "\n",
    "Notice that the optimization algorithm must now control 5 variables simultaneously and has two additional equality constraints to worry about. If those copies of the coupling variables were displacement and vortex fields from the aerostructural problem, the optimization algorithm must control tens of thousands of variables and might go bananas.\n",
    "\n",
    "For now since our problem is small, let us attempt to solve it again using `OMADS`. We first define the blackbox associated with IDF."
   ]
  },
  {
   "cell_type": "code",
   "execution_count": 8,
   "metadata": {},
   "outputs": [],
   "source": [
    "def my_bb(x,args):\n",
    "\n",
    "    at = x[3]; bt = x[4] # target variables\n",
    "    ut = np.array([at,bt])\n",
    "    disciplines = args[0]\n",
    "\n",
    "    # solve for coupling variables\n",
    "    u_hat = np.zeros(len(disciplines))\n",
    "    for i,discipline in enumerate(disciplines):\n",
    "        mask = [True,]*len(disciplines)\n",
    "        mask[i] = False # select all coupling variables but current one\n",
    "        u_hat[i] = discipline(x,ut[mask]) # estimate coupling variables\n",
    "\n",
    "    f = x[0] + x[1] + u_hat[0] + u_hat[1]\n",
    "    g = x[2] + u_hat[1] - 10.0\n",
    "    gc = np.linalg.norm(ut - u_hat) - 1e-6\n",
    "\n",
    "    return [f,[g,gc]]"
   ]
  },
  {
   "cell_type": "markdown",
   "metadata": {},
   "source": [
    "Note that I had to slightly reformulate the consistency constraints $h_1^c$ and $h_2^c$ as an inequality constraint ${g}^c = \\left|\\left|\\mathbf{u}^t - \\mathbf{u}\\right|\\right| - \\varepsilon \\leq 0$ since `OMADS` does not yet support equality constraints."
   ]
  },
  {
   "cell_type": "code",
   "execution_count": 9,
   "metadata": {},
   "outputs": [
    {
     "name": "stdout",
     "output_type": "stream",
     "text": [
      "xmin  :  [1.0, 1.20812225341796875, 3.999998461147697526, 1.0, 2.249998331069946289]\n",
      "fmin  :  5.458119331294737586\n",
      "hmin  :  9.9995692311506984225e-19\n",
      "nbb_evals  :  1261\n",
      "niterations  :  126\n",
      "nb_success  :  46\n",
      "psize  :  9.094947017729282379e-13\n",
      "psuccess  :  1.8189894035458564758e-12\n",
      "pmax  :  4.0\n",
      "===========================\n"
     ]
    },
    {
     "data": {
      "text/latex": [
       "$f(\\mathbf{x}^*) = 5.4581$"
      ],
      "text/plain": [
       "<IPython.core.display.Latex object>"
      ]
     },
     "metadata": {},
     "output_type": "display_data"
    },
    {
     "data": {
      "text/latex": [
       "$\\mathbf{x}^*$ = $[1.0000~~1.2081~~4.0000]^\\mathrm{T}$"
      ],
      "text/plain": [
       "<IPython.core.display.Latex object>"
      ]
     },
     "metadata": {},
     "output_type": "display_data"
    },
    {
     "data": {
      "text/latex": [
       "$g(\\mathbf{x}^*)$ = $-3.7500$"
      ],
      "text/plain": [
       "<IPython.core.display.Latex object>"
      ]
     },
     "metadata": {},
     "output_type": "display_data"
    },
    {
     "data": {
      "text/latex": [
       "$g_c(\\mathbf{x}^*)$ = $0.0000$"
      ],
      "text/plain": [
       "<IPython.core.display.Latex object>"
      ]
     },
     "metadata": {},
     "output_type": "display_data"
    },
    {
     "data": {
      "text/latex": [
       "$\\hat{\\mathbf{u}}^t$ = $[1.0000~~2.2500]^\\mathrm{T}$"
      ],
      "text/plain": [
       "<IPython.core.display.Latex object>"
      ]
     },
     "metadata": {},
     "output_type": "display_data"
    },
    {
     "data": {
      "text/latex": [
       "$\\hat{\\mathbf{u}}$ = $[1.0000~~2.2500]^\\mathrm{T}$"
      ],
      "text/plain": [
       "<IPython.core.display.Latex object>"
      ]
     },
     "metadata": {},
     "output_type": "display_data"
    }
   ],
   "source": [
    "# Optimization setup\n",
    "u0 = 1.0; v0 = 1.0; w0 = 1.0; a0 = 1.0; b0 = 1.0\n",
    "x0 = [u0,v0,w0,a0,b0]\n",
    "\n",
    "f,g = my_bb(x0,args=[disciplines]) # its a good idea to test the blackbox function first at the initial guess\n",
    "\n",
    "lb = [0.0, 0.0, 0.0, 0.0, 0.0]\n",
    "ub = [10., 10., 10., 10., 10.]\n",
    "\n",
    "eval = {\"blackbox\": my_bb,\n",
    "        \"constants\": [disciplines]} # you can pass blackbox specific options using the ``constants`` key\n",
    "param = {\"baseline\": x0,\n",
    "        \"lb\": lb,\n",
    "        \"ub\": ub,\n",
    "        \"var_names\": [\"u\", \"v\", \"w\", \"a^t\", \"b^t\"],\n",
    "        \"scaling\": 10.0,\n",
    "        \"post_dir\": \"./post\"} # these are OMADS specific options. You can modify them as necessary\n",
    "options = {\"seed\": 0, \"budget\": 100000, \"tol\": 1e-12, \"display\": False}\n",
    "\n",
    "data = {\"evaluator\": eval, \"param\": param, \"options\":options}\n",
    "\n",
    "out = {}\n",
    "# out is a dictionary that will hold output data of the final solution. The out dictionary has three keys: \"xmin\", \"fmin\" and \"hmin\"\n",
    "\n",
    "out = OMADS.main(data)\n",
    "fopt,gopt = my_bb(out[\"xmin\"],args=[disciplines]) # evaluate blackbox at optimizer\n",
    "uopt = my_MDA(out[\"xmin\"][:3],state0,disciplines,Jacobians) # evaluate MDA at optimizer to check the true coupling variables\n",
    "\n",
    "import json\n",
    "for key,value in out.items():\n",
    "    print(key,\" : \",value)\n",
    "print(\"===========================\")\n",
    "f_tex = r\"$f(\\mathbf{x}^*) = %.4f$\" %(out[\"fmin\"])\n",
    "display(Latex(f_tex)) # minimum\n",
    "x_tex = r\"$\\mathbf{x}^*$ = $[%.4f~~%.4f~~%.4f]^\\mathrm{T}$\" %(out[\"xmin\"][0],out[\"xmin\"][1],out[\"xmin\"][2])\n",
    "display(Latex(x_tex)) # optimizer\n",
    "g_tex = r\"$g(\\mathbf{x}^*)$ = $%.4f$\" %(gopt[0])\n",
    "display(Latex(g_tex)) # constraints\n",
    "gc_tex = r\"$g_c(\\mathbf{x}^*)$ = $%.4f$\" %(gopt[1])\n",
    "display(Latex(gc_tex)) # inconsistency\n",
    "ut_tex = r\"$\\hat{\\mathbf{u}}^t$ = $[%.4f~~%.4f]^\\mathrm{T}$\" %(out[\"xmin\"][3],out[\"xmin\"][4])\n",
    "display(Latex(ut_tex)) # target states\n",
    "u_tex = r\"$\\hat{\\mathbf{u}}$ = $[%.4f~~%.4f]^\\mathrm{T}$\" %(uopt[0],uopt[1])\n",
    "display(Latex(u_tex)) # states\n",
    "# print(f_tex)\n",
    "# print(x_tex)\n",
    "# print(g_tex)\n",
    "# print(gc_tex)\n",
    "# print(ut_tex)\n",
    "# print(u_tex)"
   ]
  },
  {
   "cell_type": "markdown",
   "metadata": {},
   "source": [
    "We converged to a solution thats worse than the one obtained through MDF because of the larger number of variables and constraints that the optimizer has to handle. Imagine what would happen if we tried solving the aerostructural program using IDF.\n",
    "\n",
    "However, there is a silver lining. The solution is a feasible one since the target variables $\\hat{\\mathbf{u}}^t$ match the true coupling variables $\\hat{\\mathbf{u}}$ obtained from the MDA.\n",
    "\n",
    "The XDSM for the IDF optimization approach and its corresponding block diagram is shown below.\n",
    "\n",
    "<center>\n",
    "\n",
    "| <p style=\"text-align:center;\"><img src=\"./xdsm/idf.png\" alt=\"idf\" width=\"950p\" align=\"center\"/></p> |\n",
    "|:--:|\n",
    "| <p style=\"text-align:center;\"><img src=\"./images/IDF_diagram_numerical.png\" alt=\"idf_diag\" width=\"950p\" align=\"center\"/></p> |\n",
    "| Fig.7 IDF architecture of the numerical example.|\n",
    "</center>\n",
    "\n",
    "The general IDF architecture is given by the following XDSM and block diagrams:\n",
    "\n",
    "<center>\n",
    "\n",
    "| <p style=\"text-align:center;\"><img src=\"./xdsm/idf_compact.png\" alt=\"idf_c\" width=\"850p\" align=\"center\"/></p> |\n",
    "|:--:|\n",
    "| <p style=\"text-align:center;\"><img src=\"./images/IDF_diagram.png\" alt=\"idf_diag\" width=\"850p\" align=\"center\"/></p> |\n",
    "| Fig.8 IDF architecture for a generic problem.|\n",
    "</center>"
   ]
  },
  {
   "cell_type": "markdown",
   "metadata": {},
   "source": [
    "## Distributed MDO\n",
    "\n",
    "The state-of-the-art in multidisciplinary design optimization (MDO) is known as distributed MDO (DMDO). There are a plethora if DMDO architectures out there. We will focus on a simple one first introduced by [Kim et al. (2003)](https://asmedigitalcollection.asme.org/mechanicaldesign/article-abstract/125/3/481/476066/Analytical-Target-Cascading-in-Automotive-Vehicle?redirectedFrom=fulltext) and later formalized as an MDO architecture by [Tosserams et al. (2006)](https://link.springer.com/article/10.1007/s00158-005-0579-0). \n",
    "\n",
    "The MDO architecture referenced above is known as *analytical target cascading (ATC)*. In this architecture we use a divide and conquer strategy by splitting up our optimization problem into a system level problem and several discipline subproblems. Notice that in IDF, and MDF we still solved only one optimization problem.\n",
    "\n",
    "We first must introduce the notion of *shared variables* $\\mathbf{x}_0$ and *local variables* $\\mathbf{x}_i$ which are local to discipline $i$. This means that our vector of design variables becomes $\\mathbf{x} = \\begin{bmatrix} \\mathbf{x}_0^\\mathrm{T} & \\mathbf{x}_1^\\mathrm{T} & \\cdots & \\mathbf{x}_m^\\mathrm{T} \\end{bmatrix}$. \n",
    "\n",
    "We can do the same thing for constraints. We *nonlocal constraints* $\\mathbf{g}_0$ and *local constraints* $\\mathbf{g}_i$ for discipline $i$. This means that our vector of design constraints becomes $\\mathbf{g} = \\begin{bmatrix} \\mathbf{g}_0^\\mathrm{T} & \\mathbf{g}_1^\\mathrm{T} & \\cdots & \\mathbf{g}_m^\\mathrm{T} \\end{bmatrix}$. \n",
    "\n",
    "**System-level optimization problem**\n",
    "\n",
    "In ATC, the system level problem modifies the original problem as\n",
    "follows: \n",
    "1) local constraints are removed, \n",
    "2) target coupling variables $\\mathbf{u}^t$ are added as design variables (just like IDF), and \n",
    "3) a penalty term (similar to the consistency constraints $g_c$ we saw earlier in IDF) to the system-level objective function $f_0$ for violating the consistency constraints.\n",
    "\n",
    "\\begin{equation*}\n",
    "\t\\begin{aligned}\n",
    "\t\t& \\underset{\\mathbf{x}_0,\\hat{\\mathbf{u}}^t}{\\text{minimize}}\n",
    "\t\t& & f_0(\\mathbf{x}_0;\\mathbf{x}_1,\\cdots,\\mathbf{x}_m,\\hat{\\mathbf{u}}^t) + \\sum_{i=1}^m \\Phi_i(\\mathbf{x}_{0,i}^t - \\mathbf{x}_{0}, \\hat{\\mathbf{u}}_{i}^t - \\hat{\\mathbf{u}}_{i}(\\mathbf{x}_0,\\mathbf{x}_i,\\hat{\\mathbf{u}}^t))\\\\\n",
    "\t\t& \\text{subject to}\n",
    "\t\t& & \\mathbf{g}_{0}(\\mathbf{x}_0;\\mathbf{x}_1,\\cdots,\\mathbf{x}_m,\\hat{\\mathbf{u}}^t) \\leq \\mathbf{0}\n",
    "\t\\end{aligned}\n",
    "    \\tag{7}\n",
    "\\end{equation*}\n",
    "\n",
    "going back to our numerical example, we can see that $u$ is a shared variable, while $v$ and $w$ are discipline variables. The system level problem gets a copy of the coupling variable estimates from disciplines 2 and 1 as $\\hat{a}^t$ and $\\hat{b}^t$, respectively, while it gets the actual estimates $\\hat{a}$ and $\\hat{b}$ from disciplines 1 and 2, respectively.\n",
    "\n",
    "\\begin{align*}\n",
    "\\mathbf{x}_0 & = \\left[u\\right]^\\mathrm{T}\\\\\n",
    "\\mathbf{x}_1 & = \\left[v\\right]^\\mathrm{T}\\\\\n",
    "\\mathbf{x}_2 & = \\left[w\\right]^\\mathrm{T}\\\\\n",
    "\\hat{\\mathbf{u}}_1 & = \\left[\\hat{a}\\right]^\\mathrm{T}\\\\\n",
    "\\hat{\\mathbf{u}}_2 & = \\left[\\hat{b}\\right]^\\mathrm{T}\\\\\n",
    "\\hat{\\mathbf{u}}_1^t & = \\left[\\hat{a}^t\\right]^\\mathrm{T}\\\\\n",
    "\\hat{\\mathbf{u}}_2^t & = \\left[\\hat{b}^t\\right]^\\mathrm{T}\\\\\n",
    "\\end{align*}\n",
    "\n",
    "There are no shared constraints $\\mathbf{g}_0$. $f_0$ is our objective function. $f_0(u;v,\\hat{a}^t,\\hat{b}^t) = u+v+\\hat{a}^t+\\hat{b}^t$. The system level problem for our example in this notebook becomes:\n",
    "\n",
    "\\begin{equation*}\n",
    "\t\\begin{aligned}\n",
    "\t\t& \\underset{u,\\hat{a}^t,\\hat{b}^t}{\\text{minimize}}\n",
    "\t\t& & u+v+\\hat{a}^t+\\hat{b}^t + \\Phi_1(u_1^t - u, \\hat{a}^t - \\hat{a}(u,v,\\hat{b}^t)) + \\Phi_2(u_2^t - u, \\hat{b}^t - \\hat{b}(u,w,\\hat{a}^t))\n",
    "\t\\end{aligned}\n",
    "    \\tag{8}\n",
    "\\end{equation*}\n",
    "\n",
    "Note that everything with a subscript of $0$ belongs to the system-level problem, while $i\\neq 0$ belongs to the individual sub-system problems which we will talk about now.\n",
    "\n",
    "**Sub-system optimization problem(s)**\n",
    "\n",
    "In ATC, the sub-system level problems have their own local objectives $f_i$ and constraints $g_i$, local variables $\\mathbf{x}_i$, and target variables $\\hat{\\mathbf{u}}_i^t$. They also have their individual disciplinary analyses $r_i = \\hat{\\mathbf{u}}_i - \\mathcal{U}_i = \\mathbf{0}$ which need to be satisfied. The $i$-th sub-system optimization problem is formulated as\n",
    "\n",
    "\\begin{equation*}\n",
    "\t\\begin{aligned}\n",
    "\t\t& \\underset{\\mathbf{x}_{0,i}^t,\\mathbf{x}_i}{\\text{minimize}}\n",
    "\t\t& & f_i(\\mathbf{x}_{0,i}^t,\\mathbf{x}_i;\\hat{\\mathbf{u}}_i) + \\Phi_i(\\hat{\\mathbf{u}}_{i}^t - \\hat{\\mathbf{u}}_{i},\\mathbf{x}_{0,i}^t - \\mathbf{x}_{0})\\\\\n",
    "\t\t& \\text{subject to}\n",
    "\t\t& & \\mathbf{g}_i(\\mathbf{x}_{0,i}^t,\\mathbf{x}_i;\\hat{\\mathbf{u}}_i) \\leq \\mathbf{0}\\\\\n",
    "\t\t& \\text{while solving}\n",
    "\t\t& & r_i(\\hat{\\mathbf{u}}_i;\\mathbf{x}_{0,i}^t,\\mathbf{x}_i,\\hat{\\mathbf{u}}_{j\\neq i}^t) = \\mathbf{0}\\\\\n",
    "\t\t& \\text{for}\n",
    "\t\t& & \\hat{\\mathbf{u}}_i\\\\\n",
    "\t\\end{aligned}\n",
    "    \\tag{9}\n",
    "\\end{equation*}\n",
    "\n",
    "Going back to our numerical example, for discipline 1, we have no local objectives $f_1$ or constraints $\\mathbf{g}_1$. It will get a copy of the shared variable $u$ as $u_1^t$. It has its own local design variables $v$, and its own coupling variable estimate $\\hat{a}$ obtained by solving $\\hat{a} - \\mathcal{U}_1(u_1^t,v,\\hat{b}^t)=0$. It gets a copy of the coupling variables from the system level problem (0) as $\\hat{a}^t$ and $\\hat{b}^t$. So now we have\n",
    "\n",
    "\\begin{align*}\n",
    "\\mathbf{x}_{0,1}^t & = \\left[u_1^t\\right]^\\mathrm{T}\\\\\n",
    "\\mathbf{x}_1 & = \\left[v\\right]^\\mathrm{T}\\\\\n",
    "\\hat{\\mathbf{u}}_1 & = \\left[\\hat{a}\\right]^\\mathrm{T}\\\\\n",
    "\\hat{\\mathbf{u}}_1^t & = \\left[\\hat{a}^t\\right]^\\mathrm{T}\\\\\n",
    "\\hat{\\mathbf{u}}_2^t & = \\left[\\hat{b}^t\\right]^\\mathrm{T}\\\\\n",
    "\\end{align*}\n",
    "\n",
    "and sub-system 1's optimization problem becomes\n",
    "\n",
    "\\begin{equation*}\n",
    "\t\\begin{aligned}\n",
    "\t\t& \\underset{u_1^t,v}{\\text{minimize}}\n",
    "\t\t& & \\Phi_1(\\hat{a}^t - \\hat{a},u_1^t - u)\\\\\n",
    "\t\t& \\text{while solving}\n",
    "\t\t& & r_1(\\hat{a};u_1^t,v,\\hat{b}^t) = \\hat{a} - \\mathcal{U}_1(u_1^t,v,\\hat{b}^t) = 0\\\\\n",
    "\t\t& \\text{for}\n",
    "\t\t& & \\hat{a}\\\\\n",
    "\t\\end{aligned}\n",
    "    \\tag{10}\n",
    "\\end{equation*}\n",
    "\n",
    "For discipline 2, we have no local objectives $f_2$. We have a local constraint $\\mathbf{g}_2 = \\left[g({u}_2^t,w,\\hat{b})\\right]^\\mathrm{T}$. Discipline 2 will get a copy of the shared variable $u$ as $u_2^t$. It has its own local design variables $w$, and its own coupling variable $\\hat{b}$ obtained by solving $\\hat{b} - \\mathcal{U}_2(u_2^t,w,\\hat{a}^t)=0$. It gets a copy of the coupling variables from the system level problem (0) as $\\hat{a}^t$ and $\\hat{b}^t$. So now we have\n",
    "\n",
    "\\begin{align*}\n",
    "\\mathbf{g}_2 & = \\left[g(\\hat{u}_2^t,w,\\hat{b})\\right]^\\mathrm{T}\\\\\n",
    "\\mathbf{x}_{0,2}^t & = \\left[u_2^t\\right]^\\mathrm{T}\\\\\n",
    "\\mathbf{x}_2 & = \\left[w\\right]^\\mathrm{T}\\\\\n",
    "\\hat{\\mathbf{u}}_2 & = \\left[\\hat{b}\\right]^\\mathrm{T}\\\\\n",
    "\\hat{\\mathbf{u}}_1^t & = \\left[\\hat{a}^t\\right]^\\mathrm{T}\\\\\n",
    "\\hat{\\mathbf{u}}_2^t & = \\left[\\hat{b}^t\\right]^\\mathrm{T}\\\\\n",
    "\\end{align*}\n",
    "\n",
    "and sub-system 2's optimization problem becomes\n",
    "\n",
    "\\begin{equation*}\n",
    "\t\\begin{aligned}\n",
    "\t\t& \\underset{u_2^t,w}{\\text{minimize}}\n",
    "\t\t& & \\Phi_2(\\hat{b}^t - \\hat{b},u_2^t - u)\\\\\n",
    "\t\t& \\text{subject to}\n",
    "\t\t& & g({u}_2^t,w,\\hat{b}) = w + \\hat{b} - 10 \\leq 0\\\\\n",
    "\t\t& \\text{while solving}\n",
    "\t\t& & r_2(\\hat{b};u_2^t,w,\\hat{a}^t) = \\hat{b} - \\mathcal{U}_2(u_2^t,w,\\hat{a}^t) = 0\\\\\n",
    "\t\t& \\text{for}\n",
    "\t\t& & \\hat{b}\\\\\n",
    "\t\\end{aligned}\n",
    "    \\tag{11}\n",
    "\\end{equation*}\n",
    "\n",
    "\n",
    "The problem formulation can be represented using the following block diagram:\n",
    "\n",
    "<center>\n",
    "\n",
    "| <p style=\"text-align:center;\"><img src=\"./images/ATC_diagram_numerical.png\" alt=\"atc\" width=\"750p\" align=\"center\"/></p> |\n",
    "|:--:|\n",
    "| Fig.9 Schematic of the numerical example's ATC problem formulation.|\n",
    "</center>\n",
    "\n",
    "We can now begin implementing ATC. We have to define a total of 3 blackboxes. One for the system level problem, and two for each discipline. The ATC algorithm also maintains and updates a vector of weights $\\mathbf{w}_i$ and $\\mathbf{v}_i$ which are associated with each penalty function $\\Phi_i$. These weights are continuously updated during ATC iterations. The ATC algorithm is described by these steps:\n",
    "\n",
    "0) Initiate main ATC iteration\\\n",
    "**repeat**\\\n",
    "**for** Each discipline **do**\n",
    "\n",
    "1) Initiate discipline optimizer\\\n",
    "\t**repeat**\n",
    "\n",
    "\t2) Evaluate disciplinary analysis\n",
    "\t3) Compute discipline objective and constraint functions and\n",
    "\tpenalty function values\n",
    "\t4) Update discipline design variables\n",
    "\n",
    "\t**until** 4 $\\rightarrow$ 2: Discipline optimization has converged\t\n",
    "\t\t\n",
    "**end for**\n",
    "\n",
    "5) Initiate system optimizer\\\n",
    "\t**repeat**\n",
    "\n",
    "\t6) Compute system objective, constraints, and all penalty functions\n",
    "\t7) Update system design variables and coupling targets.\n",
    "\t\t\n",
    "\t**until** 7 $\\rightarrow$ 6: System optimization has converged\n",
    "\n",
    "8) Update penalty weights\n",
    "**until** 8 $\\rightarrow$ 1: maximum inconsistency $\\left|\\left|\\mathbf{g}^c\\right|\\right|_\\infty \\leq \\varepsilon$\n",
    "\n",
    "The implementation of this quite tedious and my own implementation of ATC can be found in the file [atc.py](atc.py)."
   ]
  },
  {
   "cell_type": "code",
   "execution_count": 10,
   "metadata": {},
   "outputs": [
    {
     "name": "stdout",
     "output_type": "stream",
     "text": [
      "ATC terminated\n"
     ]
    }
   ],
   "source": [
    "from atc import ATC\n",
    "\n",
    "# these are your coupled disciplines\n",
    "U1 = lambda x0,xi,u: np.array([np.log(x0[0]+1e-6) + np.log(xi[0]+1e-6) + np.log(u[1][0]+1e-6)])\n",
    "U2 = lambda x0,xi,u: np.array([1/(x0[0]+1e-6) + 1/(xi[0]+1e-6) + 1/(u[0][0]+1e-6)])\n",
    "f = lambda x0,x,u: x0[0] + x[0][0] + u[0][0] + u[1][0]\n",
    "g = lambda x0,x,u: x[1][0] + u[1][0] - 10 # is not using the shared variable (but could in practice)\n",
    "g21 = lambda x0,xi,ui: xi[0] + ui[0] - 10 # is not using the shared variable (but could in practice)\n",
    "\n",
    "# system optimization problem\n",
    "f_global = f\n",
    "g_global = [0,] # no global constraints\n",
    "# sub-system 1 optimization problem\n",
    "f1 = 0 # no local objective\n",
    "g1 = [0,] # no local constraints\n",
    "# sub-system 2 optimization problem\n",
    "f2 = 0 # no local objective\n",
    "g2 = [g21,]\n",
    "\n",
    "f_local = [f1,f2]\n",
    "g_local = [g1,g2]\n",
    "disciplines = [U1,U2]\n",
    "\n",
    "u0 = 1.0; v0 = 1.0; w0 = 1.0; a0 = 1.0; b0 = 1.0\n",
    "x0_init = [u0,] # initial guess for shared variable (u)\n",
    "xi_init = [[v0,],[w0,]] # initial guess for local variables (v and w)\n",
    "u_init = [[a0,],[b0,]] # initial guess for coupling variables (a and b)\n",
    "\n",
    "lbs = [0.0,]; ubs = [10.,] # bounds of shared variable (u)\n",
    "lbi = [[0.0,], [0.0,]]; ubi = [[10.,], [10.,]] # bounds of local variables (v and w)\n",
    "lbu = [[0.0,], [0.0,]]; ubu = [[10.,], [10.,]] # bounds of coupling variables (a and b)\n",
    "\n",
    "opt_options = {\n",
    "    \"seed\": 0, \n",
    "    \"budget\": 1000, \n",
    "    \"tol\": 1e-12, \n",
    "    \"display\": False, \n",
    "    \"opportunistic\": False\n",
    "}\n",
    "my_atc = ATC(disciplines=disciplines,f_global=f_global, \n",
    "    g_global=g_global,f_local=f_local,g_local=g_local,x0_init=x0_init,\n",
    "    xi_init=xi_init,u_init=u_init,lbs=lbs,ubs=ubs,lbi=lbi,ubi=ubi,\n",
    "    lbu=lbu,ubu=ubu,opt_options=opt_options,w0=1.0,v0=0.0,\n",
    "    beta=1.1,gamma=0.1)\n",
    "x0,cx0,xi,u,cu,phi,f = my_atc.run_atc(k_max=200,tol=1e-6)"
   ]
  },
  {
   "cell_type": "markdown",
   "metadata": {},
   "source": [
    "Wow that took a while. This is because two nested optimization problems were solved as part of the main system-level optimization problem."
   ]
  },
  {
   "cell_type": "code",
   "execution_count": 11,
   "metadata": {},
   "outputs": [
    {
     "name": "stdout",
     "output_type": "stream",
     "text": [
      "===========================\n"
     ]
    },
    {
     "data": {
      "text/latex": [
       "$f(\\mathbf{x}^*) = 7.1078$"
      ],
      "text/plain": [
       "<IPython.core.display.Latex object>"
      ]
     },
     "metadata": {},
     "output_type": "display_data"
    },
    {
     "data": {
      "text/latex": [
       "$\\mathbf{x}^*$ = $[1.0935~~2.4418~~2.4518]^\\mathrm{T}$"
      ],
      "text/plain": [
       "<IPython.core.display.Latex object>"
      ]
     },
     "metadata": {},
     "output_type": "display_data"
    },
    {
     "data": {
      "text/latex": [
       "$\\hat{\\mathbf{u}}(\\mathbf{x}^*)$ = $[1.6406~~1.9319]^\\mathrm{T}$"
      ],
      "text/plain": [
       "<IPython.core.display.Latex object>"
      ]
     },
     "metadata": {},
     "output_type": "display_data"
    },
    {
     "data": {
      "text/latex": [
       "$\\mathbf{g}_c(\\mathbf{x}^*)$ = $[0.0000~~0.0000~~0.0000]^\\mathrm{T}$"
      ],
      "text/plain": [
       "<IPython.core.display.Latex object>"
      ]
     },
     "metadata": {},
     "output_type": "display_data"
    },
    {
     "data": {
      "text/latex": [
       "$\\mathbf{g}_2(\\mathbf{x}^*)$ = $[-5.6263]^\\mathrm{T}$"
      ],
      "text/plain": [
       "<IPython.core.display.Latex object>"
      ]
     },
     "metadata": {},
     "output_type": "display_data"
    }
   ],
   "source": [
    "print(\"===========================\")\n",
    "f_tex = r\"$f(\\mathbf{x}^*) = %.4f$\" %(f)\n",
    "display(Latex(f_tex)) # minimum\n",
    "x_tex = r\"$\\mathbf{x}^*$ = $[%.4f~~%.4f~~%.4f]^\\mathrm{T}$\" %(x0[0],xi[0][0],xi[1][0])\n",
    "display(Latex(x_tex)) # optimizer\n",
    "u_tex = r\"$\\hat{\\mathbf{u}}(\\mathbf{x}^*)$ = $[%.4f~~%.4f]^\\mathrm{T}$\" %(u[0][0],u[1][0])\n",
    "display(Latex(u_tex)) # coupling variables\n",
    "c_tex = r\"$\\mathbf{g}_c(\\mathbf{x}^*)$ = $[%.4f~~%.4f~~%.4f]^\\mathrm{T}$\" %(cx0[0],cu[0],cu[1])\n",
    "display(Latex(c_tex)) # inconsistencies\n",
    "g2_tex = r\"$\\mathbf{g}_2(\\mathbf{x}^*)$ = $[%.4f]^\\mathrm{T}$\" %(g21(x0,xi,u[1]))\n",
    "display(Latex(g2_tex)) # local constraint\n",
    "# print(f_tex) # minimum\n",
    "# print(x_tex) # optimizer\n",
    "# print(u_tex) # coupling variables\n",
    "# print(c_tex) # inconsistencies\n",
    "# print(g2_tex) # local constraint"
   ]
  },
  {
   "cell_type": "markdown",
   "metadata": {},
   "source": [
    "We did not do better than IDF or MDF but we managed to reduce the problem size compared to IDF.\n",
    "We also needed to execute the discipline analyses $\\mathcal{U}_1$ and $\\mathcal{U_2}$ many more times. `ATC` keeps track of how many times each discipline was called. We can examine this result below."
   ]
  },
  {
   "cell_type": "code",
   "execution_count": 12,
   "metadata": {},
   "outputs": [
    {
     "data": {
      "text/plain": [
       "[7308, 4369, 5865]"
      ]
     },
     "execution_count": 12,
     "metadata": {},
     "output_type": "execute_result"
    }
   ],
   "source": [
    "my_atc.n_evaluations"
   ]
  },
  {
   "cell_type": "markdown",
   "metadata": {},
   "source": [
    "The numbers above are quite large. A work around for this is to use *non-hierarchical analytical target cascading* which does away with the system-level optimization problem. This means that we need to solve two optimization problems during each outer loop instead of three. To understand how the optimization problems are nested let us examine the XDSM for the above implementation of ATC on our numerical example.\n",
    "\n",
    "<center>\n",
    "\n",
    "| <p style=\"text-align:center;\"><img src=\"./xdsm/atc.png\" alt=\"atc\" width=\"950p\" align=\"center\"/></p> |\n",
    "|:--:|\n",
    "| Fig.10 ATC architecture of the numerical example.|\n",
    "</center>\n",
    "\n",
    "or more compactly and generally using the XDSM and block diagrams below:\n",
    "\n",
    "<center>\n",
    "\n",
    "| <p style=\"text-align:center;\"><img src=\"./xdsm/atc_compact.png\" alt=\"atc_c\" width=\"850p\" align=\"center\"/></p> |\n",
    "|:--:|\n",
    "| <p style=\"text-align:center;\"><img src=\"./images/ATC_diagram.png\" alt=\"ATC_diag\" width=\"850p\" align=\"center\"/></p> |\n",
    "| Fig.11 ATC architecture for a generic problem.|\n",
    "</center>"
   ]
  }
 ],
 "metadata": {
  "kernelspec": {
   "display_name": "Python 3.8.10 ('.env': venv)",
   "language": "python",
   "name": "python3"
  },
  "language_info": {
   "codemirror_mode": {
    "name": "ipython",
    "version": 3
   },
   "file_extension": ".py",
   "mimetype": "text/x-python",
   "name": "python",
   "nbconvert_exporter": "python",
   "pygments_lexer": "ipython3",
   "version": "3.8.10"
  },
  "orig_nbformat": 4,
  "vscode": {
   "interpreter": {
    "hash": "c3a72d30fdfce8f84596080eee0b75a32995be584a4c37deda85d4f8d22352cb"
   }
  }
 },
 "nbformat": 4,
 "nbformat_minor": 2
}
