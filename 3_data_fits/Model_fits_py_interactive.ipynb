{
 "cells": [
  {
   "cell_type": "code",
   "execution_count": 9,
   "metadata": {},
   "outputs": [],
   "source": [
    "import ipywidgets as widgets\n",
    "from IPython.display import display\n",
    "from ipywidgets import interact, FloatSlider, IntSlider\n",
    "import matplotlib.pyplot as plt\n",
    "\n",
    "import numpy as np\n",
    "import random\n",
    "\n",
    "from gridsamp import gridsamp\n",
    "from surrogate import Surrogate\n",
    "\n",
    "random.seed(1234)\n",
    "np.random.seed(1234)\n"
   ]
  },
  {
   "cell_type": "markdown",
   "metadata": {},
   "source": [
    "## The effect of reguralization $r$ and spread $\\lambda$ on $\\hat{y}(\\mathbf{x})$"
   ]
  },
  {
   "cell_type": "code",
   "execution_count": 8,
   "metadata": {},
   "outputs": [
    {
     "data": {
      "application/vnd.jupyter.widget-view+json": {
       "model_id": "c297866f9841427bb56a2d41ecf3ed3e",
       "version_major": 2,
       "version_minor": 0
      },
      "text/plain": [
       "interactive(children=(FloatSlider(value=0.0, description='r', max=1.0, step=0.001), FloatSlider(value=0.5884, …"
      ]
     },
     "metadata": {},
     "output_type": "display_data"
    }
   ],
   "source": [
    "from surrogate import scaling\n",
    "\n",
    "# Constant data\n",
    "def test_fun_1D(x):\n",
    "    return -(1.4 - 3.0 * x) * np.sin(18.0 * x) + 2\n",
    "\n",
    "# Plot bounds data\n",
    "lb_spread = np.array([0.0])\n",
    "ub_spread = np.array([1.2])\n",
    "n_samples = 10\n",
    "\n",
    "bounds_1d = np.array([lb_spread, ub_spread])\n",
    "ns = [n_samples]\n",
    "X_1d = np.linspace(bounds_1d[0, 0], bounds_1d[1, 0], ns[0])\n",
    "\n",
    "# Training data\n",
    "Y_1d = test_fun_1D(X_1d)\n",
    "\n",
    "def plot_rbfs(r=0.0, λ=30.0):\n",
    "\n",
    "    r = 10 ** (np.log10(1+1e-1)*r) - 1  # log scale  \n",
    "    λ = 10 ** ((1+np.log10(500))*λ - 1)  # log scale \n",
    "\n",
    "    # train the model\n",
    "    rbf1 = Surrogate(X=X_1d[:,None], Y=Y_1d[:,None], type=\"RBF\", lb=lb_spread, ub=ub_spread, r=r, λ=λ, name=\"1D RBF good\")\n",
    "    rbf1.train()\n",
    "\n",
    "    x_plot_1d = np.linspace(0, 1.2, 100)\n",
    "    x_plot_1d_scaled = scaling(x_plot_1d,lb_spread,ub_spread,1)\n",
    "\n",
    "    y_plot_1d = rbf1.predict(x_plot_1d.reshape(-1, 1))\n",
    "    B = rbf1.model.basis(rbf1.model.λ,x_plot_1d_scaled)\n",
    "\n",
    "    # Plot basis functions and test function\n",
    "    fig, axs = plt.subplots(2, 1, figsize=(6.5, 6), sharex=True)\n",
    "\n",
    "    # Assuming the previous plots\n",
    "    axs[0].scatter(X_1d, Y_1d, label=\"samples\")\n",
    "    axs[0].plot(x_plot_1d, test_fun_1D(x_plot_1d), label=\"$y(x)$\")\n",
    "    axs[0].plot(x_plot_1d, y_plot_1d, label=\"$\\hat{y}(x)$\")\n",
    "    axs[0].legend(loc=\"upper left\")\n",
    "\n",
    "    # Assuming B is already defined\n",
    "    for i in range(B.shape[0]):\n",
    "        axs[1].plot(x_plot_1d, B[i, :], label=\"_nolegend_\")  # no legend for these lines\n",
    "    axs[1].set_xlabel(\"x\")\n",
    "    axs[1].set_ylabel(\"$\\phi (\\lambda ||{\\zeta -x_{i}}||)$\")\n",
    "\n",
    "    plt.tight_layout()\n",
    "    plt.show()\n",
    "\n",
    "# Create interactive plot with sliders for a and b\n",
    "interact(plot_rbfs, r=FloatSlider(min=0, max=1, step=0.001, value=0.0), λ=FloatSlider(min=0, max=1, step=0.0001, value=0.5884));\n"
   ]
  },
  {
   "cell_type": "markdown",
   "metadata": {},
   "source": [
    "## Effect of reguralization on ill-conditioned design matrices"
   ]
  },
  {
   "cell_type": "code",
   "execution_count": 17,
   "metadata": {},
   "outputs": [
    {
     "data": {
      "application/vnd.jupyter.widget-view+json": {
       "model_id": "30e14ae26ed64a59ae892f74712c6b06",
       "version_major": 2,
       "version_minor": 0
      },
      "text/plain": [
       "interactive(children=(IntSlider(value=1, description='d', max=16, min=1), FloatSlider(value=0.0, description='…"
      ]
     },
     "metadata": {},
     "output_type": "display_data"
    }
   ],
   "source": [
    "import pandas as pd\n",
    "\n",
    "scale = True\n",
    "\n",
    "# read the data sets\n",
    "data = pd.read_csv(\"sample_data_1.csv\")\n",
    "X_data_1 = data.iloc[:,2:4].to_numpy()\n",
    "Y_data_1 = data.iloc[:,1:2].to_numpy()\n",
    "\n",
    "data = pd.read_csv(\"sample_data_2.csv\")\n",
    "X_data_2 = data.iloc[:,2:4].to_numpy()\n",
    "Y_data_2 = data.iloc[:,1:2].to_numpy()\n",
    "\n",
    "# Plot bounds\n",
    "lb_reg = np.array([1.0, 20.0])\n",
    "ub_reg = np.array([12.0, 30.0])\n",
    "bounds_reg = np.vstack([lb_reg, ub_reg])\n",
    "\n",
    "n_grids = 200\n",
    "n_reg = np.array([n_grids,n_grids])\n",
    "X_predict_reg = gridsamp(bounds_reg,n_reg)\n",
    "\n",
    "X_reg = X_predict_reg[:,0].reshape(n_reg)\n",
    "Y_reg = X_predict_reg[:,1].reshape(n_reg)\n",
    "\n",
    "# Define the function to plot\n",
    "def plot_surfaces(d=1, r=0.0):\n",
    "    r = 10 ** (np.log10(3)*r) - 1  # log scale\n",
    "\n",
    "    ls1 = Surrogate(X=X_data_1, Y=Y_data_1, \n",
    "                    type=\"LS\", lb=lb_reg, ub=ub_reg, r=r, d=d, scale=scale)  # use r from slider\n",
    "    ls1.train()\n",
    "\n",
    "    ls2 = Surrogate(X=X_data_2, Y=Y_data_2, \n",
    "                    type=\"LS\", lb=lb_reg, ub=ub_reg, r=r, d=d, scale=scale)  # use r from slider\n",
    "    ls2.train()\n",
    "\n",
    "    # Predictions\n",
    "    y_hat_1 = ls1.predict(X_predict_reg)\n",
    "    y_hat_2 = ls2.predict(X_predict_reg)\n",
    "\n",
    "    # Surface plot\n",
    "    fig = plt.figure(figsize=(12, 5))\n",
    "\n",
    "    ax1 = fig.add_subplot(121, projection='3d')\n",
    "    ax1.plot_surface(Y_reg, X_reg, y_hat_1.reshape(Y_reg.shape), alpha=0.8)\n",
    "    ax1.scatter(X_data_1[:, 1], X_data_1[:, 0], Y_data_1, c='r', label=\"samples\")\n",
    "    ax1.set_xlabel(\"x2\")\n",
    "    ax1.set_ylabel(\"x1\")\n",
    "    ax1.set_zlabel(\"$\\hat{y}(x)$\")\n",
    "\n",
    "    ax2 = fig.add_subplot(122, projection='3d')\n",
    "    ax2.plot_surface(Y_reg, X_reg, y_hat_2.reshape(Y_reg.shape), alpha=0.8)\n",
    "    ax2.scatter(X_data_2[:, 1], X_data_2[:, 0], Y_data_2, c='r', label=\"samples\")\n",
    "    ax2.set_xlabel(\"x2\")\n",
    "    ax2.set_ylabel(\"x1\")\n",
    "    ax2.set_zlabel(\"$\\hat{y}(x)$\")\n",
    "\n",
    "    plt.tight_layout()\n",
    "    plt.show()\n",
    "\n",
    "# Create interactive plot with sliders for d and r\n",
    "interact(plot_surfaces, d=IntSlider(min=1, max=16, step=1, value=1), r=FloatSlider(min=0, max=1, step=0.001, value=0.0));\n"
   ]
  }
 ],
 "metadata": {
  "@webio": {
   "lastCommId": "0c94c4db6ea245ed8629d89a8210e00f",
   "lastKernelId": "96b99a23-d136-46b2-ab6f-37492ff8f7d1"
  },
  "kernelspec": {
   "display_name": ".env",
   "language": "python",
   "name": "python3"
  },
  "language_info": {
   "codemirror_mode": {
    "name": "ipython",
    "version": 3
   },
   "file_extension": ".py",
   "mimetype": "text/x-python",
   "name": "python",
   "nbconvert_exporter": "python",
   "pygments_lexer": "ipython3",
   "version": "3.10.9"
  },
  "varInspector": {
   "cols": {
    "lenName": 16,
    "lenType": 16,
    "lenVar": 40
   },
   "kernels_config": {
    "python": {
     "delete_cmd_postfix": "",
     "delete_cmd_prefix": "del ",
     "library": "var_list.py",
     "varRefreshCmd": "print(var_dic_list())"
    },
    "r": {
     "delete_cmd_postfix": ") ",
     "delete_cmd_prefix": "rm(",
     "library": "var_list.r",
     "varRefreshCmd": "cat(var_dic_list()) "
    }
   },
   "types_to_exclude": [
    "module",
    "function",
    "builtin_function_or_method",
    "instance",
    "_Feature"
   ],
   "window_display": false
  }
 },
 "nbformat": 4,
 "nbformat_minor": 4
}
