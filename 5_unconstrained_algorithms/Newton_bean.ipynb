{
 "cells": [
  {
   "cell_type": "markdown",
   "metadata": {},
   "source": [
    "# Armijo line search examples\n",
    "\n",
    "Consider the problem \n",
    "\n",
    "\\begin{equation*}\n",
    "\t\\begin{aligned}\n",
    "\t\t& \\underset{x_1,x_2}{\\text{minimize}}\n",
    "\t\t& & f(x_1,x_2) = \\left(1 - x_{1}\\right)^{2} + \\left(1 - x_{2}\\right)^{2} + \\frac{\\left(- x_{1}^{2} + 2 x_{2}\\right)^{2}}{2}\\\\\n",
    "\t\\end{aligned}\n",
    "\\end{equation*}\n",
    "\n",
    "having a gradient $$ \\nabla f(\\mathbf{x}) = \\left[\\begin{matrix}- 2 x_{1} \\left(- x_{1}^{2} + 2 x_{2}\\right) + 2 x_{1} - 2\\\\- 2 x_{1}^{2} + 6 x_{2} - 2\\end{matrix}\\right]$$ and a Hessian\n",
    "\n",
    "$$\\nabla^2f(\\mathbf{x}) = H(\\mathbf{x}) = \\left[\\begin{matrix}6 x_{1}^{2} - 4 x_{2} + 2 & - 4 x_{1}\\\\- 4 x_{1} & 6\\end{matrix}\\right]$$\n",
    "\n",
    "\n",
    "and an optimal solution $\\mathbf{x}_0 = (1.21,0.824)$\n"
   ]
  },
  {
   "cell_type": "code",
   "execution_count": null,
   "metadata": {},
   "outputs": [],
   "source": [
    "import numpy as np\n",
    "\n",
    "f = lambda x: ((1 - x[0,:] )**2) + ((1 - x[1,:] )**2) + 0.5*((2*x[1,:] - x[0,:]**2)**2)\n",
    "grad_f = lambda x: np.array([[2*x[0,:]*(x[0,:]**2 - 2*x[1,:]) + 2*x[0,:] - 2], [-2*x[0,:]**2 + 6*x[1,:] - 2]])\n",
    "H_f = lambda x: np.array([[list(6*x[0,:]**2 - 4*x[1,:] + 2), list(-4*x[0,:])], [list(-4*x[0,:]), 6*np.ones(x.shape[1])]])"
   ]
  },
  {
   "cell_type": "code",
   "execution_count": null,
   "metadata": {},
   "outputs": [],
   "source": [
    "\n",
    "import matplotlib.pyplot as plt\n",
    "from matplotlib import cm\n",
    "\n",
    "X1,X2 = np.meshgrid(np.linspace(-3,3,40),np.linspace(-2,5,40))\n",
    "X = np.vstack((X1.reshape([1,-1]),X2.reshape([1,-1]))) # flatten grids side-by-side\n",
    "\n",
    "Z = f(X)\n",
    "Z_grad = grad_f(X)"
   ]
  },
  {
   "cell_type": "markdown",
   "metadata": {},
   "source": [
    "Let us choose a starting point \n",
    "$$\\mathbf{x}_0 = \\left(-1.0,2.0\\right)$$\n",
    "This gives a steepest descent direction \n",
    "$$\\mathbf{d}_0^\\mathrm{steepest}=-\\nabla f(\\mathbf{x}_0) = \\begin{bmatrix}-2 & -8\\end{bmatrix}^\\mathrm{T}$$\n",
    "The direction provided by the inverse of the Hessian is:\n",
    "$$\\mathbf{d}_0=-H^{-1}(\\mathbf{x}_0)\\nabla f(\\mathbf{x}_0) = \\left[\\begin{matrix}- \\frac{3}{8} & \\frac{1}{4}\\\\\\frac{1}{4} & 0\\end{matrix}\\right]\\begin{bmatrix}-2 \\\\ -8\\end{bmatrix} = \\left[\\begin{matrix}- \\frac{5}{4} \\\\- \\frac{1}{2}\\end{matrix}\\right]$$\n",
    "\n",
    "We can see that the direction provided by Newton's method is not the same as that provided by steepest decent"
   ]
  },
  {
   "cell_type": "code",
   "execution_count": null,
   "metadata": {},
   "outputs": [],
   "source": [
    "x0 = np.array([-1.0,2.0])\n",
    "grad_f0 = grad_f(x0[:,None]).squeeze()\n",
    "hessian0 = H_f(x0[:,None]).squeeze()\n",
    "d0 = -np.linalg.inv(hessian0.squeeze()) @ grad_f0\n",
    "x_opt = [1.2134116627622296, 0.8241226211091329]\n",
    "\n",
    "origin = np.array([x0]*3).T # origin point\n",
    "vectors = np.array([grad_f0, -grad_f0, d0])\n",
    "x_next = x0 + d0\n",
    "print(x_next)\n",
    "\n",
    "fig, ax = plt.subplots(figsize=(7,6))\n",
    "# plot\n",
    "ax.contourf(X1, X2, Z.reshape(X1.shape),cmap=cm.coolwarm,levels=25,zorder=-1)\n",
    "Q = ax.quiver(*origin, vectors[0:1,0], vectors[0:1,1], color=['r',], scale=50, zorder=1)\n",
    "ax.quiverkey(Q, 0.15, 0.3, 2, r\"$\\nabla f(\\mathbf{x}_0)$\", labelpos='S', coordinates='axes')\n",
    "Q = ax.quiver(*origin, vectors[1:2,0], vectors[1:2,1], color=['b'], scale=50, zorder=1)\n",
    "ax.quiverkey(Q, 0.15, 0.2, 2, r\"$\\mathbf{d}_k = -\\nabla f(\\mathbf{x}_0)$\", labelpos='S', coordinates='axes')\n",
    "Q = ax.quiver(*origin, vectors[2:3,0], vectors[2:3,1], color=['g'], scale=10, zorder=1)\n",
    "ax.quiverkey(Q, 0.15, 0.1, 2, r\"$\\mathbf{d}_k = -H_0^{-1}\\nabla f(\\mathbf{x}_0)$\", labelpos='S', coordinates='axes')\n",
    "ax.scatter([x_opt[0],], [x_opt[1],], marker=\"o\", color=\"g\", edgecolors=\"k\", linestyle=\"None\",label=\"$\\mathbf{x}^*$\",zorder=3)\n",
    "ax.scatter([x0[0],], [x0[1],], marker=\"o\", color=\"m\", edgecolors=\"k\", linestyle=\"None\",label=\"$\\mathbf{x}_0$\",zorder=3)\n",
    "ax.scatter([x_next[0],], [x_next[1],], marker=\"o\", color=\"c\", edgecolors=\"k\", linestyle=\"None\",label=\"$\\mathbf{x}_{k+1}$\",zorder=3)\n",
    "ax.set_xlabel(\"$x_1$\")\n",
    "ax.set_ylabel(\"$x_2$\")\n",
    "ax.axis('equal')\n",
    "ax.set_xlim((-3,3))\n",
    "ax.set_ylim((-1,3))\n",
    "ax.legend()\n",
    "fig.canvas.draw()\n",
    "# fig.savefig(\"linesearch_ex2_contours.pdf\",bbox_inches=\"tight\")"
   ]
  },
  {
   "cell_type": "markdown",
   "metadata": {},
   "source": [
    "We use ``sympy`` below to obtain expressions for the gradient and the Hessian"
   ]
  },
  {
   "cell_type": "code",
   "execution_count": null,
   "metadata": {},
   "outputs": [],
   "source": [
    "def get_real(roots, last=False):\n",
    "    reals = [root for root in roots if root.is_real]\n",
    "    if last:\n",
    "        return reals[-1]\n",
    "    else:\n",
    "        return reals[0]\n",
    "\n",
    "import sympy as sym\n",
    "import sympy.physics.vector as spv\n",
    "from sympy import pprint, latex, simplify\n",
    "from sympy.plotting import plot\n",
    "\n",
    "a = sym.Symbol(r\"\\alpha\", real=True)\n",
    "x1 = sym.Symbol(r\"x_1\")\n",
    "x2 = sym.Symbol(r\"x_2\")\n",
    "\n",
    "f_sym = ((1 - x1 )**2) + ((1 - x2 )**2) + ((2*x2 - x1**2)**2)/2\n",
    "display(f_sym)\n",
    "# print(latex(f_sym))\n",
    "\n",
    "# try the gradient approach\n",
    "gradf_sym = sym.Matrix([sym.diff(f_sym,x1),sym.diff(f_sym,x2)])\n",
    "display(gradf_sym)\n",
    "# print(latex(gradf_sym))\n",
    "\n",
    "H_sym = sym.Matrix([\n",
    "    [sym.diff(gradf_sym[0],x1),sym.diff(gradf_sym[0],x2)],\n",
    "    [sym.diff(gradf_sym[1],x1), sym.diff(gradf_sym[1],x2)]\n",
    "    ])\n",
    "display(H_sym)\n",
    "# print(latex(H_sym))\n",
    "# display(H_sym.subs({x1:x0[0], x2: x0[1]}))\n",
    "# display(H_sym.inv().subs({x1:x0[0], x2: x0[1]}))\n",
    "# display(latex(H_sym.inv().subs({x1:x0[0], x2: x0[1]}) * sym.Matrix([[-2],[-8]])))"
   ]
  },
  {
   "cell_type": "markdown",
   "metadata": {},
   "source": [
    "Let us consider the BFGS method for approximating the inverse of the Hessian instead of calculating it directly. We perform an inexact line search at every iteration $k$ to determine $\\alpha_k$."
   ]
  },
  {
   "cell_type": "code",
   "execution_count": 15,
   "metadata": {},
   "outputs": [
    {
     "data": {
      "text/plain": [
       "[<matplotlib.lines.Line2D at 0x7fb2dc574340>]"
      ]
     },
     "execution_count": 15,
     "metadata": {},
     "output_type": "execute_result"
    },
    {
     "data": {
      "image/png": "[encoded data removed]",
      "text/plain": [
       "<Figure size 504x432 with 1 Axes>"
      ]
     },
     "metadata": {
      "needs_background": "light"
     },
     "output_type": "display_data"
    }
   ],
   "source": [
    "from gradient_descent import GradientDesc\n",
    "\n",
    "x0 = np.array([-1.0,2.0])\n",
    "x_opt = [1.2134116627622296, 0.8241226211091329]\n",
    "\n",
    "solver = GradientDesc(f,grad_f,H_f,x0[:,None],epsilon=0.1,beta=0.9,alpha=0.1,\n",
    "    type=\"newton\",line_search=\"armijo\",hessian_approximation=\"exact\",verbose=False)\n",
    "\n",
    "origin = np.array([solver.xk.squeeze()]*3).T # origin point\n",
    "vectors = np.array([solver.grad_fk.squeeze(), -solver.grad_fk.squeeze(), -(np.linalg.pinv(solver.Hk) @ solver.grad_fk).squeeze()])\n",
    "# initialize figure\n",
    "fig, ax = plt.subplots(figsize=(7,6))\n",
    "# plot\n",
    "ax.contourf(X1, X2, Z.reshape(X1.shape),cmap=cm.coolwarm,levels=25,zorder=-1)\n",
    "Q = ax.quiver(*origin, vectors[0:1,0], vectors[0:1,1], color=['r',], scale=50, zorder=1)\n",
    "ax.quiverkey(Q, 0.15, 0.3, 2, r\"$\\nabla f(\\mathbf{x}_0)$\", labelpos='S', coordinates='axes')\n",
    "Q = ax.quiver(*origin, vectors[1:2,0], vectors[1:2,1], color=['b'], scale=50, zorder=1)\n",
    "ax.quiverkey(Q, 0.15, 0.2, 2, r\"$\\mathbf{d}_k = -\\nabla f(\\mathbf{x}_0)$\", labelpos='S', coordinates='axes')\n",
    "Q = ax.quiver(*origin, vectors[2:3,0], vectors[2:3,1], color=['g'], scale=10, zorder=1)\n",
    "ax.quiverkey(Q, 0.15, 0.1, 2, r\"$\\mathbf{d}_k = -H_0^{-1}\\nabla f(\\mathbf{x}_0)$\", labelpos='S', coordinates='axes')\n",
    "ax.scatter([x_opt[0],], [x_opt[1],], marker=\"o\", color=\"g\", edgecolors=\"k\", linestyle=\"None\",label=\"$\\mathbf{x}^*$\",zorder=3)\n",
    "ax.scatter([x0[0],], [x0[1],], marker=\"o\", color=\"m\", edgecolors=\"k\", linestyle=\"None\",label=\"$\\mathbf{x}_0$\",zorder=3)\n",
    "ax.set_xlabel(\"$x_1$\")\n",
    "ax.set_ylabel(\"$x_2$\")\n",
    "ax.axis('equal')\n",
    "ax.set_xlim((-3,3))\n",
    "ax.set_ylim((-1,3))\n",
    "ax.legend()\n",
    "\n",
    "norms = []\n",
    "errors = []\n",
    "iterations = 200\n",
    "x = [solver.xk[0]]; y = [solver.xk[1]]\n",
    "for k in range(iterations):\n",
    "    norm,error_BFGS = solver.step()\n",
    "    norms += [norm]\n",
    "    errors += [error_BFGS]\n",
    "    x += [solver.xk[0]]; y += [solver.xk[1]]\n",
    "\n",
    "    if k < 20:\n",
    "        origin = np.array([solver.xk.squeeze()]*3).T # origin point\n",
    "        vectors = np.array([solver.grad_fk.squeeze(), -solver.grad_fk.squeeze(), -(np.linalg.pinv(solver.Hk) @ solver.grad_fk).squeeze()])\n",
    "        Q = ax.quiver(*origin, vectors[0:1,0], vectors[0:1,1], color=['r',], scale=50, zorder=2)\n",
    "        Q = ax.quiver(*origin, vectors[1:2,0], vectors[1:2,1], color=['b'], scale=50, zorder=2)\n",
    "        Q = ax.quiver(*origin, vectors[2:3,0], vectors[2:3,1], color=['g'], scale=10, zorder=2)\n",
    "        fig.canvas.draw()\n",
    "\n",
    "ax.scatter(x,y, linestyle=\"None\", marker=\"o\", color=\"c\", edgecolors=\"k\",zorder=3)\n",
    "ax.plot(x,y, linestyle=\"-\", marker=\"None\", color=\"c\", zorder=1)\n",
    "\n",
    "\n",
    "# fig, axs = plt.subplots(nrows=1,ncols=2,figsize=(15,6))\n",
    "# axs[0].plot(list(range(iterations)),norms)\n",
    "# axs[0].set_ylabel(r\"$||\\nabla f(\\mathbf{x})||$\")\n",
    "# axs[0].set_xlabel(r\"$k$\")\n",
    "# axs[1].plot(list(range(iterations)),errors)\n",
    "# axs[1].set_ylabel(r\"mean squared error of $\\hat{H}_k - H_k$\")\n",
    "# axs[1].set_xlabel(r\"$k$\");"
   ]
  }
 ],
 "metadata": {
  "kernelspec": {
   "display_name": "Python 3.8.5 64-bit ('anaconda3')",
   "language": "python",
   "name": "python3"
  },
  "language_info": {
   "codemirror_mode": {
    "name": "ipython",
    "version": 3
   },
   "file_extension": ".py",
   "mimetype": "text/x-python",
   "name": "python",
   "nbconvert_exporter": "python",
   "pygments_lexer": "ipython3",
   "version": "3.8.5"
  },
  "orig_nbformat": 4,
  "vscode": {
   "interpreter": {
    "hash": "08fa9e8e152f0636c2454cfa3af20b7fb49400489cb2c7af2571c9e8f146a329"
   }
  }
 },
 "nbformat": 4,
 "nbformat_minor": 2
}
