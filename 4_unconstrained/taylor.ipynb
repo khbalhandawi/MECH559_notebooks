{
 "cells": [
  {
   "cell_type": "markdown",
   "metadata": {},
   "source": [
    "# First order necessary conditions\n",
    "\n",
    "## Background: Taylor's theorem\n",
    "\n",
    "Let $k \\ge 1$ be an integer and let the function $f : \\mathbb{R} \\rightarrow \\mathbb{R}$ be $k$ times differentiable at the point $a \\in \\mathbb{R}$. Then there exists a function $h(k) : \\mathbb{R} \\rightarrow \\mathbb{R}$ such that\n",
    "$$f(x)=f(a)+f'(a)(x-a)+{\\frac {f''(a)}{2!}}(x-a)^{2}+\\cdots +{\\frac {f^{(k)}(a)}{k!}}(x-a)^{k}+h_{k}(x)(x-a)^{k}$$\n",
    "and\n",
    "$${\\lim _{x\\to a}h_{k}(x)=0}$$\n",
    "\n",
    "This means that as we approach the point $a$, the approximation error $h_{k}(x)(x-a)^{k}$ becomes 0, i.e., we get close to the value of $f(x)$.\n",
    "\n",
    "Consider the function\n",
    "$$\n",
    "f(x) = \\dfrac{1}{1+x^2}\n",
    "$$\n",
    "\n",
    "its $k$ th order approximations at $a_1=0$ and $a_2=1$ are shown below"
   ]
  },
  {
   "cell_type": "code",
   "execution_count": 8,
   "metadata": {},
   "outputs": [
    {
     "name": "stdout",
     "output_type": "stream",
     "text": [
      "derivative k=0:\n",
      "  1   \n",
      "──────\n",
      " 2    \n",
      "x  + 1\n",
      "derivative k=1:\n",
      "  -2⋅x   \n",
      "─────────\n",
      "        2\n",
      "⎛ 2    ⎞ \n",
      "⎝x  + 1⎠ \n",
      "derivative k=2:\n",
      "  ⎛   2    ⎞\n",
      "2⋅⎝3⋅x  - 1⎠\n",
      "────────────\n",
      "         3  \n",
      " ⎛ 2    ⎞   \n",
      " ⎝x  + 1⎠   \n"
     ]
    },
    {
     "data": {
      "image/png": "[encoded data removed]",
      "text/plain": [
       "<Figure size 504x216 with 1 Axes>"
      ]
     },
     "metadata": {
      "needs_background": "light"
     },
     "output_type": "display_data"
    }
   ],
   "source": [
    "import sympy as sym\n",
    "from sympy import lambdify, pprint\n",
    "import matplotlib.pyplot as plt\n",
    "import numpy as np\n",
    "import math\n",
    "\n",
    "x = sym.Symbol('x')\n",
    "f = 1/(1+x**2)\n",
    "\n",
    "# plot values\n",
    "x_plot = np.linspace(-1,3,100)\n",
    "f_plot = lambdify(x, f, modules=['numpy'])\n",
    "\n",
    "# parameters\n",
    "k = 2\n",
    "a1 = 0\n",
    "a2 = 1\n",
    "\n",
    "# function approximation\n",
    "fa_1 = 0; fa_2 = 0\n",
    "for i in range(k+1): \n",
    "    fk = sym.diff(f, x, i)\n",
    "    print('derivative k=%i:'%i)\n",
    "    pprint(sym.simplify(fk))\n",
    "    fk_plot = lambdify(x, fk, modules=['numpy'])\n",
    "    fa_1 += (fk_plot(a1)/math.factorial(i)) * ((x_plot - a1) ** i)\n",
    "    fa_2 += (fk_plot(a2)/math.factorial(i)) * ((x_plot - a2) ** i)\n",
    "\n",
    "# plotting\n",
    "fig, ax = plt.subplots(figsize=(7, 3))\n",
    "ax.plot(x_plot, f_plot(x_plot),label='$f(x)$')\n",
    "ax.plot(x_plot,fa_1,'-r',linewidth=0.5,label='$f_{a_1}(x)$')\n",
    "ax.plot(x_plot,fa_2,'-g',linewidth=0.5,label='$f_{a_2}(x)$')\n",
    "ax.plot(a1,f_plot(a1),'.r',label='$a_1$')\n",
    "ax.plot(a2,f_plot(a2),'.g',label='$a_2$')\n",
    "ax.set_xlabel('$x$')\n",
    "ax.set_ylabel('$f(x)$')\n",
    "ax.set_ylim((-0.5,1.5))\n",
    "# ax.set_title('taylor series approximation of $f(x)=\\dfrac{1}{1+x^2}$')\n",
    "ax.legend(ncol=5,loc='lower left');\n",
    "fig.savefig('k%i_approximation.pdf' %(k),format='pdf', dpi=200, bbox_inches='tight')"
   ]
  },
  {
   "cell_type": "markdown",
   "metadata": {},
   "source": [
    "What can you say about the point $a_1=0$ when looking at the **first** order approximation ($k=1$)?\n",
    "\n",
    "*It is clearly a stationary point since the slope of the approximation $f^1_{a_1}(x)$ is $0$.*\n",
    "\n",
    "What can you say about the point $a_1=0$ when looking at the **second** order approximation ($k=2$)?\n",
    "\n",
    "*It is a maximizer since the quadratic approximation $f^2_{a_1}(x)$ is concaving downwards*"
   ]
  }
 ],
 "metadata": {
  "@webio": {
   "lastCommId": null,
   "lastKernelId": null
  },
  "kernelspec": {
   "display_name": "Python 3 (ipykernel)",
   "language": "python",
   "name": "python3"
  },
  "language_info": {
   "codemirror_mode": {
    "name": "ipython",
    "version": 3
   },
   "file_extension": ".py",
   "mimetype": "text/x-python",
   "name": "python",
   "nbconvert_exporter": "python",
   "pygments_lexer": "ipython3",
   "version": "3.9.7"
  },
  "varInspector": {
   "cols": {
    "lenName": 16,
    "lenType": 16,
    "lenVar": 40
   },
   "kernels_config": {
    "python": {
     "delete_cmd_postfix": "",
     "delete_cmd_prefix": "del ",
     "library": "var_list.py",
     "varRefreshCmd": "print(var_dic_list())"
    },
    "r": {
     "delete_cmd_postfix": ") ",
     "delete_cmd_prefix": "rm(",
     "library": "var_list.r",
     "varRefreshCmd": "cat(var_dic_list()) "
    }
   },
   "types_to_exclude": [
    "module",
    "function",
    "builtin_function_or_method",
    "instance",
    "_Feature"
   ],
   "window_display": false
  },
  "vscode": {
   "interpreter": {
    "hash": "969e059bd48a136b861f414ce145c90412c8830f80b9d63122389940e0900f99"
   }
  }
 },
 "nbformat": 4,
 "nbformat_minor": 2
}
