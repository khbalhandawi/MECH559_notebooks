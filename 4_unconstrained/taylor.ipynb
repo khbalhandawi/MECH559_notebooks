{
 "cells": [
  {
   "cell_type": "markdown",
   "metadata": {},
   "source": [
    "# First order necessary conditions\n",
    "\n",
    "## Background: Taylor's theorem\n",
    "\n",
    "Let $k \\ge 1$ be an integer and let the function $f : \\mathbb{R} \\rightarrow \\mathbb{R}$ be $k$ times differentiable at the point $a \\in \\mathbb{R}$. Then there exists a function $h(k) : \\mathbb{R} \\rightarrow \\mathbb{R}$ such that\n",
    "$$f(x)=f(a)+f'(a)(x-a)+{\\frac {f''(a)}{2!}}(x-a)^{2}+\\cdots +{\\frac {f^{(k)}(a)}{k!}}(x-a)^{k}+h_{k}(x)(x-a)^{k}$$\n",
    "and\n",
    "$${\\lim _{x\\to a}h_{k}(x)=0}$$\n",
    "\n",
    "This means that as we approach the point $a$, the approximation error $h_{k}(x)(x-a)^{k}$ becomes 0, i.e., we get close to the value of $f(x)$.\n",
    "\n",
    "Consider the function\n",
    "$$\n",
    "f(x) = \\dfrac{1}{1+x^2}\n",
    "$$\n",
    "\n",
    "its $k$ th order approximations at $a_1=0$ and $a_2=1$ are shown below"
   ]
  },
  {
   "cell_type": "code",
   "execution_count": 7,
   "metadata": {},
   "outputs": [
    {
     "name": "stdout",
     "output_type": "stream",
     "text": [
      "derivative k=0:\n"
     ]
    },
    {
     "data": {
      "text/latex": [
       "$\\displaystyle \\frac{1}{x^{2} + 1}$"
      ],
      "text/plain": [
       "1/(x**2 + 1)"
      ]
     },
     "metadata": {},
     "output_type": "display_data"
    },
    {
     "name": "stdout",
     "output_type": "stream",
     "text": [
      "derivative k=1:\n"
     ]
    },
    {
     "data": {
      "text/latex": [
       "$\\displaystyle - \\frac{2 x}{\\left(x^{2} + 1\\right)^{2}}$"
      ],
      "text/plain": [
       "-2*x/(x**2 + 1)**2"
      ]
     },
     "metadata": {},
     "output_type": "display_data"
    },
    {
     "name": "stdout",
     "output_type": "stream",
     "text": [
      "derivative k=2:\n"
     ]
    },
    {
     "data": {
      "text/latex": [
       "$\\displaystyle \\frac{2 \\cdot \\left(3 x^{2} - 1\\right)}{\\left(x^{2} + 1\\right)^{3}}$"
      ],
      "text/plain": [
       "2*(3*x**2 - 1)/(x**2 + 1)**3"
      ]
     },
     "metadata": {},
     "output_type": "display_data"
    },
    {
     "name": "stdout",
     "output_type": "stream",
     "text": [
      "derivative k=3:\n"
     ]
    },
    {
     "data": {
      "text/latex": [
       "$\\displaystyle - \\frac{24 x \\left(x^{2} - 1\\right)}{\\left(x^{2} + 1\\right)^{4}}$"
      ],
      "text/plain": [
       "-24*x*(x**2 - 1)/(x**2 + 1)**4"
      ]
     },
     "metadata": {},
     "output_type": "display_data"
    },
    {
     "name": "stdout",
     "output_type": "stream",
     "text": [
      "derivative k=4:\n"
     ]
    },
    {
     "data": {
      "text/latex": [
       "$\\displaystyle \\frac{24 \\cdot \\left(16 x^{4} - 12 x^{2} \\left(x^{2} + 1\\right) + \\left(x^{2} + 1\\right)^{2}\\right)}{\\left(x^{2} + 1\\right)^{5}}$"
      ],
      "text/plain": [
       "24*(16*x**4 - 12*x**2*(x**2 + 1) + (x**2 + 1)**2)/(x**2 + 1)**5"
      ]
     },
     "metadata": {},
     "output_type": "display_data"
    },
    {
     "name": "stdout",
     "output_type": "stream",
     "text": [
      "derivative k=5:\n"
     ]
    },
    {
     "data": {
      "text/latex": [
       "$\\displaystyle \\frac{3840 x^{3}}{\\left(x^{2} + 1\\right)^{6}} - \\frac{720 x}{\\left(x^{2} + 1\\right)^{4}}$"
      ],
      "text/plain": [
       "3840*x**3/(x**2 + 1)**6 - 720*x/(x**2 + 1)**4"
      ]
     },
     "metadata": {},
     "output_type": "display_data"
    },
    {
     "name": "stdout",
     "output_type": "stream",
     "text": [
      "derivative k=6:\n"
     ]
    },
    {
     "data": {
      "text/latex": [
       "$\\displaystyle \\frac{720 \\cdot \\left(64 x^{6} - 80 x^{4} \\left(x^{2} + 1\\right) + 24 x^{2} \\left(x^{2} + 1\\right)^{2} - \\left(x^{2} + 1\\right)^{3}\\right)}{\\left(x^{2} + 1\\right)^{7}}$"
      ],
      "text/plain": [
       "720*(64*x**6 - 80*x**4*(x**2 + 1) + 24*x**2*(x**2 + 1)**2 - (x**2 + 1)**3)/(x**2 + 1)**7"
      ]
     },
     "metadata": {},
     "output_type": "display_data"
    },
    {
     "name": "stdout",
     "output_type": "stream",
     "text": [
      "derivative k=7:\n"
     ]
    },
    {
     "data": {
      "text/latex": [
       "$\\displaystyle - \\frac{40320 x \\left(16 x^{6} - 24 x^{4} \\left(x^{2} + 1\\right) + 10 x^{2} \\left(x^{2} + 1\\right)^{2} - \\left(x^{2} + 1\\right)^{3}\\right)}{\\left(x^{2} + 1\\right)^{8}}$"
      ],
      "text/plain": [
       "-40320*x*(16*x**6 - 24*x**4*(x**2 + 1) + 10*x**2*(x**2 + 1)**2 - (x**2 + 1)**3)/(x**2 + 1)**8"
      ]
     },
     "metadata": {},
     "output_type": "display_data"
    },
    {
     "name": "stdout",
     "output_type": "stream",
     "text": [
      "derivative k=8:\n"
     ]
    },
    {
     "data": {
      "text/latex": [
       "$\\displaystyle \\frac{40320 \\cdot \\left(256 x^{8} - 448 x^{6} \\left(x^{2} + 1\\right) + 240 x^{4} \\left(x^{2} + 1\\right)^{2} - 40 x^{2} \\left(x^{2} + 1\\right)^{3} + \\left(x^{2} + 1\\right)^{4}\\right)}{\\left(x^{2} + 1\\right)^{9}}$"
      ],
      "text/plain": [
       "40320*(256*x**8 - 448*x**6*(x**2 + 1) + 240*x**4*(x**2 + 1)**2 - 40*x**2*(x**2 + 1)**3 + (x**2 + 1)**4)/(x**2 + 1)**9"
      ]
     },
     "metadata": {},
     "output_type": "display_data"
    },
    {
     "name": "stdout",
     "output_type": "stream",
     "text": [
      "derivative k=9:\n"
     ]
    },
    {
     "data": {
      "text/latex": [
       "$\\displaystyle \\frac{185794560 x^{9}}{\\left(x^{2} + 1\\right)^{10}} + \\frac{371589120 x^{7}}{\\left(x^{2} + 1\\right)^{10}} - \\frac{243855360 x^{5}}{\\left(x^{2} + 1\\right)^{8}} + \\frac{58060800 x^{3}}{\\left(x^{2} + 1\\right)^{7}} - \\frac{3628800 x}{\\left(x^{2} + 1\\right)^{6}}$"
      ],
      "text/plain": [
       "185794560*x**9/(x**2 + 1)**10 + 371589120*x**7/(x**2 + 1)**10 - 243855360*x**5/(x**2 + 1)**8 + 58060800*x**3/(x**2 + 1)**7 - 3628800*x/(x**2 + 1)**6"
      ]
     },
     "metadata": {},
     "output_type": "display_data"
    },
    {
     "name": "stdout",
     "output_type": "stream",
     "text": [
      "derivative k=10:\n"
     ]
    },
    {
     "data": {
      "text/latex": [
       "$\\displaystyle \\frac{3628800 \\cdot \\left(1024 x^{10} - 2304 x^{8} \\left(x^{2} + 1\\right) + 1792 x^{6} \\left(x^{2} + 1\\right)^{2} - 560 x^{4} \\left(x^{2} + 1\\right)^{3} + 60 x^{2} \\left(x^{2} + 1\\right)^{4} - \\left(x^{2} + 1\\right)^{5}\\right)}{\\left(x^{2} + 1\\right)^{11}}$"
      ],
      "text/plain": [
       "3628800*(1024*x**10 - 2304*x**8*(x**2 + 1) + 1792*x**6*(x**2 + 1)**2 - 560*x**4*(x**2 + 1)**3 + 60*x**2*(x**2 + 1)**4 - (x**2 + 1)**5)/(x**2 + 1)**11"
      ]
     },
     "metadata": {},
     "output_type": "display_data"
    },
    {
     "data": {
      "image/png": "[encoded data removed]",
      "text/plain": [
       "<Figure size 700x300 with 1 Axes>"
      ]
     },
     "metadata": {},
     "output_type": "display_data"
    }
   ],
   "source": [
    "import sympy as sym\n",
    "from sympy import lambdify, pprint\n",
    "import matplotlib.pyplot as plt\n",
    "import numpy as np\n",
    "import math\n",
    "\n",
    "x = sym.Symbol('x')\n",
    "f = 1/(1+x**2)\n",
    "\n",
    "# plot values\n",
    "x_plot = np.linspace(-1,3,100)\n",
    "f_plot = lambdify(x, f, modules=['numpy'])\n",
    "\n",
    "# parameters\n",
    "k = 10\n",
    "a1 = 0\n",
    "a2 = 1\n",
    "\n",
    "# function approximation\n",
    "fa_1 = 0; fa_2 = 0\n",
    "for i in range(k+1): \n",
    "    fk = sym.diff(f, x, i)\n",
    "    print('derivative k=%i:'%i)\n",
    "    display(sym.simplify(fk))\n",
    "    fk_plot = lambdify(x, fk, modules=['numpy'])\n",
    "    fa_1 += (fk_plot(a1)/math.factorial(i)) * ((x_plot - a1) ** i)\n",
    "    fa_2 += (fk_plot(a2)/math.factorial(i)) * ((x_plot - a2) ** i)\n",
    "\n",
    "# plotting\n",
    "fig, ax = plt.subplots(figsize=(7, 3))\n",
    "ax.plot(x_plot, f_plot(x_plot),label='$f(x)$')\n",
    "ax.plot(x_plot,fa_1,'-r',linewidth=0.5,label='$f_{a_1}(x)$')\n",
    "ax.plot(x_plot,fa_2,'-g',linewidth=0.5,label='$f_{a_2}(x)$')\n",
    "ax.plot(a1,f_plot(a1),'.r',label='$a_1$')\n",
    "ax.plot(a2,f_plot(a2),'.g',label='$a_2$')\n",
    "ax.set_xlabel('$x$')\n",
    "ax.set_ylabel('$f(x)$')\n",
    "ax.set_ylim((-0.5,1.5))\n",
    "# ax.set_title('taylor series approximation of $f(x)=\\dfrac{1}{1+x^2}$')\n",
    "ax.legend(ncol=5,loc='lower left');\n",
    "fig.savefig('k%i_approximation.pdf' %(k),format='pdf', dpi=200, bbox_inches='tight')"
   ]
  },
  {
   "cell_type": "markdown",
   "metadata": {},
   "source": [
    "What can you say about the point $a_1=0$ when looking at the **first** order approximation ($k=1$)?\n",
    "\n",
    "*It is clearly a stationary point since the slope of the approximation $f^1_{a_1}(x)$ is $0$.*\n",
    "\n",
    "What can you say about the point $a_1=0$ when looking at the **second** order approximation ($k=2$)?\n",
    "\n",
    "*It is a maximizer since the quadratic approximation $f^2_{a_1}(x)$ is concaving downwards*"
   ]
  }
 ],
 "metadata": {
  "@webio": {
   "lastCommId": null,
   "lastKernelId": null
  },
  "kernelspec": {
   "display_name": ".env",
   "language": "python",
   "name": ".env"
  },
  "language_info": {
   "codemirror_mode": {
    "name": "ipython",
    "version": 3
   },
   "file_extension": ".py",
   "mimetype": "text/x-python",
   "name": "python",
   "nbconvert_exporter": "python",
   "pygments_lexer": "ipython3",
   "version": "3.8.10"
  },
  "varInspector": {
   "cols": {
    "lenName": 16,
    "lenType": 16,
    "lenVar": 40
   },
   "kernels_config": {
    "python": {
     "delete_cmd_postfix": "",
     "delete_cmd_prefix": "del ",
     "library": "var_list.py",
     "varRefreshCmd": "print(var_dic_list())"
    },
    "r": {
     "delete_cmd_postfix": ") ",
     "delete_cmd_prefix": "rm(",
     "library": "var_list.r",
     "varRefreshCmd": "cat(var_dic_list()) "
    }
   },
   "types_to_exclude": [
    "module",
    "function",
    "builtin_function_or_method",
    "instance",
    "_Feature"
   ],
   "window_display": false
  },
  "vscode": {
   "interpreter": {
    "hash": "888a5fb5b6273bf94a734b05522ef98d2b484b100c6d84da405530c7446de9ca"
   }
  }
 },
 "nbformat": 4,
 "nbformat_minor": 2
}
