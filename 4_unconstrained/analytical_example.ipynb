{
 "cells": [
  {
   "cell_type": "code",
   "execution_count": 41,
   "metadata": {
    "collapsed": true
   },
   "outputs": [],
   "source": [
    "import sympy as sym\n",
    "from sympy import pprint, latex, root\n",
    "from IPython.display import display, Latex\n",
    "import numpy as np\n",
    "\n",
    "def get_real(roots):\n",
    "    return [root for root in roots if all([r.is_real for r in root])]"
   ]
  },
  {
   "cell_type": "markdown",
   "metadata": {},
   "source": [
    "Consider the following function \n",
    "\n",
    "$$\n",
    "f(x_1,x_2) = x_1^2 + x_1 x_2 + x_2^2 - \\log x_1 - \\log x_2\n",
    "$$\n",
    "\n",
    "* Find the stationary points over the region where $f$ is defined."
   ]
  },
  {
   "cell_type": "code",
   "execution_count": 42,
   "metadata": {},
   "outputs": [
    {
     "data": {
      "text/latex": [
       "$f=x_{1}^{2} + x_{1} x_{2} + x_{2}^{2} - \\log{\\left(x_{1} \\right)} - \\log{\\left(x_{2} \\right)}$"
      ],
      "text/plain": [
       "<IPython.core.display.Latex object>"
      ]
     },
     "metadata": {},
     "output_type": "display_data"
    }
   ],
   "source": [
    "x1 = sym.Symbol(\"x_1\")\n",
    "x2 = sym.Symbol(\"x_2\")\n",
    "\n",
    "f = x1**2 + x1*x2 + x2**2 - sym.log(x1) - sym.log(x2)\n",
    "\n",
    "f_tex = \"$f=\"+latex(f)+\"$\"\n",
    "display(Latex(f_tex))"
   ]
  },
  {
   "cell_type": "markdown",
   "metadata": {},
   "source": [
    "find the gradients"
   ]
  },
  {
   "cell_type": "code",
   "execution_count": 43,
   "metadata": {
    "scrolled": true
   },
   "outputs": [
    {
     "data": {
      "text/latex": [
       "$\\nabla f=\\left[\\begin{matrix}2 x_{1} + x_{2} - \\frac{1}{x_{1}}\\\\x_{1} + 2 x_{2} - \\frac{1}{x_{2}}\\end{matrix}\\right]$"
      ],
      "text/plain": [
       "<IPython.core.display.Latex object>"
      ]
     },
     "metadata": {},
     "output_type": "display_data"
    }
   ],
   "source": [
    "df = sym.Matrix([[sym.diff(f,x1)],[sym.diff(f,x2)]])\n",
    "df_tex = r\"$\\nabla f=\"+latex(df)+\"$\"\n",
    "display(Latex(df_tex))"
   ]
  },
  {
   "cell_type": "markdown",
   "metadata": {},
   "source": [
    "Formulate the systems of equations"
   ]
  },
  {
   "cell_type": "code",
   "execution_count": 44,
   "metadata": {
    "collapsed": true
   },
   "outputs": [
    {
     "name": "stdout",
     "output_type": "stream",
     "text": [
      "===================================\n",
      "Solution 1:\n"
     ]
    },
    {
     "data": {
      "text/latex": [
       "$\\mathbf{x}^*=\\left( -1, \\  1\\right)$"
      ],
      "text/plain": [
       "<IPython.core.display.Latex object>"
      ]
     },
     "metadata": {},
     "output_type": "display_data"
    },
    {
     "name": "stdout",
     "output_type": "stream",
     "text": [
      "===================================\n",
      "Solution 2:\n"
     ]
    },
    {
     "data": {
      "text/latex": [
       "$\\mathbf{x}^*=\\left( 1, \\  -1\\right)$"
      ],
      "text/plain": [
       "<IPython.core.display.Latex object>"
      ]
     },
     "metadata": {},
     "output_type": "display_data"
    },
    {
     "name": "stdout",
     "output_type": "stream",
     "text": [
      "===================================\n",
      "Solution 3:\n"
     ]
    },
    {
     "data": {
      "text/latex": [
       "$\\mathbf{x}^*=\\left( - \\frac{\\sqrt{3}}{3}, \\  - \\frac{\\sqrt{3}}{3}\\right)$"
      ],
      "text/plain": [
       "<IPython.core.display.Latex object>"
      ]
     },
     "metadata": {},
     "output_type": "display_data"
    },
    {
     "name": "stdout",
     "output_type": "stream",
     "text": [
      "===================================\n",
      "Solution 4:\n"
     ]
    },
    {
     "data": {
      "text/latex": [
       "$\\mathbf{x}^*=\\left( \\frac{\\sqrt{3}}{3}, \\  \\frac{\\sqrt{3}}{3}\\right)$"
      ],
      "text/plain": [
       "<IPython.core.display.Latex object>"
      ]
     },
     "metadata": {},
     "output_type": "display_data"
    }
   ],
   "source": [
    "foncs = (sym.diff(f,x1), sym.diff(f,x2))\n",
    "sol = sym.solve(foncs,(x1,x2), dict=False)\n",
    "\n",
    "x_opt = []\n",
    "if type(sol) == dict: # in case there is only one solution\n",
    "    sol = (list(sol.values()),)\n",
    "    sol = get_real(sol)\n",
    "for i,s in enumerate(sol):\n",
    "    print(\"===================================\")\n",
    "    print(\"Solution %i:\"%(i+1))\n",
    "    x_tex = \"$\\mathbf{x}^*=\"+latex(s)+\"$\"\n",
    "    display(Latex(x_tex))\n",
    "\n",
    "    # Evaluating the solutions and converting them to float  \n",
    "    x_opt += [[float(val.evalf()) for val in s]]\n",
    "  \n",
    "# Converting the list of solutions to a numpy matrix  \n",
    "X_opt = np.array(x_opt)"
   ]
  },
  {
   "cell_type": "markdown",
   "metadata": {},
   "source": [
    "* What is the nature of the stationary point(s) you found in (a)? Are they maximizers, minimizers or saddle points?"
   ]
  },
  {
   "cell_type": "markdown",
   "metadata": {},
   "source": [
    "Let us find the Hessian"
   ]
  },
  {
   "cell_type": "code",
   "execution_count": 45,
   "metadata": {},
   "outputs": [
    {
     "data": {
      "text/latex": [
       "$\\nabla^2f=\\left[\\begin{matrix}2 + \\frac{1}{x_{1}^{2}} & 1\\\\1 & 2 + \\frac{1}{x_{2}^{2}}\\end{matrix}\\right]$"
      ],
      "text/plain": [
       "<IPython.core.display.Latex object>"
      ]
     },
     "metadata": {},
     "output_type": "display_data"
    }
   ],
   "source": [
    "H = sym.Matrix([[sym.diff(f,x1,x1),sym.diff(f,x1,x2)],[sym.diff(f,x2,x1),sym.diff(f,x2,x2)]])\n",
    "H_tex = r\"$\\nabla^2f=\"+latex(H)+\"$\"\n",
    "display(Latex(H_tex))"
   ]
  },
  {
   "cell_type": "code",
   "execution_count": 46,
   "metadata": {},
   "outputs": [
    {
     "name": "stdout",
     "output_type": "stream",
     "text": [
      "===================================\n",
      "Solution 1:\n"
     ]
    },
    {
     "data": {
      "text/latex": [
       "$\\nabla^2 f(-1.00,1.00)=\\left[\\begin{matrix}3.0 & 1\\\\1 & 3.0\\end{matrix}\\right]$"
      ],
      "text/plain": [
       "<IPython.core.display.Latex object>"
      ]
     },
     "metadata": {},
     "output_type": "display_data"
    },
    {
     "data": {
      "text/latex": [
       "$\\lambda=\\left[\\begin{matrix}2.0\\\\4.0\\end{matrix}\\right]$"
      ],
      "text/plain": [
       "<IPython.core.display.Latex object>"
      ]
     },
     "metadata": {},
     "output_type": "display_data"
    },
    {
     "name": "stdout",
     "output_type": "stream",
     "text": [
      "===================================\n",
      "Solution 2:\n"
     ]
    },
    {
     "data": {
      "text/latex": [
       "$\\nabla^2 f(1.00,-1.00)=\\left[\\begin{matrix}3.0 & 1\\\\1 & 3.0\\end{matrix}\\right]$"
      ],
      "text/plain": [
       "<IPython.core.display.Latex object>"
      ]
     },
     "metadata": {},
     "output_type": "display_data"
    },
    {
     "data": {
      "text/latex": [
       "$\\lambda=\\left[\\begin{matrix}2.0\\\\4.0\\end{matrix}\\right]$"
      ],
      "text/plain": [
       "<IPython.core.display.Latex object>"
      ]
     },
     "metadata": {},
     "output_type": "display_data"
    },
    {
     "name": "stdout",
     "output_type": "stream",
     "text": [
      "===================================\n",
      "Solution 3:\n"
     ]
    },
    {
     "data": {
      "text/latex": [
       "$\\nabla^2 f(-0.58,-0.58)=\\left[\\begin{matrix}5.0 & 1\\\\1 & 5.0\\end{matrix}\\right]$"
      ],
      "text/plain": [
       "<IPython.core.display.Latex object>"
      ]
     },
     "metadata": {},
     "output_type": "display_data"
    },
    {
     "data": {
      "text/latex": [
       "$\\lambda=\\left[\\begin{matrix}4.0\\\\6.0\\end{matrix}\\right]$"
      ],
      "text/plain": [
       "<IPython.core.display.Latex object>"
      ]
     },
     "metadata": {},
     "output_type": "display_data"
    },
    {
     "name": "stdout",
     "output_type": "stream",
     "text": [
      "===================================\n",
      "Solution 4:\n"
     ]
    },
    {
     "data": {
      "text/latex": [
       "$\\nabla^2 f(0.58,0.58)=\\left[\\begin{matrix}5.0 & 1\\\\1 & 5.0\\end{matrix}\\right]$"
      ],
      "text/plain": [
       "<IPython.core.display.Latex object>"
      ]
     },
     "metadata": {},
     "output_type": "display_data"
    },
    {
     "data": {
      "text/latex": [
       "$\\lambda=\\left[\\begin{matrix}4.0\\\\6.0\\end{matrix}\\right]$"
      ],
      "text/plain": [
       "<IPython.core.display.Latex object>"
      ]
     },
     "metadata": {},
     "output_type": "display_data"
    }
   ],
   "source": [
    "for i,s in enumerate(sol):\n",
    "    print(\"===================================\")\n",
    "    print(\"Solution %i:\"%(i+1))\n",
    "    # display(Latex(\"$\"+latex(s)+\"$\"))\n",
    "    x_sol = [i.evalf() for i in s]\n",
    "    x_str = \",\".join([\"{:.2f}\".format(x) for x in x_sol])\n",
    "    H_sol = H.subs({x1:x_sol[0], x2:x_sol[1]})\n",
    "    H_sol_tex = r\"$\\nabla^2f=\"+latex(H)+\"$\"\n",
    "    display(Latex(r\"$\\nabla^2 f(%s)=\" %x_str + latex(H_sol) + \"$\"))\n",
    "\n",
    "    # Calculate eigenvalues  \n",
    "    eigen_values = list(H_sol.eigenvals().keys())  \n",
    "    eigen_values = [v.evalf() for v in eigen_values]  \n",
    "    eigen_values_matrix = sym.Matrix(eigen_values)      \n",
    "\n",
    "    # Display eigenvalues  \n",
    "    display(Latex(r\"$\\lambda=\"+latex(eigen_values_matrix) +\"$\"))\n",
    "    "
   ]
  },
  {
   "cell_type": "markdown",
   "metadata": {},
   "source": [
    "# Visualization"
   ]
  },
  {
   "cell_type": "code",
   "execution_count": 54,
   "metadata": {},
   "outputs": [
    {
     "name": "stderr",
     "output_type": "stream",
     "text": [
      "No artists with labels found to put in legend.  Note that artists whose label start with an underscore are ignored when legend() is called with no argument.\n"
     ]
    },
    {
     "data": {
      "image/png": "[encoded data removed]",
      "text/plain": [
       "<Figure size 640x480 with 2 Axes>"
      ]
     },
     "metadata": {},
     "output_type": "display_data"
    }
   ],
   "source": [
    "import matplotlib.pyplot as plt\n",
    "from matplotlib import ticker, cm\n",
    "\n",
    "# Problem definition\n",
    "lb = [-2,-2]\n",
    "ub = [2, 2]\n",
    "\n",
    "n_samples = 100\n",
    "x1 = np.linspace(lb[0],ub[0],n_samples)\n",
    "x2 = np.linspace(lb[1],ub[1],n_samples)\n",
    "X1, X2 = np.meshgrid(x1,x2)\n",
    "F = X1**2 + X1*X2 + X2**2 - np.log(np.abs(X1)) - np.log(np.abs(X2))\n",
    "\n",
    "# initialize figure\n",
    "fig, ax = plt.subplots()\n",
    "cf = ax.contourf(X1, X2, F,cmap=cm.coolwarm,zorder=-1)\n",
    "ax.contour(X1, X2, F,linestyles=\"-\",colors=\"k\",linewidths=0.5,zorder=-1)\n",
    "ax.set_xlabel(\"$x_1$\")\n",
    "ax.set_ylabel(\"$x_2$\")\n",
    "ax.axis('equal')\n",
    "ax.set_xlim((lb[0],ub[0]))\n",
    "ax.set_ylim((lb[1],ub[1]))\n",
    "ax.legend()\n",
    "fig.colorbar(cf, ax=ax, orientation='vertical', label=r\"$f(x_1,x_2)$\")\n",
    "\n",
    "handles = []; labels = []\n",
    "\n",
    "# minimizer\n",
    "hopt = ax.scatter(X_opt[:,0], X_opt[:,1], s = 70, marker=\"o\", color=\"m\", edgecolors=\"k\", linestyle=\"None\",label=\"$\\mathbf{x}^*$\",zorder=3)\n",
    "handles += [hopt]\n",
    "labels += [r\"$\\mathbf{x}^*$\"]\n",
    "\n",
    "# legend\n",
    "ax.set_xlabel(\"$x_1$\")\n",
    "ax.set_ylabel(\"$x_2$\")\n",
    "ax.axis(\"equal\")\n",
    "ax.set_xlim((lb[0],ub[0]))\n",
    "ax.set_ylim((lb[1],ub[1]))\n",
    "lx = fig.legend(handles, labels, loc=\"upper right\", ncol=1, fontsize = 14, bbox_to_anchor=(1.13, 0.75))\n",
    "plt.show()"
   ]
  }
 ],
 "metadata": {
  "kernelspec": {
   "display_name": "Python 3 (ipykernel)",
   "language": "python",
   "name": "python3"
  },
  "language_info": {
   "codemirror_mode": {
    "name": "ipython",
    "version": 3
   },
   "file_extension": ".py",
   "mimetype": "text/x-python",
   "name": "python",
   "nbconvert_exporter": "python",
   "pygments_lexer": "ipython3",
   "version": "3.8.10"
  }
 },
 "nbformat": 4,
 "nbformat_minor": 2
}
