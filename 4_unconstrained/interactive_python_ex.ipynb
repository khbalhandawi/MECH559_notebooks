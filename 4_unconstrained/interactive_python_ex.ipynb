{
 "cells": [
  {
   "cell_type": "markdown",
   "metadata": {},
   "source": [
    "# Background: Taylor's theorem\n",
    "\n",
    "Consider the function\n",
    "$$\n",
    "f(x) = \\dfrac{1}{1+x^2}\n",
    "$$\n",
    "\n",
    "its $k$ th order approximations at $a_1=0$ and $a_2=1$ are shown below"
   ]
  },
  {
   "cell_type": "code",
   "execution_count": 2,
   "metadata": {},
   "outputs": [
    {
     "data": {
      "application/vnd.jupyter.widget-view+json": {
       "model_id": "12ce3dedf3934a2bafdac2d78908ac65",
       "version_major": 2,
       "version_minor": 0
      },
      "text/plain": [
       "interactive(children=(IntText(value=1, description='k'), Output()), _dom_classes=('widget-interact',))"
      ]
     },
     "metadata": {},
     "output_type": "display_data"
    }
   ],
   "source": [
    "from ipywidgets import interact, interactive, fixed, interact_manual\n",
    "import ipywidgets as widgets\n",
    "\n",
    "import sympy as sym\n",
    "from sympy import lambdify\n",
    "import matplotlib.pyplot as plt\n",
    "import numpy as np\n",
    "import math\n",
    "\n",
    "x = sym.Symbol('x')\n",
    "f = 1/(1+x**2)\n",
    "\n",
    "# parameters\n",
    "a1 = 0\n",
    "a2 = 1\n",
    "\n",
    "# plot values\n",
    "x_plot = np.linspace(-1,3,100)\n",
    "f_plot = lambdify(x, f, modules=['numpy'])\n",
    "\n",
    "def plot_func(k):\n",
    "    # function approximation\n",
    "    fa_1 = 0; fa_2 = 0\n",
    "    for i in range(int(k)+1): \n",
    "        fk = sym.diff(f, x, i)\n",
    "        fk_plot = lambdify(x, fk, modules=['numpy'])\n",
    "        fa_1 += (fk_plot(a1)/math.factorial(i)) * ((x_plot - a1) ** i)\n",
    "        fa_2 += (fk_plot(a2)/math.factorial(i)) * ((x_plot - a2) ** i)\n",
    "\n",
    "    # plotting\n",
    "    fig, ax = plt.subplots(figsize=(7, 3))\n",
    "    ax.plot(x_plot, f_plot(x_plot),label='$f(x)$')\n",
    "    ax.plot(x_plot,fa_1,'-r',linewidth=0.5,label='$f_{a_1}(x)$')\n",
    "    ax.plot(x_plot,fa_2,'-g',linewidth=0.5,label='$f_{a_2}(x)$')\n",
    "    ax.plot(a1,f_plot(a1),'.r',label='$a_1$')\n",
    "    ax.plot(a2,f_plot(a2),'.g',label='$a_2$')\n",
    "    ax.set_xlabel('$x$')\n",
    "    ax.set_ylabel('$f(x)$')\n",
    "    ax.set_ylim((-0.5,1.5))\n",
    "    ax.set_title('taylor series approximation $k=%i$' %(k))\n",
    "    ax.legend(ncol=5,loc='lower left')\n",
    "    plt.show()\n",
    "\n",
    "interact(plot_func, k = widgets.IntText(value=1,\n",
    "                                        min=1,\n",
    "                                        max=16,\n",
    "                                        step=1));"
   ]
  }
 ],
 "metadata": {
  "kernelspec": {
   "display_name": "myenv",
   "language": "python",
   "name": "myenv"
  },
  "language_info": {
   "codemirror_mode": {
    "name": "ipython",
    "version": 3
   },
   "file_extension": ".py",
   "mimetype": "text/x-python",
   "name": "python",
   "nbconvert_exporter": "python",
   "pygments_lexer": "ipython3",
   "version": "3.10.9"
  },
  "vscode": {
   "interpreter": {
    "hash": "969e059bd48a136b861f414ce145c90412c8830f80b9d63122389940e0900f99"
   }
  }
 },
 "nbformat": 4,
 "nbformat_minor": 2
}
