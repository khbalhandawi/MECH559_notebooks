{
 "cells": [
  {
   "cell_type": "markdown",
   "id": "0778e20e",
   "metadata": {},
   "source": [
    "## example 2: infimum, supremum, max, and min of a 2D function\n",
    "\n",
    "(a) Find the inf and sup of the function\n",
    "\n",
    "$$\n",
    "f(x_1,x_2) = a x_1 + bx_2\n",
    "$$\n",
    "\n",
    "over the set \n",
    "\n",
    "$$\n",
    "\\mathcal{D} = \\left\\{x:x_1^2 + x_2^2 \\le 1, x_1>0, x_2>0\\right\\}\n",
    "$$\n",
    "\n",
    "---\n",
    "\n",
    "We examine the 2D function by plotting its isocontours and the set $\\mathcal{D}$. Note that dotted lines $\\not\\in \\mathcal{D}$"
   ]
  },
  {
   "cell_type": "markdown",
   "id": "5bdfabb6",
   "metadata": {},
   "source": [
    "Consider the isocontours $a x_1+b x_2 = c$. The line with the biggest value $c$ (least upper bound) is tangent to the circle \n",
    "\\begin{equation}\n",
    "\\tag{1}\n",
    "x_1^2 + x_2^2 = 1\n",
    "\\end{equation}\n",
    "The radial vector starting the center of the circle $(0,0)$ is perpendicular to this tangent. \n",
    "\n",
    "The slope of the line for this vector is $m = \\dfrac{b}{a}$, since the slope of $a x_1+b x_2 = c \\rightarrow x_2 = \\dfrac{c}{b} - \\dfrac{a}{b}x_1$ is $m = -\\dfrac{a}{b}$. \n",
    "\n",
    "The y-intercept is $b=0$ and the equation of the perpendicular line becomes:\n",
    "\n",
    "\\begin{equation}\n",
    "\\tag{2}\n",
    "x_2 = \\dfrac{b}{a}x_1\n",
    "\\end{equation}\n",
    "\n",
    "Solving Equations (1) and (2) yields\n",
    "\n",
    "$$\\mathbf{x}_\\text{sup} = \\left(\\sqrt{\\dfrac{1}{1+\\frac{b^2}{a^2}}},\\sqrt{\\dfrac{1}{1+\\frac{a^2}{b^2}}}\\right)$$\n",
    "\n",
    "This is shown on the figure above.\n",
    "\n",
    "The infimum occurs at \n",
    "\n",
    "$$\\mathbf{x}_\\text{inf} = \\left(0,0\\right)$$\n",
    "\n",
    "The value of $f$ at the supremum is\n",
    "$$f(\\mathbf{x}_\\text{sup}) = \\sqrt{\\dfrac{a^2}{1+\\frac{b^2}{a^2}}} + \\sqrt{\\dfrac{b^2}{1+\\frac{a^2}{b^2}}}$$"
   ]
  },
  {
   "cell_type": "code",
   "execution_count": 6,
   "id": "12dff5b2",
   "metadata": {
    "scrolled": false
   },
   "outputs": [
    {
     "data": {
      "application/vnd.jupyter.widget-view+json": {
       "model_id": "c17503775ed34cf8beffa4af878615ca",
       "version_major": 2,
       "version_minor": 0
      },
      "text/plain": [
       "interactive(children=(FloatSlider(value=1.0, description='a', max=5.0, min=1.0), FloatSlider(value=1.0, descri…"
      ]
     },
     "metadata": {},
     "output_type": "display_data"
    }
   ],
   "source": [
    "import numpy as np\n",
    "import matplotlib.pyplot as plt\n",
    "from matplotlib import cm\n",
    "from ipywidgets import interact, FloatSlider\n",
    "\n",
    "# Independent parameters\n",
    "x1 = np.linspace(-0.1, 1.2, 100)\n",
    "x2 = np.linspace(-0.1, 1.2, 100)\n",
    "\n",
    "# Meshgrid for contour plot\n",
    "X1, X2 = np.meshgrid(x1, x2)\n",
    "\n",
    "# Dependent variables\n",
    "def f(X1, X2, a, b):\n",
    "    return a*X1 + b*X2\n",
    "\n",
    "# Constraint function\n",
    "def y_cstr(x1):\n",
    "    return np.sqrt(1 - x1**2)\n",
    "\n",
    "x_sup = lambda a,b : np.array([np.sqrt(1 / (1 + (b/a) ** 2)),np.sqrt(1 / (1 + (a/b) ** 2))])\n",
    "x_inf = np.array([0,0])\n",
    "\n",
    "def plot(a=1.0, b=1.0):\n",
    "\n",
    "    # optimum isocontours\n",
    "    f_sup = a*x_sup(a,b)[0] + b*x_sup(a,b)[1]\n",
    "    y_iso = lambda x : (f_sup - a*x) / b\n",
    "    y_iso_perpindicular = lambda x : (b/a)*x\n",
    "\n",
    "    x1 = np.linspace(0,1,100)\n",
    "\n",
    "    # Active constraint\n",
    "    plt.figure(figsize=(8,8))\n",
    "    contour = plt.contour(X1, X2, f(X1, X2, a, b), levels=5, colors='black')\n",
    "    plt.clabel(contour, inline=1, fontsize=10)\n",
    "    plt.plot(x1, y_cstr(x1), lw = 2, label=\"${x_1}^2 + {x_2}^2 \\leq 1$\")\n",
    "    plt.plot([0,1], [0,0], lw = 2, linestyle='dashed', label=\"$x_2 > 0$\")\n",
    "    plt.plot([0,0], [0,1], lw = 2, linestyle='dashed', label=\"$x_1 > 0$\")\n",
    "    plt.plot(x1, y_iso(x1), lw = 3, label=\"least upper bound: $x_1 + 2x_2 = \\sqrt{5}$\")\n",
    "    \n",
    "    plt.plot(x1, y_iso_perpindicular(x1), lw = 3, label=\"$\\mathrm{perpindicular:}~\\frac{b}{a}x_1 - x_2 = 0$\")\n",
    "    plt.scatter(x_sup(a,b)[0], x_sup(a,b)[1], label=\"$\\mathbf{x}_\\mathrm{sup}$\", zorder=2)\n",
    "    plt.scatter(x_inf[0], x_inf[1], label=\"$\\mathbf{x}_\\mathrm{inf}$\", zorder=2)\n",
    "    \n",
    "    plt.xlabel(\"$x_1$\")\n",
    "    plt.ylabel(\"$x_2$\")\n",
    "    plt.ylim(-0.1,1.2)\n",
    "    plt.xlim(-0.1,1.2)\n",
    "    plt.legend(bbox_to_anchor=(1.0, 1.0),loc='upper left')\n",
    "    plt.show()\n",
    "\n",
    "# Create interactive plot with sliders for a and b\n",
    "interact(plot, a=FloatSlider(min=1, max=5, step=0.1, value=1), b=FloatSlider(min=1, max=5, step=0.1, value=1));"
   ]
  },
  {
   "cell_type": "markdown",
   "id": "ee50a75c",
   "metadata": {},
   "source": [
    "## example 3: a 3D function\n",
    "\n",
    "Does the following function \n",
    "\n",
    "$$\n",
    "f(\\mathbf{x}) = x_1^2 + \\exp{\\left(x_2\\right)} + \\exp\\left(-x_2\\right) + 3x_3^4 \n",
    "$$\n",
    "\n",
    "over the set\n",
    "\n",
    "$$\n",
    "\\mathcal{D} = \\left\\{\\mathbf{x}:a\\left(x_1 - i\\right)^2 + b\\left(x_2 - j\\right)^2 + c\\left(x_3 - k\\right)^2 \\leq 1\\right\\}\n",
    "$$\n",
    "\n",
    "---\n",
    "\n",
    "We visualize the ellipsoids that describes the boundary of the set $\\mathcal{D}$ below"
   ]
  },
  {
   "cell_type": "code",
   "execution_count": 7,
   "id": "045de275",
   "metadata": {
    "scrolled": false
   },
   "outputs": [
    {
     "data": {
      "application/vnd.jupyter.widget-view+json": {
       "model_id": "32eff3cf9b6f4ad18a00d02914414d59",
       "version_major": 2,
       "version_minor": 0
      },
      "text/plain": [
       "interactive(children=(FloatSlider(value=1.0, description='a', max=5.0, min=1.0, step=0.5), FloatSlider(value=1…"
      ]
     },
     "metadata": {},
     "output_type": "display_data"
    }
   ],
   "source": [
    "import numpy as np\n",
    "import matplotlib.pyplot as plt\n",
    "from mpl_toolkits.mplot3d import Axes3D\n",
    "from ipywidgets import interact, FloatSlider\n",
    "\n",
    "def ellipsoid(center, coefs, ngrid=25):\n",
    "    rx, ry, rz = 1 / np.sqrt(coefs)\n",
    "\n",
    "    u = np.linspace(0, 2*np.pi, ngrid)\n",
    "    v = np.linspace(0, np.pi, ngrid)\n",
    "\n",
    "    x = rx * np.outer(np.cos(u), np.sin(v)) + center[0]\n",
    "    y = ry * np.outer(np.sin(u), np.sin(v)) + center[1]\n",
    "    z = rz * np.outer(np.ones_like(u), np.cos(v)) + center[2]\n",
    "\n",
    "    return x, y, z\n",
    "\n",
    "def plot(a=1.0, b=1.0, c=1.0, i=0.0, j=0.0, k=0.0):\n",
    "    A = np.array([a, b, c]) \n",
    "    C = np.array([i, j, k])\n",
    "\n",
    "    x, y, z = ellipsoid(C, A)\n",
    "\n",
    "    fig = plt.figure()\n",
    "    ax = fig.add_subplot(111, projection='3d')\n",
    "    ax.plot_surface(x, y, z, color='b', alpha=0.5)\n",
    "\n",
    "    ax.set_xlabel(\"$x_1$\")\n",
    "    ax.set_ylabel(\"$x_2$\")\n",
    "    ax.set_zlabel(\"$x_3$\")\n",
    "    ax.set_xlim(-1.2, 1.2)\n",
    "    ax.set_ylim(-1.2, 1.2)\n",
    "    ax.set_zlim(-1.2, 1.2)\n",
    "    ax.set_box_aspect([1,1,1])\n",
    "    \n",
    "    plt.show()\n",
    "\n",
    "# Create interactive plot with sliders\n",
    "interact(plot, \n",
    "         a=FloatSlider(min=1, max=5, step=0.5, value=1),\n",
    "         b=FloatSlider(min=1, max=5, step=0.5, value=1),\n",
    "         c=FloatSlider(min=1, max=5, step=0.5, value=1),\n",
    "         i=FloatSlider(min=-0.5, max=0.5, step=0.1, value=0),\n",
    "         j=FloatSlider(min=-0.5, max=0.5, step=0.1, value=0),\n",
    "         k=FloatSlider(min=-0.5, max=0.5, step=0.1, value=0));"
   ]
  },
  {
   "cell_type": "markdown",
   "id": "6abe7490",
   "metadata": {},
   "source": [
    "## Example of interior optima (inactive constraints)\n",
    "\n",
    "Consider the following optimization problem\n",
    "\n",
    "\\begin{equation*}\n",
    "\t\\begin{aligned}\n",
    "\t\t& \\underset{x_1,x_2}{\\text{minimize}}\n",
    "\t\t& & f(x_1,x_2) = \\sqrt{\\left(x_1-1\\right)^2 + \\left(x_2-1\\right)^2}\\\\\n",
    "\t\t& \\text{subject to}\n",
    "\t\t& & g(x_1,x_2;a) = \\dfrac{1}{ax_1x_2} - 1 \\le 0\\\\\n",
    "\t\\end{aligned}\n",
    "\\end{equation*}\n",
    "\n",
    "The activity of the constraint depends on the value of the constraint parameter $a$"
   ]
  },
  {
   "cell_type": "code",
   "execution_count": 10,
   "id": "e5375bec",
   "metadata": {},
   "outputs": [
    {
     "data": {
      "application/vnd.jupyter.widget-view+json": {
       "model_id": "2eca5e9d96674b5eaf29552576a6e249",
       "version_major": 2,
       "version_minor": 0
      },
      "text/plain": [
       "interactive(children=(FloatSlider(value=0.5, description='a', max=2.0, min=0.5), Output()), _dom_classes=('wid…"
      ]
     },
     "metadata": {},
     "output_type": "display_data"
    }
   ],
   "source": [
    "import numpy as np\n",
    "import matplotlib.pyplot as plt\n",
    "from ipywidgets import interact, FloatSlider\n",
    "\n",
    "# Independent parameters\n",
    "x1 = np.linspace(0, 2, 30)\n",
    "x2 = np.linspace(0, 2, 30)\n",
    "X1, X2 = np.meshgrid(x1, x2)\n",
    "\n",
    "# Dependant variables\n",
    "f = lambda x1, x2: np.sqrt((x1 - 1) ** 2 + (x2 - 1) ** 2)\n",
    "g = lambda x1, x2, a: 1 / (a * x1 * x2) - 1\n",
    "\n",
    "# Constraint function\n",
    "y_cstr = lambda x1, a: 1 / ((a * x1)+1e-3)\n",
    "\n",
    "# Optimal variables\n",
    "μ = lambda a: - np.sqrt(2) * abs(np.sqrt(a) - 1) / (2 * (a - np.sqrt(a))+1e-6)\n",
    "x1_opt = lambda a: np.sqrt(a) / a if μ(a) > 0 else 1\n",
    "x2_opt = lambda a: np.sqrt(a) / a if μ(a) > 0 else 1\n",
    "\n",
    "def plot(a=0.5):\n",
    "    plt.figure(figsize=(8,8))\n",
    "    plt.contourf(X1, X2, f(X1, X2), levels=10, cmap='jet')\n",
    "    plt.colorbar(label=\"f(x)\")\n",
    "    plt.plot(x1, y_cstr(x1, a), linewidth=3, label=\"g(x) <= 0\")\n",
    "    plt.scatter([x1_opt(a)], [x2_opt(a)], s=70, label=\"x*\", color='red')\n",
    "    plt.xlabel(\"x1\")\n",
    "    plt.ylabel(\"x2\")\n",
    "    plt.ylim(0,2)\n",
    "    plt.xlim(0,2)\n",
    "    plt.legend()\n",
    "    if μ(a) < 0:\n",
    "        plt.title(f\"Inactive constraint, a={a}\")\n",
    "    else:\n",
    "        plt.title(f\"Active constraint, a={a}\")\n",
    "    plt.show()\n",
    "\n",
    "# Create interactive plot with slider for a\n",
    "interact(plot, a=FloatSlider(min=0.5, max=2, step=0.1, value=0.5));"
   ]
  }
 ],
 "metadata": {
  "@webio": {
   "lastCommId": null,
   "lastKernelId": null
  },
  "kernelspec": {
   "display_name": "myenv",
   "language": "python",
   "name": "myenv"
  },
  "language_info": {
   "codemirror_mode": {
    "name": "ipython",
    "version": 3
   },
   "file_extension": ".py",
   "mimetype": "text/x-python",
   "name": "python",
   "nbconvert_exporter": "python",
   "pygments_lexer": "ipython3",
   "version": "3.10.9"
  },
  "varInspector": {
   "cols": {
    "lenName": 16,
    "lenType": 16,
    "lenVar": 40
   },
   "kernels_config": {
    "python": {
     "delete_cmd_postfix": "",
     "delete_cmd_prefix": "del ",
     "library": "var_list.py",
     "varRefreshCmd": "print(var_dic_list())"
    },
    "r": {
     "delete_cmd_postfix": ") ",
     "delete_cmd_prefix": "rm(",
     "library": "var_list.r",
     "varRefreshCmd": "cat(var_dic_list()) "
    }
   },
   "types_to_exclude": [
    "module",
    "function",
    "builtin_function_or_method",
    "instance",
    "_Feature"
   ],
   "window_display": false
  }
 },
 "nbformat": 4,
 "nbformat_minor": 5
}
