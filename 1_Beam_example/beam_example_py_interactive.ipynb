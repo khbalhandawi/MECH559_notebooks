{
 "cells": [
  {
   "cell_type": "markdown",
   "id": "250534c0",
   "metadata": {},
   "source": [
    "## 1D example"
   ]
  },
  {
   "cell_type": "code",
   "execution_count": 10,
   "id": "9ddea19f",
   "metadata": {},
   "outputs": [
    {
     "data": {
      "application/vnd.jupyter.widget-view+json": {
       "model_id": "84608990cf4e41cfa758a4db8a6a02e5",
       "version_major": 2,
       "version_minor": 0
      },
      "text/plain": [
       "interactive(children=(IntSlider(value=300, description='P_pareto', max=600, min=100, step=10), Output()), _dom…"
      ]
     },
     "metadata": {},
     "output_type": "display_data"
    }
   ],
   "source": [
    "import numpy as np\n",
    "import matplotlib.pyplot as plt\n",
    "from ipywidgets import interact, interactive, fixed, interact_manual\n",
    "import ipywidgets as widgets\n",
    "\n",
    "# Parameters\n",
    "ρ = 7.85e-6 #kg/mm3\n",
    "L = 200 # mm\n",
    "b = 20 # mm\n",
    "\n",
    "def plot_func(P_pareto):\n",
    "    # constraint bound parameter\n",
    "    σ_y_pareto = np.arange(100, 1110, 10)\n",
    "\n",
    "    # Pareto front\n",
    "    σ_max_opt = σ_y_pareto\n",
    "    W_opt = np.sqrt(6)*ρ*np.sqrt(b)*np.sqrt(P_pareto)*L**(3/2) / σ_y_pareto\n",
    "\n",
    "    # Pareto plot\n",
    "    plt.plot(W_opt, σ_max_opt, label=\"P=\"+str(P_pareto))\n",
    "    plt.xlabel(\"$f_1 = σ_\\mathrm{max}(h^*)$ (MPa)\")\n",
    "    plt.ylabel(\"$f_2 = W(h^*)$ (kg)\")\n",
    "    \n",
    "    plt.ylim(50,750)\n",
    "    plt.xlim(0,0.06)\n",
    "    plt.legend()\n",
    "    plt.show()\n",
    "\n",
    "interact(plot_func, P_pareto=widgets.IntSlider(min=100,max=600,step=10,value=300));"
   ]
  },
  {
   "cell_type": "markdown",
   "id": "dcfa7e33",
   "metadata": {},
   "source": [
    "## 2 design variables (2D example)\n"
   ]
  },
  {
   "cell_type": "code",
   "execution_count": 6,
   "id": "98651ddc",
   "metadata": {
    "scrolled": false
   },
   "outputs": [
    {
     "data": {
      "application/vnd.jupyter.widget-view+json": {
       "model_id": "f61b60c499a44bfa96d4ccccae8028fb",
       "version_major": 2,
       "version_minor": 0
      },
      "text/plain": [
       "interactive(children=(IntSlider(value=200, description='σ_y', max=600, min=100, step=25), Output()), _dom_clas…"
      ]
     },
     "metadata": {},
     "output_type": "display_data"
    }
   ],
   "source": [
    "from ipywidgets import interact, interactive, fixed, interact_manual\n",
    "import ipywidgets as widgets\n",
    "import numpy as np\n",
    "import matplotlib.pyplot as plt\n",
    "from matplotlib import cm\n",
    "from scipy.optimize import fmin\n",
    "\n",
    "\n",
    "def plot_func(σ_y):\n",
    "    \n",
    "    # Parameters\n",
    "    ρ = 7.85e-6 #kg/mm3\n",
    "    P = 300 # N\n",
    "    L = 200 # mm\n",
    "\n",
    "    # independent parameters\n",
    "    h_2D = np.linspace(1,30,30) # mm\n",
    "    b_2D = np.linspace(1,40,30) # mm\n",
    "\n",
    "    # Meshgrid for contour plot\n",
    "    H_2D, B_2D = np.meshgrid(h_2D, b_2D)\n",
    "\n",
    "    # dependent variables\n",
    "    W = lambda b,h : ρ*b*h*L\n",
    "    σ_max = lambda b,h : (6*P*L) / (b*h**2)\n",
    "\n",
    "    # constraint function\n",
    "    b_cstr = lambda h,σ_y : (6*P*L) / (σ_y*h**2)\n",
    "\n",
    "    # optimal variables\n",
    "    b_opt = lambda σ_y : (σ_y**3*((18*L**5*P**2*ρ**3)/σ_y**5)**(2/3))/(6*L**3*P*ρ**2)\n",
    "    h_opt = lambda σ_y : (σ_y**3*((18*L**5*P**2*ρ**3)/σ_y**5)**(2/3))/(3*L**3*P*ρ**2)\n",
    "\n",
    "    fig, (ax1, ax2) = plt.subplots(1, 2, figsize=(10,5))\n",
    "\n",
    "    # Weight plot\n",
    "    contour = ax1.contourf(H_2D, B_2D, W(H_2D,B_2D), levels=30, cmap='jet')\n",
    "    fig.colorbar(contour, ax=ax1, label=\"W (kg)\")\n",
    "    ax1.set_xlim(0, 30)\n",
    "    ax1.set_ylim(0, 20)\n",
    "    ax1.set_xlabel(\"h (mm)\")\n",
    "    ax1.set_ylabel(\"b (mm)\")\n",
    "\n",
    "\n",
    "    # Pareto plot\n",
    "    σ_y_pareto = np.arange(100, 625, 25)\n",
    "    ax2.plot(σ_max(b_opt(σ_y_pareto),h_opt(σ_y_pareto)), W(b_opt(σ_y_pareto),h_opt(σ_y_pareto)), label=\"Pareto front\")\n",
    "    ax2.set_xlabel(\"$f_1 = σ_\\mathrm{max}}(\\mathbf{x}^*)$ (MPa)\")\n",
    "    ax2.set_ylabel(\"$f_2 = W(\\mathbf{x}^*)$ (kg)\")\n",
    "    \n",
    "    \n",
    "    ax1.plot(h_2D, b_cstr(h_2D,σ_y), lw=3, label=\"$\\sigma_\\mathrm{max} ≤ \\sigma_y$\",color=\"orange\")\n",
    "    ax1.scatter(h_opt(σ_y), b_opt(σ_y), s=50, label=\"$\\mathbf{x}^*$\",color=\"g\",zorder=2)\n",
    "    ax2.scatter(σ_max(b_opt(σ_y),h_opt(σ_y)), W(b_opt(σ_y),h_opt(σ_y)), label=\"$\\sigma_y$ = \" + str(σ_y),color=\"g\")\n",
    "\n",
    "    ax1.legend()\n",
    "    ax2.legend()\n",
    "\n",
    "    plt.tight_layout()\n",
    "    plt.show()\n",
    "\n",
    "interact(plot_func, σ_y=widgets.IntSlider(min=100,max=600,step=25,value=200));"
   ]
  }
 ],
 "metadata": {
  "@webio": {
   "lastCommId": null,
   "lastKernelId": null
  },
  "kernelspec": {
   "display_name": "myenv",
   "language": "python",
   "name": "myenv"
  },
  "language_info": {
   "codemirror_mode": {
    "name": "ipython",
    "version": 3
   },
   "file_extension": ".py",
   "mimetype": "text/x-python",
   "name": "python",
   "nbconvert_exporter": "python",
   "pygments_lexer": "ipython3",
   "version": "3.10.9"
  },
  "varInspector": {
   "cols": {
    "lenName": 16,
    "lenType": 16,
    "lenVar": 40
   },
   "kernels_config": {
    "python": {
     "delete_cmd_postfix": "",
     "delete_cmd_prefix": "del ",
     "library": "var_list.py",
     "varRefreshCmd": "print(var_dic_list())"
    },
    "r": {
     "delete_cmd_postfix": ") ",
     "delete_cmd_prefix": "rm(",
     "library": "var_list.r",
     "varRefreshCmd": "cat(var_dic_list()) "
    }
   },
   "types_to_exclude": [
    "module",
    "function",
    "builtin_function_or_method",
    "instance",
    "_Feature"
   ],
   "window_display": false
  }
 },
 "nbformat": 4,
 "nbformat_minor": 5
}
